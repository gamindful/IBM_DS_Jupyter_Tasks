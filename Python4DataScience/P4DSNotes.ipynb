{
 "cells": [
  {
   "cell_type": "raw",
   "id": "4f3913d1-a155-4916-99b9-74ce63e5240d",
   "metadata": {},
   "source": [
    "title: 'Notes for Python for Data Sience'\n",
    "author: 'Gamaliel Mendoza'\n",
    "date: \"{{ datetime.now().strftime('%Y-%m-%d') }}\""
   ]
  },
  {
   "cell_type": "code",
   "execution_count": 1,
   "id": "62d7cf75-5a27-42a3-8f0f-0749f571b838",
   "metadata": {},
   "outputs": [],
   "source": [
    "# load pretty jupyter's magics\n",
    "%load_ext pretty_jupyter"
   ]
  },
  {
   "cell_type": "markdown",
   "id": "31f4e24e-d3c2-48d6-808e-b5266109cb5a",
   "metadata": {},
   "source": [
    "# Module 1"
   ]
  },
  {
   "cell_type": "code",
   "execution_count": 2,
   "id": "c28b2440-e328-4424-b6ae-25e6850fe177",
   "metadata": {},
   "outputs": [],
   "source": [
    "#import ipynbname\n",
    "import urllib.request\n",
    "from IPython.display import Image, display\n",
    "#notebook_name = ipynbname.name()\n",
    "import os\n",
    "MyModule='C:/Users/Gamaliel/Documents/G/ADD/IBM_DS/Python4DS/Mine/'\n",
    "whichDir=MyModule\n",
    "os.chdir(whichDir)"
   ]
  },
  {
   "cell_type": "code",
   "execution_count": 3,
   "id": "e5ff7c98-8c07-4001-9218-c4425d3d9dc2",
   "metadata": {},
   "outputs": [],
   "source": [
    "#notebook_name"
   ]
  },
  {
   "cell_type": "markdown",
   "id": "f59df538-9e7b-440b-bd7a-0925821b120a",
   "metadata": {},
   "source": [
    "## Data types\n",
    "* Words\n",
    "    * Strings\n",
    "        * 'A'\n",
    "    * Numbers -> integers\n",
    "        * int('1')\n",
    "* Numbers\n",
    "    * int\n",
    "        * positive or negative\n",
    "    * float\n",
    "        * between integers (0.1)\n",
    "    * boolean\n",
    "        * True (T,1) or False (F,0)\n",
    "            * bool(1) bool(0)"
   ]
  },
  {
   "cell_type": "code",
   "execution_count": 4,
   "id": "f415eb51-adec-4b95-a775-3e1aa1b5e39d",
   "metadata": {},
   "outputs": [
    {
     "name": "stdout",
     "output_type": "stream",
     "text": [
      "1.2\n",
      "1\n",
      "1\n",
      "True\n",
      "1.0\n"
     ]
    }
   ],
   "source": [
    "# Exchange formats\n",
    "print(str(1.2))\n",
    "print(str(1))\n",
    "print(int(True))\n",
    "print(bool(1))\n",
    "print(float(True))"
   ]
  },
  {
   "cell_type": "code",
   "execution_count": 5,
   "id": "7b1d7807-ac76-4d07-9175-f25f7215319e",
   "metadata": {},
   "outputs": [
    {
     "data": {
      "text/plain": [
       "sys.float_info(max=1.7976931348623157e+308, max_exp=1024, max_10_exp=308, min=2.2250738585072014e-308, min_exp=-1021, min_10_exp=-307, dig=15, mant_dig=53, epsilon=2.220446049250313e-16, radix=2, rounds=1)"
      ]
     },
     "execution_count": 5,
     "metadata": {},
     "output_type": "execute_result"
    }
   ],
   "source": [
    "import sys\n",
    "sys.float_info"
   ]
  },
  {
   "cell_type": "markdown",
   "id": "6ffd54d3-171f-45f1-84d9-0437290960e5",
   "metadata": {},
   "source": [
    "### Integers (int)"
   ]
  },
  {
   "cell_type": "code",
   "execution_count": 6,
   "id": "1c5625a0-a338-45b1-ac5d-5b0bf8bc1a3b",
   "metadata": {},
   "outputs": [
    {
     "data": {
      "text/plain": [
       "3"
      ]
     },
     "execution_count": 6,
     "metadata": {},
     "output_type": "execute_result"
    }
   ],
   "source": [
    "int(3.99)"
   ]
  },
  {
   "cell_type": "markdown",
   "id": "1b8da148-5157-4369-9bba-caf88f104a2c",
   "metadata": {},
   "source": [
    "### Float"
   ]
  },
  {
   "cell_type": "code",
   "execution_count": 7,
   "id": "14beeaff-9c80-45da-83fb-dab158ae1c37",
   "metadata": {},
   "outputs": [
    {
     "data": {
      "text/plain": [
       "3.0"
      ]
     },
     "execution_count": 7,
     "metadata": {},
     "output_type": "execute_result"
    }
   ],
   "source": [
    "float(3)"
   ]
  },
  {
   "cell_type": "markdown",
   "id": "1d8567ce-2ba6-4da1-9952-5ce7dc05ad4c",
   "metadata": {},
   "source": [
    "### Boolean"
   ]
  },
  {
   "cell_type": "code",
   "execution_count": 8,
   "id": "2147b46e-7cb7-4ac9-addf-d1d06f360104",
   "metadata": {},
   "outputs": [
    {
     "name": "stdout",
     "output_type": "stream",
     "text": [
      "True\n",
      "False\n",
      "True\n",
      "False\n"
     ]
    },
    {
     "data": {
      "text/plain": [
       "True"
      ]
     },
     "execution_count": 8,
     "metadata": {},
     "output_type": "execute_result"
    }
   ],
   "source": [
    "print(True)\n",
    "print(False)\n",
    "print(bool(1))\n",
    "print(bool(0))\n",
    "bool(int('1'))"
   ]
  },
  {
   "cell_type": "markdown",
   "id": "04ff3acb-7fbb-4cc2-b1b1-1524ae57f74d",
   "metadata": {},
   "source": [
    "### String"
   ]
  },
  {
   "cell_type": "code",
   "execution_count": 9,
   "id": "f57770bc-919c-427d-b3f8-17a19f5664ee",
   "metadata": {},
   "outputs": [],
   "source": [
    "## String operations\n",
    "name=\"Michael Jackson \""
   ]
  },
  {
   "cell_type": "markdown",
   "id": "4dd90040-88da-4034-a3f1-2056e961429d",
   "metadata": {},
   "source": [
    "#### Slicing"
   ]
  },
  {
   "cell_type": "code",
   "execution_count": 10,
   "id": "3971cf4b-d13e-411e-942a-9efff46fa8e2",
   "metadata": {},
   "outputs": [
    {
     "name": "stdout",
     "output_type": "stream",
     "text": [
      "name[::2]: McalJcsn\n"
     ]
    }
   ],
   "source": [
    "print('name[::2]:',name[::2])"
   ]
  },
  {
   "cell_type": "markdown",
   "id": "f4ab6e2c-5dd7-4e18-8581-8a69cedc754f",
   "metadata": {},
   "source": [
    "#### Stride"
   ]
  },
  {
   "cell_type": "code",
   "execution_count": 11,
   "id": "aa6691b8-8b67-403e-bef8-3a60edd0c02f",
   "metadata": {},
   "outputs": [
    {
     "name": "stdout",
     "output_type": "stream",
     "text": [
      "name[0:7:2]: Mcal\n"
     ]
    }
   ],
   "source": [
    "print('name[0:7:2]:',name[0:7:2])"
   ]
  },
  {
   "cell_type": "markdown",
   "id": "26cdfd95-7247-4bcd-8cad-61b0a5a57cff",
   "metadata": {},
   "source": [
    "#### Concatenation"
   ]
  },
  {
   "cell_type": "code",
   "execution_count": 12,
   "id": "151e9946-ee87-433a-a038-8a4e1e409856",
   "metadata": {},
   "outputs": [
    {
     "data": {
      "text/plain": [
       "'Michael Jackson is the bestMichael Jackson is the bestMichael Jackson is the best'"
      ]
     },
     "execution_count": 12,
     "metadata": {},
     "output_type": "execute_result"
    }
   ],
   "source": [
    "Statement=name+\"is the best\"\n",
    "Statement\n",
    "3*Statement"
   ]
  },
  {
   "cell_type": "markdown",
   "id": "7896f902-6734-4328-b2b0-8fc630fd381b",
   "metadata": {},
   "source": [
    "#### Escape sequences"
   ]
  },
  {
   "cell_type": "code",
   "execution_count": 13,
   "id": "94a71321-ed33-452e-9dfb-87b12653edcd",
   "metadata": {},
   "outputs": [
    {
     "name": "stdout",
     "output_type": "stream",
     "text": [
      "1: Michael Jackson is the best\n",
      "2: Michael Jackson /n is the best\n",
      "3: /t Michael Jackson /n is the best\n",
      "4: Michael Jackson // is the best\n",
      "5: Michael Jackson / is the best\n"
     ]
    },
    {
     "data": {
      "text/plain": [
       "['Michael', 'Jackson', 'is', 'the', 'best']"
      ]
     },
     "execution_count": 13,
     "metadata": {},
     "output_type": "execute_result"
    }
   ],
   "source": [
    "#print(len(name))\n",
    "# / are meant to proceed escape sequences\n",
    "# Escape sequences are strings that are difficult to input\n",
    "print(\"1: Michael Jackson is the best\")\n",
    "print(\"2: Michael Jackson /n is the best\")\n",
    "print(\"3: /t Michael Jackson /n is the best\")\n",
    "print(\"4: Michael Jackson // is the best\")\n",
    "# /n: newline; /t: tab; \n",
    "print(r\"5: Michael Jackson / is the best\")\n",
    "split_string=Statement.split()\n",
    "split_string"
   ]
  },
  {
   "cell_type": "markdown",
   "id": "66573dcd-e6de-457c-ae30-b21cbda2112c",
   "metadata": {},
   "source": [
    "#### String opertions"
   ]
  },
  {
   "cell_type": "code",
   "execution_count": 14,
   "id": "6a453d9d-f24e-4272-801d-f8ed903109ab",
   "metadata": {},
   "outputs": [
    {
     "name": "stdout",
     "output_type": "stream",
     "text": [
      "Thriller is the sixth studio audio\n",
      "THRILLER IS THE SIXTH STUDIO AUDIO\n",
      "Janet Jackson \n",
      "5\n",
      "8\n",
      "-1\n"
     ]
    }
   ],
   "source": [
    "# Sequence methods\n",
    "# String methods\n",
    "A=\"Thriller is the sixth studio audio\";\n",
    "B=A.upper()\n",
    "print(A)\n",
    "print(B)\n",
    "C=name.replace('Michael','Janet')\n",
    "print(C)\n",
    "print(name.find('el'))\n",
    "print(name.find('Jack'))\n",
    "# output is -1 if not found\n",
    "print(name.find('jack')) # case-sensitive"
   ]
  },
  {
   "cell_type": "markdown",
   "id": "09fa2a46-3982-40d4-91d0-8499ffbf71ad",
   "metadata": {},
   "source": [
    "##### String interpolation\n",
    "Introduced in Python 3.6, f-strings are a new way to format strings in Python. They are prefixed with 'f' and use curly braces {} to enclose the variables that will be formatted. For example:"
   ]
  },
  {
   "cell_type": "code",
   "execution_count": 15,
   "id": "bb75b030-b354-40d1-94f5-9ca6ecff9440",
   "metadata": {},
   "outputs": [
    {
     "name": "stdout",
     "output_type": "stream",
     "text": [
      "My name is John and I am 30 years old.\n"
     ]
    }
   ],
   "source": [
    "name = \"John\"\n",
    "age = 30\n",
    "print(f\"My name is {name} and I am {age} years old.\")"
   ]
  },
  {
   "cell_type": "code",
   "execution_count": 16,
   "id": "a4b3ad17-146d-4eb4-8be8-fdf926ed8110",
   "metadata": {},
   "outputs": [
    {
     "name": "stdout",
     "output_type": "stream",
     "text": [
      "My name is John and I am 50 years old.\n"
     ]
    }
   ],
   "source": [
    "name = \"John\"\n",
    "age = 50\n",
    "print(\"My name is {} and I am {} years old.\".format(name, age))"
   ]
  },
  {
   "cell_type": "markdown",
   "id": "327456af-5b21-4674-9240-fe39a25eaf83",
   "metadata": {},
   "source": [
    "In the code below:\n",
    "* “My name is %s and I am %d years old.“: This is a string that includes format specifiers:\n",
    "    * %s: This is a placeholder for a string.\n",
    "    * %d: This is a placeholder for an integer.\n",
    "    * % (name, age): This is a tuple containing the variables name and age.\n",
    "* The values of these variables will replace the placeholders in the string."
   ]
  },
  {
   "cell_type": "code",
   "execution_count": 17,
   "id": "cc18ceaa-ffcb-40b4-97fd-2bd63d4acf54",
   "metadata": {},
   "outputs": [
    {
     "name": "stdout",
     "output_type": "stream",
     "text": [
      "My name is Johnathan and I am 30 years old.\n"
     ]
    }
   ],
   "source": [
    "name = \"Johnathan\"\n",
    "age = 30\n",
    "print(\"My name is %s and I am %d years old.\" % (name, age))"
   ]
  },
  {
   "cell_type": "code",
   "execution_count": 18,
   "id": "44d2ed93-6836-4e2d-b86b-805c5ecae0c6",
   "metadata": {},
   "outputs": [
    {
     "name": "stdout",
     "output_type": "stream",
     "text": [
      "The sum of x and y is 30.\n"
     ]
    }
   ],
   "source": [
    "x = 10\n",
    "y = 20\n",
    "print(f\"The sum of x and y is {x+y}.\")"
   ]
  },
  {
   "cell_type": "markdown",
   "id": "bbe2a4b1-b183-4838-8af2-efbc4776118c",
   "metadata": {},
   "source": [
    "##### Raw string (r' ')"
   ]
  },
  {
   "cell_type": "code",
   "execution_count": 19,
   "id": "fcfd45d3-db1d-4730-b179-b8e88564e0db",
   "metadata": {},
   "outputs": [
    {
     "name": "stdout",
     "output_type": "stream",
     "text": [
      "Regular String: C:/new_folder/file.txt\n",
      "Raw String: C:/new_folder/file.txt\n"
     ]
    }
   ],
   "source": [
    "regular_string = \"C:/new_folder/file.txt\"\n",
    "print(\"Regular String:\", regular_string)\n",
    "raw_string = r\"C:/new_folder/file.txt\"\n",
    "print(\"Raw String:\", raw_string)"
   ]
  },
  {
   "cell_type": "markdown",
   "id": "a48010c8-3deb-4d9b-89eb-ef9187250e74",
   "metadata": {},
   "source": [
    "##### RegEx"
   ]
  },
  {
   "cell_type": "code",
   "execution_count": 20,
   "id": "69297954-1f7c-42e5-a658-88a836583b2a",
   "metadata": {},
   "outputs": [
    {
     "name": "stdout",
     "output_type": "stream",
     "text": [
      "Match found!\n"
     ]
    }
   ],
   "source": [
    "import re\n",
    "Momstring = \"The BodyGuard is the best album\"\n",
    "# Define the pattern to search for\n",
    "pattern = r\"Body\"\n",
    "# Use the search() function to search for the pattern in the string\n",
    "result = re.search(pattern, Momstring)\n",
    "# Check if a match was found\n",
    "if result:\n",
    "    print(\"Match found!\")\n",
    "else:\n",
    "    print(\"Match not found.\")"
   ]
  },
  {
   "cell_type": "markdown",
   "id": "8ba27fab-b70a-40c3-a874-91d79d0f5202",
   "metadata": {},
   "source": [
    "## Exercises from PY0101EN-1-2-Strings.ipynb"
   ]
  },
  {
   "cell_type": "markdown",
   "id": "ebd2e100-ae6f-4c88-80ec-c7740861edbb",
   "metadata": {},
   "source": [
    "Regular expressions (RegEx) are patterns used to match and manipulate strings of text. There are several special sequences in RegEx that can be used to match specific characters or patterns.\n",
    "\n",
    "| Special Sequence | Meaning                 | \tExample             |\n",
    "| -----------  | ----------------------- | ----------------------|\n",
    "| /d|Matches any digit character (0-9)|\"123\" matches \"/d/d/d\"|\n",
    "|/D|Matches any non-digit character|\"hello\" matches \"/D/D/D/D/D\"|\n",
    "|/w|Matches any word character (a-z, A-Z, 0-9, and _)|\"hello_world\" matches \"/w/w/w/w/w/w/w/w/w/w/w\"|\n",
    "|/W|Matches any non-word character|\t\"@#$%\" matches \"/W/W/W/W\"|\n",
    "|/s|Matches any whitespace character (space, tab, newline, etc.)|\"hello world\" matches \"/w/w/w/w/w/s/w/w/w/w/w\"|\n",
    "|/S|Matches any non-whitespace character|\"hello_world\" matches \"/S/S/S/S/S/S/S/S/S/S/S\"|\n",
    "|/b|Matches the boundary between a word character and a non-word character|\"cat\" matches \"/bcat/b\" in \"The cat sat on the mat\"|\n",
    "|/B|Matches any position that is not a word boundary|\"cat\" matches \"/Bcat/B\" in \"category\" but not in \"The cat sat on the mat\"|\n",
    "\n",
    "Taken from: Python for DS > Module 1> Hands-On Lab: String operations> PY0101EN-1-2-Strings.ipynb"
   ]
  },
  {
   "cell_type": "markdown",
   "id": "1c56cf2b-ec39-4f90-b019-ebc6fbe10f57",
   "metadata": {},
   "source": [
    "Special Sequence Examples:\n",
    "\n",
    "A simple example of using the /d special sequence in a regular expression pattern with Python code:\n"
   ]
  },
  {
   "cell_type": "code",
   "execution_count": 21,
   "id": "8d6b37f4-bc07-4f5a-a787-313094a317ab",
   "metadata": {},
   "outputs": [
    {
     "name": "stdout",
     "output_type": "stream",
     "text": [
      "string: The digits are 1234567890\n",
      "No match\n"
     ]
    }
   ],
   "source": [
    "pattern = r\"/d/d/d/d/d/d/d/d/d/d\"  # Matches any ten consecutive digits\n",
    "string = \"The digits are 1234567890\"\n",
    "match = re.search(pattern, string)\n",
    "print('string:',string)\n",
    "#print('match : ', match)\n",
    "if match:\n",
    "    print(\"match.goup():\", match.group())\n",
    "else:\n",
    "    print(\"No match\")"
   ]
  },
  {
   "cell_type": "markdown",
   "id": "3445d318-d920-48f7-83b6-6ede7e7b7f2d",
   "metadata": {},
   "source": [
    "The `match.group()` method is used in Python's re module to retrieve the part of the **string** where the regular expression **pattern** matched."
   ]
  },
  {
   "cell_type": "code",
   "execution_count": 22,
   "id": "bcdf03c8-061f-4981-8b33-28a97d9fb2ac",
   "metadata": {},
   "outputs": [
    {
     "name": "stdout",
     "output_type": "stream",
     "text": [
      "Matches: []\n",
      "Matches2: []\n"
     ]
    }
   ],
   "source": [
    "## The findall() function finds all occurrences of a specified pattern within a string.\n",
    "pattern = r\"/w\"  # Matches any non-word character\n",
    "pattern2=r\"/W\"\n",
    "string = \"Hello, world!\"\n",
    "matches = re.findall(pattern, string)\n",
    "matches2 = re.findall(pattern2, string)\n",
    "matches2 = re.findall(r\"/W\", string)\n",
    "print(\"Matches:\", matches)\n",
    "print(\"Matches2:\", matches2)"
   ]
  },
  {
   "cell_type": "code",
   "execution_count": 23,
   "id": "813cfd96-8e5c-4802-bbcd-049bd7d83f46",
   "metadata": {},
   "outputs": [
    {
     "name": "stdout",
     "output_type": "stream",
     "text": [
      "[\"The BodyGuard is the best album of 'Whitney Houston'.\"]\n",
      "The BodyGuard is the best album of 'legend'.\n"
     ]
    }
   ],
   "source": [
    "s2 = \"The BodyGuard is the best album of 'Whitney Houston'.\"\n",
    "# Use the split function to split the string by the \"/s\"\n",
    "split_array = re.split(r\"/s\", s2)\n",
    "\n",
    "# The split_array contains all the substrings, split by whitespace characters\n",
    "print(split_array)\n",
    "# Define the regular expression pattern to search for\n",
    "pattern = r\"Whitney Houston\"\n",
    "\n",
    "# Define the replacement string\n",
    "replacement = \"legend\"\n",
    "\n",
    "# Use the sub function to replace the pattern with the replacement string\n",
    "new_string = re.sub(pattern, replacement, s2, flags=re.IGNORECASE)\n",
    "\n",
    "# The new_string contains the original string with the pattern replaced by the replacement string\n",
    "print(new_string) "
   ]
  },
  {
   "cell_type": "code",
   "execution_count": 24,
   "id": "f11b765f-2d7f-4d7c-a2c7-6633fcd5ae18",
   "metadata": {},
   "outputs": [
    {
     "name": "stdout",
     "output_type": "stream",
     "text": [
      "values: ['1', '2']\n",
      "String addition: 12\n",
      "Int addition: 3\n"
     ]
    }
   ],
   "source": [
    "a = \"1\"\n",
    "b='2'\n",
    "print('values:',[a,b])\n",
    "c=a+b\n",
    "print('String addition:',c)\n",
    "d=int(a)+int(b)\n",
    "print('Int addition:',d)"
   ]
  },
  {
   "cell_type": "markdown",
   "id": "8e7bb2f6-398f-4f5c-9bcb-2bd057dd8f50",
   "metadata": {},
   "source": [
    "## Module 1 Summary: Python Basics"
   ]
  },
  {
   "cell_type": "markdown",
   "id": "157d8171-f306-434a-b781-6e388ea4f588",
   "metadata": {},
   "source": [
    "* Python can distinguish among data types such as integers, floats, strings, and Booleans.\n",
    "\n",
    "* Integers are whole numbers that can be positive or negative.\n",
    "\n",
    "* Floats include integers as well as decimal numbers between the integers.\n",
    "\n",
    "* You can convert integers to floats using typecasting and vice-versa.\n",
    "\n",
    "* You can convert integers and floats to strings.\n",
    "\n",
    "* You can convert an integer or float value to True (1) or False (0).\n",
    "\n",
    "* Expressions in Python are a combination of values and operations used to produce a single result.\n",
    "\n",
    "* Expressions perform mathematical operations such as addition, subtraction, multiplication, and so on.\n",
    "\n",
    "* We can use // to perform integer division, which results in an integer value by discarding the fractional part.  \n",
    "\n",
    "* Python follows the order of operations (BODMAS) to perform operations with multiple expressions.\n",
    "\n",
    "* Variables store and manipulate data, allowing you to access and modify values throughout your code\n",
    "  \n",
    "* The assignment operator \"=\" assigns a value to a variable.\n",
    "\n",
    "* \":\" denotes the value of the variable within the code.\n",
    "\n",
    "* Assigning another value to the same variable overrides the previous value of that variable.\n",
    "\n",
    "* You can perform mathematical operations on variables using the same or different variables.\n",
    "\n",
    "* Modifying the value of one variable will affect other variables only if they reference the same mutable object.  \n",
    "\n",
    "* Python string operations involve manipulating text data using tasks such as indexing, concatenation, slicing, and formatting.\n",
    "\n",
    "* A string is usually written within double quotes or single quotes, including letters, white space, digits, or special characters.\n",
    "\n",
    "* A string attaches to another variable and is an ordered sequence of characters.\n",
    "\n",
    "* Characters in a string identify their index numbers, which can be positive or negative.\n",
    "\n",
    "* We use strings as a sequence to perform sequence operations. \n",
    "\n",
    "* You can input a stride value to perform slicing while operating on a string.\n",
    "\n",
    "* Operations like combining, concatenating, and replicating produce new strings, while finding the length of a string returns a number.\n",
    "\n",
    "* You cannot modify an existing string; they are immutable. \n",
    "\n",
    "* You can use escape sequences with a backslash (/) to change the layout of a string.  (For example, /n for a new line, /t for a tab, and // for a backslash, etc.)   \n",
    "\n",
    "* In Python, you perform tasks such as searching, modifying, and formatting text data with its pre-built string methods functions.\n",
    "\n",
    "* You apply a method to a string to change its value, resulting in another string. \n",
    "\n",
    "* You can perform actions such as changing the case of characters in a string, replacing items in a string, finding items in a string, and so on using pre-built string methods."
   ]
  },
  {
   "cell_type": "markdown",
   "id": "0601e9a9-ce47-4e30-a9d6-fcb0ba6d5219",
   "metadata": {},
   "source": [
    "# Module 2"
   ]
  },
  {
   "cell_type": "markdown",
   "id": "49cef63a-6da9-4112-b7e0-bd9f971c89f4",
   "metadata": {},
   "source": [
    "## Data types"
   ]
  },
  {
   "cell_type": "markdown",
   "id": "6d5765cd-42e9-44af-b4f9-2c38bb320da8",
   "metadata": {},
   "source": [
    "### Tuples\n",
    "* Ordered sequences\n",
    "* Written as comma-separated values within parentheses"
   ]
  },
  {
   "cell_type": "markdown",
   "id": "2e554bab-8a7a-456e-a6e0-00d9c810869e",
   "metadata": {},
   "source": [
    "In Python, there are different data types: String, Integer, and Float. These data types can all be contained in a tuple as follows:\n"
   ]
  },
  {
   "cell_type": "markdown",
   "id": "4a7274e3-9710-4f25-af9c-2d21f0fb500a",
   "metadata": {},
   "source": [
    "<img src=\"https://cf-courses-data.s3.us.cloud-object-storage.appdomain.cloud/IBMDeveloperSkillsNetwork-PY0101EN-SkillsNetwork/labs/Module%202/images/TuplesType.png\" width=\"750\" align=\"center\">\n"
   ]
  },
  {
   "cell_type": "markdown",
   "id": "a5171e76-2fb1-4231-8bcd-13b8649a8775",
   "metadata": {},
   "source": [
    "Now, let us create your first tuple with string, integer and float.\n"
   ]
  },
  {
   "cell_type": "code",
   "execution_count": 25,
   "id": "bfff15a7-06cb-4367-adec-83ebd713346a",
   "metadata": {},
   "outputs": [
    {
     "data": {
      "text/plain": [
       "('disco', 10, 1.2)"
      ]
     },
     "execution_count": 25,
     "metadata": {},
     "output_type": "execute_result"
    }
   ],
   "source": [
    "# Create your first tuple\n",
    "\n",
    "tuple1 = (\"disco\",10,1.2 )\n",
    "tuple1"
   ]
  },
  {
   "cell_type": "markdown",
   "id": "182cbdd0-58fb-4f76-bf92-5e54630932f3",
   "metadata": {},
   "source": [
    "The type of variable is a **tuple**.\n"
   ]
  },
  {
   "cell_type": "code",
   "execution_count": 26,
   "id": "a67b2182-1fcb-4ea5-96c5-1fbb43ddd27f",
   "metadata": {},
   "outputs": [
    {
     "data": {
      "text/plain": [
       "tuple"
      ]
     },
     "execution_count": 26,
     "metadata": {},
     "output_type": "execute_result"
    }
   ],
   "source": [
    "# Print the type of the tuple you created\n",
    "\n",
    "type(tuple1)"
   ]
  },
  {
   "cell_type": "markdown",
   "id": "f264f1c7-9535-4efc-84b7-8bc66ba0c8d5",
   "metadata": {},
   "source": [
    "<h4 id=\"index\">Indexing</h4>\n"
   ]
  },
  {
   "cell_type": "markdown",
   "id": "96cb7fa3-54e1-4a80-b926-a91ed25f7378",
   "metadata": {},
   "source": [
    "Each element of a tuple can be accessed via an index. The following table represents the relationship between the index and the items in the tuple. Each element can be obtained by the name of the tuple followed by a square bracket with the index number:\n"
   ]
  },
  {
   "cell_type": "markdown",
   "id": "f681b59d-2071-4659-a198-4f843fb92774",
   "metadata": {},
   "source": [
    "<img src=\"https://cf-courses-data.s3.us.cloud-object-storage.appdomain.cloud/IBMDeveloperSkillsNetwork-PY0101EN-SkillsNetwork/labs/Module%202/images/TuplesIndex.gif\" width=\"750\" align=\"center\">\n"
   ]
  },
  {
   "cell_type": "markdown",
   "id": "a22440ca-33c9-45da-bcf0-eb475a3f0177",
   "metadata": {},
   "source": [
    "We can print out each value in the tuple:\n"
   ]
  },
  {
   "cell_type": "code",
   "execution_count": 27,
   "id": "3ff04e66-23bb-4067-b55a-db348530a417",
   "metadata": {},
   "outputs": [
    {
     "name": "stdout",
     "output_type": "stream",
     "text": [
      "disco\n",
      "10\n",
      "1.2\n"
     ]
    }
   ],
   "source": [
    "# Print the variable on each index\n",
    "\n",
    "print(tuple1[0])\n",
    "print(tuple1[1])\n",
    "print(tuple1[2])"
   ]
  },
  {
   "cell_type": "markdown",
   "id": "f90e58d1-ebbd-4cae-8408-1b8905ebe20e",
   "metadata": {},
   "source": [
    "We can print out the **type** of each value in the tuple:\n"
   ]
  },
  {
   "cell_type": "code",
   "execution_count": 28,
   "id": "71706500-a8b0-4de1-a7d1-c16b942d74f9",
   "metadata": {},
   "outputs": [
    {
     "name": "stdout",
     "output_type": "stream",
     "text": [
      "<class 'str'>\n",
      "<class 'int'>\n",
      "<class 'float'>\n"
     ]
    }
   ],
   "source": [
    "# Print the type of value on each index\n",
    "\n",
    "print(type(tuple1[0]))\n",
    "print(type(tuple1[1]))\n",
    "print(type(tuple1[2]))"
   ]
  },
  {
   "cell_type": "markdown",
   "id": "fe4dfbff-8238-4a3f-a0a4-ca9ef512050b",
   "metadata": {},
   "source": [
    "We can also use negative indexing. We use the same table above with corresponding negative values:\n"
   ]
  },
  {
   "cell_type": "markdown",
   "id": "5a0dd3b6-606e-4a68-89d7-c7640f58afe5",
   "metadata": {},
   "source": [
    "<img src=\"https://cf-courses-data.s3.us.cloud-object-storage.appdomain.cloud/IBMDeveloperSkillsNetwork-PY0101EN-SkillsNetwork/labs/Module%202/images/TuplesNeg.png\" width=\"750\" align=\"center\">\n"
   ]
  },
  {
   "cell_type": "markdown",
   "id": "e3060488-6b43-405d-806c-89affa44bbcd",
   "metadata": {},
   "source": [
    "We can obtain the last element as follows (this time we will not use the print statement to display the values):\n"
   ]
  },
  {
   "cell_type": "code",
   "execution_count": 29,
   "id": "a0805dac-956b-4351-98b4-2fb99fe3ca5c",
   "metadata": {},
   "outputs": [
    {
     "data": {
      "text/plain": [
       "1.2"
      ]
     },
     "execution_count": 29,
     "metadata": {},
     "output_type": "execute_result"
    }
   ],
   "source": [
    "# Use negative index to get the value of the last element\n",
    "\n",
    "tuple1[-1]"
   ]
  },
  {
   "cell_type": "markdown",
   "id": "da41e705-89f0-49d8-909b-f32fe99ecea3",
   "metadata": {},
   "source": [
    "We can display the next two elements as follows:\n"
   ]
  },
  {
   "cell_type": "code",
   "execution_count": 30,
   "id": "dde93d53-de84-405f-809a-b5eabc071edb",
   "metadata": {},
   "outputs": [
    {
     "data": {
      "text/plain": [
       "10"
      ]
     },
     "execution_count": 30,
     "metadata": {},
     "output_type": "execute_result"
    }
   ],
   "source": [
    "# Use negative index to get the value of the second last element\n",
    "\n",
    "tuple1[-2]"
   ]
  },
  {
   "cell_type": "code",
   "execution_count": 31,
   "id": "d7723403-0420-47a3-b7e9-e9c0cf89d754",
   "metadata": {},
   "outputs": [
    {
     "data": {
      "text/plain": [
       "'disco'"
      ]
     },
     "execution_count": 31,
     "metadata": {},
     "output_type": "execute_result"
    }
   ],
   "source": [
    "# Use negative index to get the value of the third last element\n",
    "\n",
    "tuple1[-3]"
   ]
  },
  {
   "cell_type": "markdown",
   "id": "ea66e9fc-e81f-4490-8c3e-8ad75f6feba0",
   "metadata": {},
   "source": [
    "<h4 id=\"concate\">Concatenate Tuples</h4>\n"
   ]
  },
  {
   "cell_type": "markdown",
   "id": "e3d76d56-5d44-4db2-93c3-ac926d10f22a",
   "metadata": {},
   "source": [
    "We can concatenate or combine tuples by using the **+** sign:\n"
   ]
  },
  {
   "cell_type": "code",
   "execution_count": 32,
   "id": "9c067fd1-22ee-4570-9693-21edba5fc6d9",
   "metadata": {},
   "outputs": [
    {
     "data": {
      "text/plain": [
       "('disco', 10, 1.2, 'hard rock', 10)"
      ]
     },
     "execution_count": 32,
     "metadata": {},
     "output_type": "execute_result"
    }
   ],
   "source": [
    "# Concatenate two tuples\n",
    "\n",
    "tuple2 = tuple1 + (\"hard rock\", 10)\n",
    "tuple2"
   ]
  },
  {
   "cell_type": "markdown",
   "id": "e525b4f5-40ec-4299-8e44-ecd3e0741fa0",
   "metadata": {},
   "source": [
    "We can slice tuples obtaining multiple values as demonstrated by the figure below:\n"
   ]
  },
  {
   "cell_type": "markdown",
   "id": "134e0c68-183e-4c43-9543-8a43feb465a5",
   "metadata": {},
   "source": [
    "<img src=\"https://cf-courses-data.s3.us.cloud-object-storage.appdomain.cloud/IBMDeveloperSkillsNetwork-PY0101EN-SkillsNetwork/labs/Module%202/images/TuplesSlice.gif\" width=\"750\" align=\"center\">\n"
   ]
  },
  {
   "cell_type": "markdown",
   "id": "524dadd9-5d59-407c-aac0-0dadd5e17a54",
   "metadata": {},
   "source": [
    "<h4 id=\"slice\">Slicing</h4>\n"
   ]
  },
  {
   "cell_type": "markdown",
   "id": "1ab1e2da-a712-4198-ad7a-c489f03c4760",
   "metadata": {},
   "source": [
    "We can slice tuples, obtaining new tuples with the corresponding elements:\n"
   ]
  },
  {
   "cell_type": "code",
   "execution_count": 33,
   "id": "a3151b24-d7dc-4d72-a137-51e54848afe3",
   "metadata": {},
   "outputs": [
    {
     "data": {
      "text/plain": [
       "('disco', 10, 1.2)"
      ]
     },
     "execution_count": 33,
     "metadata": {},
     "output_type": "execute_result"
    }
   ],
   "source": [
    "# Slice from index 0 to index 2\n",
    "\n",
    "tuple2[0:3]"
   ]
  },
  {
   "cell_type": "markdown",
   "id": "e16a08df-ac49-457b-a906-a9dafac5cf97",
   "metadata": {},
   "source": [
    "We can obtain the last two elements of the tuple:\n"
   ]
  },
  {
   "cell_type": "code",
   "execution_count": 34,
   "id": "f850860a-8667-469c-9912-39cf939e29be",
   "metadata": {},
   "outputs": [
    {
     "data": {
      "text/plain": [
       "('hard rock', 10)"
      ]
     },
     "execution_count": 34,
     "metadata": {},
     "output_type": "execute_result"
    }
   ],
   "source": [
    "# Slice from index 3 to index 4\n",
    "\n",
    "tuple2[3:5]"
   ]
  },
  {
   "cell_type": "markdown",
   "id": "41588177-f68f-41d1-9732-50e853c3767f",
   "metadata": {},
   "source": [
    "We can obtain the length of a tuple using the length command:\n"
   ]
  },
  {
   "cell_type": "code",
   "execution_count": 35,
   "id": "9a8a8e1f-02f0-4f08-8a15-7dcdd57f046a",
   "metadata": {},
   "outputs": [
    {
     "data": {
      "text/plain": [
       "5"
      ]
     },
     "execution_count": 35,
     "metadata": {},
     "output_type": "execute_result"
    }
   ],
   "source": [
    "# Get the length of tuple\n",
    "\n",
    "len(tuple2)"
   ]
  },
  {
   "cell_type": "markdown",
   "id": "68a425a1-44b4-4384-a119-9ccf1bbb5946",
   "metadata": {},
   "source": [
    "This figure shows the number of elements:\n"
   ]
  },
  {
   "cell_type": "markdown",
   "id": "516a6347-c753-4ed6-a9a5-7142470ae07e",
   "metadata": {},
   "source": [
    "<img src=\"https://cf-courses-data.s3.us.cloud-object-storage.appdomain.cloud/IBMDeveloperSkillsNetwork-PY0101EN-SkillsNetwork/labs/Module%202/images/TuplesElement.png\" width=\"750\" align=\"center\">\n"
   ]
  },
  {
   "cell_type": "markdown",
   "id": "d35d3c67-1d8a-48be-a18c-ad85b9fd2faf",
   "metadata": {},
   "source": [
    "<h4 id=\"sort\">Sorting</h4>\n"
   ]
  },
  {
   "cell_type": "markdown",
   "id": "d10865c1-9457-4a99-946f-5fa63e035e2e",
   "metadata": {},
   "source": [
    "Consider the following tuple:\n"
   ]
  },
  {
   "cell_type": "code",
   "execution_count": 36,
   "id": "95572218-76f9-4c4c-9fdd-82bc048681f9",
   "metadata": {},
   "outputs": [],
   "source": [
    "# A sample tuple\n",
    "\n",
    "Ratings = (0, 9, 6, 5, 10, 8, 9, 6, 2)"
   ]
  },
  {
   "cell_type": "markdown",
   "id": "6b8a6af1-5489-422a-81d8-852cbfce069b",
   "metadata": {},
   "source": [
    "We can sort the values in a tuple and save it to a new tuple:\n"
   ]
  },
  {
   "cell_type": "code",
   "execution_count": 37,
   "id": "1b186f06-ddd7-4981-a130-005a06e51f1f",
   "metadata": {},
   "outputs": [
    {
     "data": {
      "text/plain": [
       "[0, 2, 5, 6, 6, 8, 9, 9, 10]"
      ]
     },
     "execution_count": 37,
     "metadata": {},
     "output_type": "execute_result"
    }
   ],
   "source": [
    "# Sort the tuple\n",
    "\n",
    "RatingsSorted = sorted(Ratings)\n",
    "RatingsSorted"
   ]
  },
  {
   "cell_type": "markdown",
   "id": "4eae36ba-0bbf-4ee7-933c-747a574fa99d",
   "metadata": {},
   "source": [
    "<h4 id=\"nest\">Nested Tuple</h4>\n"
   ]
  },
  {
   "cell_type": "markdown",
   "id": "d0c884ab-a088-47b2-a2c4-ed3a7fdf544a",
   "metadata": {},
   "source": [
    "A tuple can contain another tuple as well as other more complex data types. This process is called 'nesting'. Consider the following tuple with several elements:\n"
   ]
  },
  {
   "cell_type": "code",
   "execution_count": 38,
   "id": "705fc128-239a-46bb-941f-85fc2a7ab1a9",
   "metadata": {},
   "outputs": [],
   "source": [
    "# Create a nest tuple\n",
    "\n",
    "NestedT =(1, 2, (\"pop\", \"rock\") ,(3,4),(\"disco\",(1,2)))"
   ]
  },
  {
   "cell_type": "markdown",
   "id": "94dc3339-4210-4498-ac76-0c6fdca4fc88",
   "metadata": {},
   "source": [
    "Each element in the tuple, including other tuples, can be obtained via an index as shown in the figure:\n"
   ]
  },
  {
   "cell_type": "markdown",
   "id": "19a98f07-5180-4347-ad29-771df37edd09",
   "metadata": {},
   "source": [
    "<img src=\"https://cf-courses-data.s3.us.cloud-object-storage.appdomain.cloud/IBMDeveloperSkillsNetwork-PY0101EN-SkillsNetwork/labs/Module%202/images/TuplesNestOne.png\" width=\"750\" align=\"center\">\n"
   ]
  },
  {
   "cell_type": "code",
   "execution_count": 39,
   "id": "35c625bd-d946-4658-a9d4-7abd6f6213b4",
   "metadata": {},
   "outputs": [
    {
     "name": "stdout",
     "output_type": "stream",
     "text": [
      "Element 0 of Tuple:  1\n",
      "Element 1 of Tuple:  2\n",
      "Element 2 of Tuple:  ('pop', 'rock')\n",
      "Element 3 of Tuple:  (3, 4)\n",
      "Element 4 of Tuple:  ('disco', (1, 2))\n"
     ]
    }
   ],
   "source": [
    "# Print element on each index\n",
    "\n",
    "print(\"Element 0 of Tuple: \", NestedT[0])\n",
    "print(\"Element 1 of Tuple: \", NestedT[1])\n",
    "print(\"Element 2 of Tuple: \", NestedT[2])\n",
    "print(\"Element 3 of Tuple: \", NestedT[3])\n",
    "print(\"Element 4 of Tuple: \", NestedT[4])"
   ]
  },
  {
   "cell_type": "markdown",
   "id": "bb3c19fe-fce4-4c95-8c39-ee2a2ab5f850",
   "metadata": {},
   "source": [
    "We can use the second index to access other tuples as demonstrated in the figure:\n"
   ]
  },
  {
   "cell_type": "markdown",
   "id": "4557f150-3978-434d-bdb6-1423de1847fb",
   "metadata": {},
   "source": [
    "<img src=\"https://cf-courses-data.s3.us.cloud-object-storage.appdomain.cloud/IBMDeveloperSkillsNetwork-PY0101EN-SkillsNetwork/labs/Module%202/images/TuplesNestTwo.png\" width=\"750\" align=\"center\">\n"
   ]
  },
  {
   "cell_type": "markdown",
   "id": "4f7bf5c2-1d6b-4abf-8f49-03b62f4dc879",
   "metadata": {},
   "source": [
    "We can access the nested tuples:\n"
   ]
  },
  {
   "cell_type": "code",
   "execution_count": 40,
   "id": "5188ebf7-9d90-4919-afd9-e6bc40508355",
   "metadata": {},
   "outputs": [
    {
     "name": "stdout",
     "output_type": "stream",
     "text": [
      "Element 2, 0 of Tuple:  pop\n",
      "Element 2, 1 of Tuple:  rock\n",
      "Element 3, 0 of Tuple:  3\n",
      "Element 3, 1 of Tuple:  4\n",
      "Element 4, 0 of Tuple:  disco\n",
      "Element 4, 1 of Tuple:  (1, 2)\n"
     ]
    }
   ],
   "source": [
    "# Print element on each index, including nest indexes\n",
    "\n",
    "print(\"Element 2, 0 of Tuple: \",   NestedT[2][0])\n",
    "print(\"Element 2, 1 of Tuple: \",   NestedT[2][1])\n",
    "print(\"Element 3, 0 of Tuple: \",   NestedT[3][0])\n",
    "print(\"Element 3, 1 of Tuple: \",   NestedT[3][1])\n",
    "print(\"Element 4, 0 of Tuple: \",   NestedT[4][0])\n",
    "print(\"Element 4, 1 of Tuple: \",   NestedT[4][1])"
   ]
  },
  {
   "cell_type": "markdown",
   "id": "133d093e-aed2-48aa-8b86-0cc34caca3b5",
   "metadata": {},
   "source": [
    "We can access strings in the second nested tuples using a third index:\n"
   ]
  },
  {
   "cell_type": "code",
   "execution_count": 41,
   "id": "6a8e7d9f-a926-4b85-9447-3478915efdb2",
   "metadata": {},
   "outputs": [
    {
     "data": {
      "text/plain": [
       "'r'"
      ]
     },
     "execution_count": 41,
     "metadata": {},
     "output_type": "execute_result"
    }
   ],
   "source": [
    "# Print the first element in the second nested tuples\n",
    "\n",
    "NestedT[2][1][0]"
   ]
  },
  {
   "cell_type": "code",
   "execution_count": 42,
   "id": "4b0c10d8-606e-435b-a404-0f46c94c4207",
   "metadata": {},
   "outputs": [
    {
     "data": {
      "text/plain": [
       "'o'"
      ]
     },
     "execution_count": 42,
     "metadata": {},
     "output_type": "execute_result"
    }
   ],
   "source": [
    "# Print the second element in the second nested tuples\n",
    "\n",
    "NestedT[2][1][1]"
   ]
  },
  {
   "cell_type": "markdown",
   "id": "e77a39aa-6933-43d0-9eda-0accbfd82634",
   "metadata": {},
   "source": [
    "We can use a tree to visualise the process. Each new index corresponds to a deeper level in the tree:\n"
   ]
  },
  {
   "cell_type": "markdown",
   "id": "e644b848-16af-483b-9de8-8a26deff9bcf",
   "metadata": {},
   "source": [
    "<img src=\"https://cf-courses-data.s3.us.cloud-object-storage.appdomain.cloud/IBMDeveloperSkillsNetwork-PY0101EN-SkillsNetwork/labs/Module%202/images/TuplesNestThree.gif\" width=\"750\" align=\"center\">\n"
   ]
  },
  {
   "cell_type": "markdown",
   "id": "89e0746c-ff05-44b3-80e3-fae4304f467c",
   "metadata": {},
   "source": [
    "Similarly, we can access elements nested deeper in the tree with a third index:\n"
   ]
  },
  {
   "cell_type": "code",
   "execution_count": 43,
   "id": "37a800b9-e06f-4a01-9124-7ea5201245f7",
   "metadata": {},
   "outputs": [
    {
     "data": {
      "text/plain": [
       "1"
      ]
     },
     "execution_count": 43,
     "metadata": {},
     "output_type": "execute_result"
    }
   ],
   "source": [
    "# Print the first element in the second nested tuples\n",
    "\n",
    "NestedT[4][1][0]"
   ]
  },
  {
   "cell_type": "code",
   "execution_count": 44,
   "id": "a4d09a8c-9034-4322-9afd-7bf5d004648a",
   "metadata": {},
   "outputs": [
    {
     "data": {
      "text/plain": [
       "2"
      ]
     },
     "execution_count": 44,
     "metadata": {},
     "output_type": "execute_result"
    }
   ],
   "source": [
    "# Print the second element in the second nested tuples\n",
    "\n",
    "NestedT[4][1][1]"
   ]
  },
  {
   "cell_type": "markdown",
   "id": "8dee6089-39bc-4aed-8613-c4d4e747148f",
   "metadata": {},
   "source": [
    "The following figure shows the relationship of the tree and the element <code>NestedT/[4]/[1]/[1]</code>:\n"
   ]
  },
  {
   "cell_type": "markdown",
   "id": "b3defc7c-8a0d-44bc-b406-6ad100d3f53e",
   "metadata": {},
   "source": [
    "<img src=\"https://cf-courses-data.s3.us.cloud-object-storage.appdomain.cloud/IBMDeveloperSkillsNetwork-PY0101EN-SkillsNetwork/labs/Module%202/images/TuplesNestFour.gif\" width=\"750\" align=\"center\">\n"
   ]
  },
  {
   "cell_type": "markdown",
   "id": "c680a7a7-8403-436e-900f-66c90fabab8e",
   "metadata": {},
   "source": [
    "### Lists\n",
    "* Can contain all data formats\n",
    "    * Are mutable"
   ]
  },
  {
   "cell_type": "code",
   "execution_count": 45,
   "id": "008cf635-8713-4ba2-a0d5-2115b71da550",
   "metadata": {},
   "outputs": [],
   "source": [
    "##\n",
    "##\n",
    "##Taken from Notebook"
   ]
  },
  {
   "cell_type": "markdown",
   "id": "1eb57575-82ee-48b3-afdc-f72b4ae76795",
   "metadata": {},
   "source": [
    "<h4 id=\"content\">List Content</h4>\n"
   ]
  },
  {
   "cell_type": "markdown",
   "id": "a1c4d130-af46-41b4-ae61-ed61df5b7cbb",
   "metadata": {},
   "source": [
    "Lists can contain strings, floats, and integers. We can nest other lists, and we can also nest tuples and other data structures. The same indexing conventions apply for nesting:\n"
   ]
  },
  {
   "cell_type": "code",
   "execution_count": 46,
   "id": "c1cbbb3b-f9e8-4ef6-b75b-0d06480fd299",
   "metadata": {},
   "outputs": [
    {
     "data": {
      "text/plain": [
       "['Michael Jackson', 10.1, 1982, [1, 2], ('A', 1)]"
      ]
     },
     "execution_count": 46,
     "metadata": {},
     "output_type": "execute_result"
    }
   ],
   "source": [
    "# Sample List\n",
    "\n",
    "[\"Michael Jackson\", 10.1, 1982, [1, 2], (\"A\", 1)]"
   ]
  },
  {
   "cell_type": "markdown",
   "id": "900183c3-0d6b-4d76-b3cc-ae5e684fb420",
   "metadata": {},
   "source": [
    "<h4 id=\"op\">List Operations</h4>\n"
   ]
  },
  {
   "cell_type": "markdown",
   "id": "cee62819-717a-47d9-9f9b-f4e53c49af6d",
   "metadata": {},
   "source": [
    "We can also perform slicing in lists. For example, if we want the last two elements, we use the following command:\n"
   ]
  },
  {
   "cell_type": "code",
   "execution_count": 47,
   "id": "e59ba86f-e715-4ca4-8fe5-1421651307e9",
   "metadata": {},
   "outputs": [
    {
     "data": {
      "text/plain": [
       "['Michael Jackson', 10.1, 1982, 'MJ', 1]"
      ]
     },
     "execution_count": 47,
     "metadata": {},
     "output_type": "execute_result"
    }
   ],
   "source": [
    "# Sample List\n",
    "\n",
    "L = [\"Michael Jackson\", 10.1,1982,\"MJ\",1]\n",
    "L"
   ]
  },
  {
   "cell_type": "markdown",
   "id": "23b090b9-5313-4301-9e11-3c50cc2195d8",
   "metadata": {},
   "source": [
    "<img src=\"https://cf-courses-data.s3.us.cloud-object-storage.appdomain.cloud/IBMDeveloperSkillsNetwork-PY0101EN-SkillsNetwork/labs/Module%202/images/ListsSlice.png\" width=\"1000\">\n"
   ]
  },
  {
   "cell_type": "code",
   "execution_count": 48,
   "id": "72495eea-8435-4d7b-aeb0-03a9cd5d1e35",
   "metadata": {},
   "outputs": [
    {
     "data": {
      "text/plain": [
       "['MJ', 1]"
      ]
     },
     "execution_count": 48,
     "metadata": {},
     "output_type": "execute_result"
    }
   ],
   "source": [
    "# List slicing\n",
    "\n",
    "L[3:5]"
   ]
  },
  {
   "cell_type": "markdown",
   "id": "c985ea11-918a-40c8-a7f8-5b9e92e957d4",
   "metadata": {},
   "source": [
    "We can use the method <code>extend</code> to add new elements to the list:\n"
   ]
  },
  {
   "cell_type": "code",
   "execution_count": 49,
   "id": "9f8250bf-6211-41bb-bf8e-a1472d00aee0",
   "metadata": {},
   "outputs": [
    {
     "data": {
      "text/plain": [
       "['Michael Jackson', 10.2, 'pop', 10]"
      ]
     },
     "execution_count": 49,
     "metadata": {},
     "output_type": "execute_result"
    }
   ],
   "source": [
    "# Use extend to add elements to list\n",
    "\n",
    "L = [ \"Michael Jackson\", 10.2]\n",
    "L.extend(['pop', 10])\n",
    "L"
   ]
  },
  {
   "cell_type": "markdown",
   "id": "d6f14869-43c5-4775-9b6f-ac64b024c37c",
   "metadata": {},
   "source": [
    "Another similar method is <code>append</code>. If we apply <code>append</code> instead of <code>extend</code>, we add one element to the list:\n"
   ]
  },
  {
   "cell_type": "code",
   "execution_count": 50,
   "id": "9851df6e-7e45-4b48-843b-dff83d602c02",
   "metadata": {},
   "outputs": [
    {
     "data": {
      "text/plain": [
       "['Michael Jackson', 10.2, ['pop', 10]]"
      ]
     },
     "execution_count": 50,
     "metadata": {},
     "output_type": "execute_result"
    }
   ],
   "source": [
    "# Use append to add elements to list\n",
    "\n",
    "L = [ \"Michael Jackson\", 10.2]\n",
    "L.append(['pop', 10])\n",
    "L"
   ]
  },
  {
   "cell_type": "markdown",
   "id": "a22384dd-e0a3-489c-aedc-c761b424c07a",
   "metadata": {},
   "source": [
    "Each time we apply a method, the list changes. If we apply <code>extend</code> we add two new elements to the list. The list <code>L</code> is then modified by adding two new elements:\n"
   ]
  },
  {
   "cell_type": "code",
   "execution_count": 51,
   "id": "e01ba94e-534e-48c2-a657-03c493324174",
   "metadata": {},
   "outputs": [
    {
     "data": {
      "text/plain": [
       "['Michael Jackson', 10.2, 'pop', 10]"
      ]
     },
     "execution_count": 51,
     "metadata": {},
     "output_type": "execute_result"
    }
   ],
   "source": [
    "# Use extend to add elements to list\n",
    "\n",
    "L = [ \"Michael Jackson\", 10.2]\n",
    "L.extend(['pop', 10])\n",
    "L"
   ]
  },
  {
   "cell_type": "markdown",
   "id": "004db008-f449-448f-a81f-90011c4e1ed4",
   "metadata": {},
   "source": [
    "If we append the list  <code>/['a','b']</code> we have one new element consisting of a nested list:\n"
   ]
  },
  {
   "cell_type": "code",
   "execution_count": 52,
   "id": "bf4ba061-b364-4152-b388-3898e5a50868",
   "metadata": {},
   "outputs": [
    {
     "data": {
      "text/plain": [
       "['Michael Jackson', 10.2, 'pop', 10, ['a', 'b']]"
      ]
     },
     "execution_count": 52,
     "metadata": {},
     "output_type": "execute_result"
    }
   ],
   "source": [
    "# Use append to add elements to list\n",
    "\n",
    "L.append(['a','b'])\n",
    "L"
   ]
  },
  {
   "cell_type": "markdown",
   "id": "370a7a2d-066b-49bf-8174-ab50c732d8d6",
   "metadata": {},
   "source": [
    "As lists are mutable, we can change them. For example, we can change the first element as follows:\n"
   ]
  },
  {
   "cell_type": "code",
   "execution_count": 53,
   "id": "343c9186-0875-471e-8052-c026c5fe46b3",
   "metadata": {},
   "outputs": [
    {
     "name": "stdout",
     "output_type": "stream",
     "text": [
      "Before change: ['disco', 10, 1.2]\n",
      "After change: ['hard rock', 10, 1.2]\n"
     ]
    }
   ],
   "source": [
    "# Change the element based on the index\n",
    "\n",
    "A = [\"disco\", 10, 1.2]\n",
    "print('Before change:', A)\n",
    "A[0] = 'hard rock'\n",
    "print('After change:', A)"
   ]
  },
  {
   "cell_type": "markdown",
   "id": "a77d2c9c-8058-41fc-98c7-d6aa9b3acc1e",
   "metadata": {},
   "source": [
    "We can also delete an element of a list using the <code>del</code> command:\n"
   ]
  },
  {
   "cell_type": "code",
   "execution_count": 54,
   "id": "23fba648-09a1-4e7c-a235-dbc1a66158ad",
   "metadata": {},
   "outputs": [
    {
     "name": "stdout",
     "output_type": "stream",
     "text": [
      "Before change: ['hard rock', 10, 1.2]\n",
      "After change: [10, 1.2]\n"
     ]
    }
   ],
   "source": [
    "# Delete the element based on the index\n",
    "\n",
    "print('Before change:', A)\n",
    "del(A[0])\n",
    "print('After change:', A)"
   ]
  },
  {
   "cell_type": "markdown",
   "id": "f9ac5493-ebf1-4706-b081-286871334a9d",
   "metadata": {},
   "source": [
    "We can convert a string to a list using <code>split</code>.  For example, the method <code>split</code> translates every group of characters separated by a space into an element in a list:\n"
   ]
  },
  {
   "cell_type": "code",
   "execution_count": 55,
   "id": "ed24fa51-94d1-41f5-b985-d860a25cf8c5",
   "metadata": {},
   "outputs": [
    {
     "data": {
      "text/plain": [
       "['hard', 'rock']"
      ]
     },
     "execution_count": 55,
     "metadata": {},
     "output_type": "execute_result"
    }
   ],
   "source": [
    "# Split the string, default is by space\n",
    "\n",
    "'hard rock'.split()"
   ]
  },
  {
   "cell_type": "markdown",
   "id": "92e5db3e-80ad-47a7-ac50-c230e2a4a1f6",
   "metadata": {},
   "source": [
    "We can use the split function to separate strings on a specific character which we call a **delimiter**. We pass the character we would like to split on into the argument, which in this case is a comma.  The result is a list, and each element corresponds to a set of characters that have been separated by a comma:\n"
   ]
  },
  {
   "cell_type": "code",
   "execution_count": 56,
   "id": "26b85981-385e-48fb-81ac-3c94427b1093",
   "metadata": {},
   "outputs": [
    {
     "data": {
      "text/plain": [
       "['A', 'B', 'C', 'D']"
      ]
     },
     "execution_count": 56,
     "metadata": {},
     "output_type": "execute_result"
    }
   ],
   "source": [
    "# Split the string by comma\n",
    "\n",
    "'A,B,C,D'.split(',')"
   ]
  },
  {
   "cell_type": "markdown",
   "id": "6b6b76ec-6120-4189-bf36-bf664f5fb515",
   "metadata": {},
   "source": [
    "<h4 id=\"co\">Copy and Clone List</h4>\n"
   ]
  },
  {
   "cell_type": "markdown",
   "id": "4387bc40-0e86-4156-aaa7-6141210fa5af",
   "metadata": {},
   "source": [
    "When we set one variable <b>B</b> equal to <b>A</b>, both <b>A</b> and <b>B</b> are referencing the same list in memory:\n"
   ]
  },
  {
   "cell_type": "code",
   "execution_count": 57,
   "id": "97677ebd-c2f8-4976-b910-492cb8f8e918",
   "metadata": {},
   "outputs": [
    {
     "name": "stdout",
     "output_type": "stream",
     "text": [
      "A: ['hard rock', 10, 1.2]\n",
      "B: ['hard rock', 10, 1.2]\n"
     ]
    }
   ],
   "source": [
    "# Copy (copy by reference) the list A\n",
    "\n",
    "A = [\"hard rock\", 10, 1.2]\n",
    "B = A\n",
    "print('A:', A)\n",
    "print('B:', B)"
   ]
  },
  {
   "cell_type": "markdown",
   "id": "87326d79-76c2-4422-bd61-5d894b7e532f",
   "metadata": {},
   "source": [
    "<img src=\"https://cf-courses-data.s3.us.cloud-object-storage.appdomain.cloud/IBMDeveloperSkillsNetwork-PY0101EN-SkillsNetwork/labs/Module%202/images/ListsRef.png\" width=\"1000\" align=\"center\">\n"
   ]
  },
  {
   "cell_type": "markdown",
   "id": "85e1e3be-58b9-4700-9be0-1513a8cb7d1c",
   "metadata": {},
   "source": [
    "Initially, the value of the first element in <b>B</b> is set as \"hard rock\". If we change the first element in <b>A</b> to <b>\"banana\"</b>, we get an unexpected side effect.  As <b>A</b> and <b>B</b> are referencing the same list, if we change list <b>A</b>, then list <b>B</b> also changes. If we check the first element of <b>B</b> we get \"banana\" instead of \"hard rock\":\n"
   ]
  },
  {
   "cell_type": "code",
   "execution_count": 58,
   "id": "5d1e9e9e-5701-49ad-aec6-bef343f952b0",
   "metadata": {},
   "outputs": [
    {
     "name": "stdout",
     "output_type": "stream",
     "text": [
      "B[0]: hard rock\n",
      "B[0]: banana\n"
     ]
    }
   ],
   "source": [
    "# Examine the copy by reference\n",
    "\n",
    "print('B[0]:', B[0])\n",
    "A[0] = \"banana\"\n",
    "print('B[0]:', B[0])"
   ]
  },
  {
   "cell_type": "markdown",
   "id": "83c6e9f3-ef2f-4d50-9204-a2edc1e756d5",
   "metadata": {},
   "source": [
    "This is demonstrated in the following figure:\n"
   ]
  },
  {
   "cell_type": "markdown",
   "id": "6584603d-60c5-4d62-943b-37f650079bce",
   "metadata": {},
   "source": [
    "<img src=\"https://cf-courses-data.s3.us.cloud-object-storage.appdomain.cloud/IBMDeveloperSkillsNetwork-PY0101EN-SkillsNetwork/labs/Module%202/images/ListsRefGif.gif\" width=\"1000\">\n"
   ]
  },
  {
   "cell_type": "markdown",
   "id": "61aee7fe-2187-4169-8a7f-b8c71090b773",
   "metadata": {},
   "source": [
    "You can clone list **A** by using  the following syntax:\n"
   ]
  },
  {
   "cell_type": "code",
   "execution_count": 59,
   "id": "0b1fb0d2-91f7-418e-bf49-2ee3da030381",
   "metadata": {},
   "outputs": [
    {
     "data": {
      "text/plain": [
       "['banana', 10, 1.2]"
      ]
     },
     "execution_count": 59,
     "metadata": {},
     "output_type": "execute_result"
    }
   ],
   "source": [
    "# Clone (clone by value) the list A\n",
    "\n",
    "B = A[:]\n",
    "B"
   ]
  },
  {
   "cell_type": "markdown",
   "id": "78241ffd-3f2f-48c8-8793-ffe44f1976dd",
   "metadata": {},
   "source": [
    "Variable **B** references a new copy or clone of the original list. This is demonstrated in the following figure:\n"
   ]
  },
  {
   "cell_type": "markdown",
   "id": "73e70f48-0fc6-412d-8ace-da63fdaca9a7",
   "metadata": {},
   "source": [
    "<img src=\"https://cf-courses-data.s3.us.cloud-object-storage.appdomain.cloud/IBMDeveloperSkillsNetwork-PY0101EN-SkillsNetwork/labs/Module%202/images/ListsVal.gif\" width=\"1000\">\n"
   ]
  },
  {
   "cell_type": "markdown",
   "id": "840c2e27-eb4c-4cb8-9272-9bec1c100248",
   "metadata": {},
   "source": [
    "Now if you change <b>A</b>, <b>B</b> will not change:\n"
   ]
  },
  {
   "cell_type": "code",
   "execution_count": 60,
   "id": "9d7ac79b-4ece-435d-b381-07b664a47ee9",
   "metadata": {},
   "outputs": [
    {
     "name": "stdout",
     "output_type": "stream",
     "text": [
      "B[0]: banana\n",
      "B[0]: banana\n"
     ]
    }
   ],
   "source": [
    "print('B[0]:', B[0])\n",
    "A[0] = \"hard rock\"\n",
    "print('B[0]:', B[0])"
   ]
  },
  {
   "cell_type": "code",
   "execution_count": 61,
   "id": "c523878c-770f-4e5a-ba08-e7616f2be751",
   "metadata": {},
   "outputs": [
    {
     "name": "stdout",
     "output_type": "stream",
     "text": [
      "[1, 2, 6, 3, 4, 5]\n"
     ]
    }
   ],
   "source": [
    "my_list = [1, 2, 3, 4, 5] \n",
    "my_list.insert(2, 6) \n",
    "print(my_list)"
   ]
  },
  {
   "cell_type": "markdown",
   "id": "c5b63872-5e98-4fdd-90e4-43440357803e",
   "metadata": {},
   "source": [
    "<h1 HTMLs from Course"
   ]
  },
  {
   "cell_type": "markdown",
   "id": "68013c2c-b400-4e31-89bd-7ccb4954a5fe",
   "metadata": {},
   "source": [
    "<h3 id=\"dictios\">Dictionaries</h3> "
   ]
  },
  {
   "cell_type": "markdown",
   "id": "bea7b641-dcd6-4dd5-a857-fb0781525571",
   "metadata": {},
   "source": [
    "<a id=\"content\"></a>\n",
    "#### What are Dictionaries?\n"
   ]
  },
  {
   "cell_type": "markdown",
   "id": "e3d08603-c306-4ba7-8f54-f95a21cd92ee",
   "metadata": {},
   "source": [
    "A dictionary consists of keys and values. It is helpful to compare a dictionary to a list. Instead of being indexed numerically like a list, dictionaries have keys. These keys are the keys that are used to access values within a dictionary.   \n",
    "\n",
    "\n",
    "The best example of a dictionary can be accessing person's detais using the **social security number**.   \n",
    "Here the social security number which is a unique number will be the **key** and the details of the people will be the **values** associated with it.\n"
   ]
  },
  {
   "cell_type": "markdown",
   "id": "0fe7f0b4-d128-4686-be2e-37cdb10f846d",
   "metadata": {},
   "source": [
    "<img src=\"https://cf-courses-data.s3.us.cloud-object-storage.appdomain.cloud/54cVKVMZaWEw7wSCDL8NjQ/DictList1.png\" width=\"650\">\n"
   ]
  },
  {
   "cell_type": "markdown",
   "id": "d5756ff3-4f42-453d-9d80-03e4049c0ae0",
   "metadata": {},
   "source": [
    "#### Create a Dictionary and access the elements\n"
   ]
  },
  {
   "cell_type": "markdown",
   "id": "cf2d3ae8-43bf-455f-b694-82a0ee4d80b5",
   "metadata": {},
   "source": [
    "An example of a Dictionary <code>Dict</code>:\n",
    "Here we are creating a dictionary named **Dict** with he following details\n",
    "\n",
    "* Keys are **key1, key2, key3, key4, key5**.\n",
    "* Values are {1,2,[3,3,3],(4,4,4),5,(0,1):6} corresponding to the keys\n"
   ]
  },
  {
   "cell_type": "code",
   "execution_count": 62,
   "id": "45005f08-ebcd-4805-b2eb-ee0174b98953",
   "metadata": {},
   "outputs": [
    {
     "data": {
      "text/plain": [
       "{'key1': 1,\n",
       " 'key2': '2',\n",
       " 'key3': [3, 3, 3],\n",
       " 'key4': (4, 4, 4),\n",
       " 'key5': 5,\n",
       " (0, 1): 6}"
      ]
     },
     "execution_count": 62,
     "metadata": {},
     "output_type": "execute_result"
    }
   ],
   "source": [
    "# Create the dictionary\n",
    "\n",
    "Dict = {\"key1\": 1, \"key2\": \"2\", \"key3\": [3, 3, 3], \"key4\": (4, 4, 4), ('key5'): 5, (0, 1): 6}\n",
    "Dict"
   ]
  },
  {
   "cell_type": "markdown",
   "id": "add78271-e743-464e-b6a6-dfbe0365de08",
   "metadata": {},
   "source": [
    "The keys can be strings:\n"
   ]
  },
  {
   "cell_type": "code",
   "execution_count": 63,
   "id": "ba69d326-2958-448c-9e91-431fa727d0cf",
   "metadata": {},
   "outputs": [
    {
     "data": {
      "text/plain": [
       "1"
      ]
     },
     "execution_count": 63,
     "metadata": {},
     "output_type": "execute_result"
    }
   ],
   "source": [
    "# Access to the value by the key\n",
    "\n",
    "Dict[\"key1\"]"
   ]
  },
  {
   "cell_type": "markdown",
   "id": "ed1a1714-1317-4f26-a247-d208aec2dc2d",
   "metadata": {},
   "source": [
    "Keys can also be any immutable object such as a tuple:\n"
   ]
  },
  {
   "cell_type": "code",
   "execution_count": 64,
   "id": "348d93ef-412c-4940-90c8-c7ec172016cb",
   "metadata": {},
   "outputs": [
    {
     "data": {
      "text/plain": [
       "6"
      ]
     },
     "execution_count": 64,
     "metadata": {},
     "output_type": "execute_result"
    }
   ],
   "source": [
    "# Access to the value by the key\n",
    "\n",
    "Dict[(0, 1)]"
   ]
  },
  {
   "cell_type": "markdown",
   "id": "82ed4aae-5f1a-43a5-b7e6-f28c492a58da",
   "metadata": {},
   "source": [
    "Each key is separated from its value by a colon \"<code>:</code>\".  Commas separate the items, and the whole dictionary is enclosed in curly braces. An empty dictionary without any items is written with just two curly braces, like this  \"<code>{}</code>\".\n"
   ]
  },
  {
   "cell_type": "code",
   "execution_count": 65,
   "id": "7f46d67f-87fc-47bc-af06-3eb09e5b9e12",
   "metadata": {},
   "outputs": [
    {
     "data": {
      "text/plain": [
       "{'Thriller': '1982',\n",
       " 'Back in Black': '1980',\n",
       " 'The Dark Side of the Moon': '1973',\n",
       " 'The Bodyguard': '1992',\n",
       " 'Bat Out of Hell': '1977',\n",
       " 'Their Greatest Hits (1971-1975)': '1976',\n",
       " 'Saturday Night Fever': '1977',\n",
       " 'Rumours': '1977'}"
      ]
     },
     "execution_count": 65,
     "metadata": {},
     "output_type": "execute_result"
    }
   ],
   "source": [
    "# Create a sample dictionary\n",
    "\n",
    "release_year_dict = {\"Thriller\": \"1982\", \"Back in Black\": \"1980\", \n",
    "                    \"The Dark Side of the Moon\": \"1973\", \"The Bodyguard\": \"1992\", \n",
    "                    \"Bat Out of Hell\": \"1977\", \"Their Greatest Hits (1971-1975)\": \"1976\", \n",
    "                    \"Saturday Night Fever\": \"1977\", \"Rumours\": \"1977\"}\n",
    "release_year_dict"
   ]
  },
  {
   "cell_type": "markdown",
   "id": "91b70130-62af-4c5a-bafa-3fcaf4898832",
   "metadata": {},
   "source": [
    "In summary, like a list, a dictionary holds a sequence of elements. Each element is represented by a key and its corresponding value. Dictionaries are created with two curly braces containing keys and values separated by a colon. For every key, there can only be one single value, however,  multiple keys can hold the same value. Keys can only be strings, numbers, or tuples, but values can be any data type.\n"
   ]
  },
  {
   "cell_type": "markdown",
   "id": "ab4d4e5e-02e2-43ee-8bc2-23fd8b4e069b",
   "metadata": {},
   "source": [
    "It is helpful to visualize the dictionary as a table, as in the following image. The first column represents the keys, the second column represents the values.\n"
   ]
  },
  {
   "cell_type": "markdown",
   "id": "5d6d2b03-8ca5-4443-a7bf-1a51fa052804",
   "metadata": {},
   "source": [
    "<img src=\"https://cf-courses-data.s3.us.cloud-object-storage.appdomain.cloud/IBMDeveloperSkillsNetwork-PY0101EN-SkillsNetwork/labs/Module%202/images/DictsStructure.png\" width=\"650\">\n"
   ]
  },
  {
   "cell_type": "markdown",
   "id": "6e17c2c2-14a6-44f1-a3fe-6b30a10b186b",
   "metadata": {},
   "source": [
    "<a id=\"keys\"></a>\n",
    "##### Keys\n"
   ]
  },
  {
   "cell_type": "markdown",
   "id": "063b7fbd-b9bb-48db-b29b-a523bc44c1b3",
   "metadata": {},
   "source": [
    "You can retrieve the values based on the names:\n"
   ]
  },
  {
   "cell_type": "code",
   "execution_count": 66,
   "id": "8b35b51d-23e8-42fd-9aec-b762b50908c5",
   "metadata": {},
   "outputs": [
    {
     "data": {
      "text/plain": [
       "'1982'"
      ]
     },
     "execution_count": 66,
     "metadata": {},
     "output_type": "execute_result"
    }
   ],
   "source": [
    "# Get value by keys\n",
    "\n",
    "release_year_dict['Thriller'] "
   ]
  },
  {
   "cell_type": "markdown",
   "id": "3fca0452-492d-4e7e-999d-9d172da69923",
   "metadata": {},
   "source": [
    "This corresponds to:\n"
   ]
  },
  {
   "cell_type": "markdown",
   "id": "9fb3f64e-cfc3-4a79-8ed6-53bbab9df78c",
   "metadata": {},
   "source": [
    "<img src=\"https://cf-courses-data.s3.us.cloud-object-storage.appdomain.cloud/IBMDeveloperSkillsNetwork-PY0101EN-SkillsNetwork/labs/Module%202/images/DictsKeyOne.png\" width=\"500\">\n"
   ]
  },
  {
   "cell_type": "markdown",
   "id": "88d588a1-c6c3-4ad9-8970-25a050506b26",
   "metadata": {},
   "source": [
    "Similarly for <b>The Bodyguard</b>\n"
   ]
  },
  {
   "cell_type": "code",
   "execution_count": 67,
   "id": "3f8cd9bd-e9f6-4479-b616-8ace1cb029c7",
   "metadata": {},
   "outputs": [
    {
     "data": {
      "text/plain": [
       "'1992'"
      ]
     },
     "execution_count": 67,
     "metadata": {},
     "output_type": "execute_result"
    }
   ],
   "source": [
    "# Get value by key\n",
    "\n",
    "release_year_dict['The Bodyguard'] "
   ]
  },
  {
   "cell_type": "markdown",
   "id": "d092bbe3-424f-4f98-998f-2331d8e85bfb",
   "metadata": {},
   "source": [
    "<img src=\"https://cf-courses-data.s3.us.cloud-object-storage.appdomain.cloud/IBMDeveloperSkillsNetwork-PY0101EN-SkillsNetwork/labs/Module%202/images/DictsKeyTwo.png\" width=\"500\">\n"
   ]
  },
  {
   "cell_type": "markdown",
   "id": "2bb39360-0fe2-4a2b-85de-41f08031e7e0",
   "metadata": {},
   "source": [
    "Now let us retrieve the keys of the dictionary using the method <code>keys()</code>:\n"
   ]
  },
  {
   "cell_type": "code",
   "execution_count": 68,
   "id": "9f6b5778-e12b-4687-b9e5-6dd2b94e6737",
   "metadata": {},
   "outputs": [
    {
     "data": {
      "text/plain": [
       "dict_keys(['Thriller', 'Back in Black', 'The Dark Side of the Moon', 'The Bodyguard', 'Bat Out of Hell', 'Their Greatest Hits (1971-1975)', 'Saturday Night Fever', 'Rumours'])"
      ]
     },
     "execution_count": 68,
     "metadata": {},
     "output_type": "execute_result"
    }
   ],
   "source": [
    "# Get all the keys in dictionary\n",
    "\n",
    "release_year_dict.keys() "
   ]
  },
  {
   "cell_type": "markdown",
   "id": "e6bb344b-0e86-44d9-a138-036cdff63351",
   "metadata": {},
   "source": [
    "You can retrieve the values using the method  <code>values()</code>:\n"
   ]
  },
  {
   "cell_type": "code",
   "execution_count": 69,
   "id": "f2654b19-f5b5-485e-8a05-a8e2133c0c4b",
   "metadata": {},
   "outputs": [
    {
     "data": {
      "text/plain": [
       "dict_values(['1982', '1980', '1973', '1992', '1977', '1976', '1977', '1977'])"
      ]
     },
     "execution_count": 69,
     "metadata": {},
     "output_type": "execute_result"
    }
   ],
   "source": [
    "# Get all the values in dictionary\n",
    "\n",
    "release_year_dict.values() "
   ]
  },
  {
   "cell_type": "markdown",
   "id": "c71aa9cf-9c85-4b9f-afea-0f09e160f7cc",
   "metadata": {},
   "source": [
    "We can add an entry:\n"
   ]
  },
  {
   "cell_type": "code",
   "execution_count": 70,
   "id": "812bd012-b31c-455f-a846-48ecfdade383",
   "metadata": {},
   "outputs": [
    {
     "data": {
      "text/plain": [
       "{'Thriller': '1982',\n",
       " 'Back in Black': '1980',\n",
       " 'The Dark Side of the Moon': '1973',\n",
       " 'The Bodyguard': '1992',\n",
       " 'Bat Out of Hell': '1977',\n",
       " 'Their Greatest Hits (1971-1975)': '1976',\n",
       " 'Saturday Night Fever': '1977',\n",
       " 'Rumours': '1977',\n",
       " 'Graduation': '2007'}"
      ]
     },
     "execution_count": 70,
     "metadata": {},
     "output_type": "execute_result"
    }
   ],
   "source": [
    "# Append value with key into dictionary\n",
    "\n",
    "release_year_dict['Graduation'] = '2007'\n",
    "release_year_dict"
   ]
  },
  {
   "cell_type": "markdown",
   "id": "d219efae-ebae-446a-81f3-b100d8f27312",
   "metadata": {},
   "source": [
    "We can delete an entry:\n"
   ]
  },
  {
   "cell_type": "code",
   "execution_count": 71,
   "id": "30cc6271-c3e6-4328-b3a2-7e7059f55048",
   "metadata": {},
   "outputs": [
    {
     "data": {
      "text/plain": [
       "{'Back in Black': '1980',\n",
       " 'The Dark Side of the Moon': '1973',\n",
       " 'The Bodyguard': '1992',\n",
       " 'Bat Out of Hell': '1977',\n",
       " 'Their Greatest Hits (1971-1975)': '1976',\n",
       " 'Saturday Night Fever': '1977',\n",
       " 'Rumours': '1977'}"
      ]
     },
     "execution_count": 71,
     "metadata": {},
     "output_type": "execute_result"
    }
   ],
   "source": [
    "# Delete entries by key\n",
    "\n",
    "del(release_year_dict['Thriller'])\n",
    "del(release_year_dict['Graduation'])\n",
    "release_year_dict"
   ]
  },
  {
   "cell_type": "markdown",
   "id": "f0fe11bb-326e-4e1f-ac19-b26bbc5aa2b7",
   "metadata": {},
   "source": [
    "We can verify if an element is in the dictionary:\n"
   ]
  },
  {
   "cell_type": "code",
   "execution_count": 72,
   "id": "182ca409-d7f8-42dc-94e2-211aceda961d",
   "metadata": {},
   "outputs": [
    {
     "data": {
      "text/plain": [
       "True"
      ]
     },
     "execution_count": 72,
     "metadata": {},
     "output_type": "execute_result"
    }
   ],
   "source": [
    "# Verify the key is in the dictionary\n",
    "\n",
    "'The Bodyguard' in release_year_dict"
   ]
  },
  {
   "cell_type": "markdown",
   "id": "98e389c9-c0b9-48b4-ab1a-e6b819bc1738",
   "metadata": {
    "editable": true,
    "slideshow": {
     "slide_type": ""
    },
    "tags": []
   },
   "source": [
    "### Sets"
   ]
  },
  {
   "cell_type": "markdown",
   "id": "6a3ddcd2-08fb-4931-bfd5-7f6163b6af6f",
   "metadata": {},
   "source": [
    "<h4 id=\"content\">Set Content</h4>\n"
   ]
  },
  {
   "cell_type": "markdown",
   "id": "231e7c59-7dcc-4727-87f7-2a18655ad6e9",
   "metadata": {},
   "source": [
    "A set is a unique collection of objects in Python. You can denote a set with a pair of curly brackets <b>{}</b>. Python will automatically remove duplicate items:\n"
   ]
  },
  {
   "cell_type": "code",
   "execution_count": 73,
   "id": "0d1b1061-05af-4caa-b0af-fb0ee399bc7e",
   "metadata": {},
   "outputs": [
    {
     "data": {
      "text/plain": [
       "{'R&B', 'disco', 'hard rock', 'pop', 'rock', 'soul'}"
      ]
     },
     "execution_count": 73,
     "metadata": {},
     "output_type": "execute_result"
    }
   ],
   "source": [
    "# Create a set\n",
    "\n",
    "set1 = {\"pop\", \"rock\", \"soul\", \"hard rock\", \"rock\", \"R&B\", \"rock\", \"disco\"}\n",
    "set1"
   ]
  },
  {
   "cell_type": "markdown",
   "id": "3133bec8-28b6-41c1-a7ad-86161a24f264",
   "metadata": {},
   "source": [
    "The process of mapping is illustrated in the figure:\n"
   ]
  },
  {
   "cell_type": "markdown",
   "id": "1345e38d-a61c-4a12-9861-fb1b7f52e185",
   "metadata": {},
   "source": [
    "<img src=\"https://cf-courses-data.s3.us.cloud-object-storage.appdomain.cloud/IBMDeveloperSkillsNetwork-PY0101EN-SkillsNetwork/labs/Module%202/images/SetsUnique.png\" width=\"1100\">\n"
   ]
  },
  {
   "cell_type": "markdown",
   "id": "5e04d499-9416-49f9-a249-818eb4d70ce4",
   "metadata": {},
   "source": [
    " You can also  create a set from a list as follows:\n"
   ]
  },
  {
   "cell_type": "code",
   "execution_count": 74,
   "id": "4576cb8c-a799-45ee-9b74-d7105712df59",
   "metadata": {
    "scrolled": true
   },
   "outputs": [
    {
     "data": {
      "text/plain": [
       "{'00:42:19',\n",
       " 10.0,\n",
       " 1982,\n",
       " '30-Nov-82',\n",
       " 46.0,\n",
       " 65,\n",
       " 'Michael Jackson',\n",
       " None,\n",
       " 'Pop, Rock, R&B',\n",
       " 'Thriller'}"
      ]
     },
     "execution_count": 74,
     "metadata": {},
     "output_type": "execute_result"
    }
   ],
   "source": [
    "# Convert list to set\n",
    "\n",
    "album_list = [ \"Michael Jackson\", \"Thriller\", 1982, \"00:42:19\", \n",
    "              \"Pop, Rock, R&B\", 46.0, 65, \"30-Nov-82\", None, 10.0]\n",
    "album_set = set(album_list)             \n",
    "album_set"
   ]
  },
  {
   "cell_type": "markdown",
   "id": "fce3e894-0fd2-478d-91f4-235dbc8a8cfa",
   "metadata": {},
   "source": [
    "Now let us create a set of  genres:\n"
   ]
  },
  {
   "cell_type": "code",
   "execution_count": 75,
   "id": "86b24a16-6b89-4604-bc71-4bcb6918e08e",
   "metadata": {},
   "outputs": [
    {
     "data": {
      "text/plain": [
       "{'R&B',\n",
       " 'disco',\n",
       " 'folk rock',\n",
       " 'hard rock',\n",
       " 'pop',\n",
       " 'progressive rock',\n",
       " 'rock',\n",
       " 'soft rock',\n",
       " 'soul'}"
      ]
     },
     "execution_count": 75,
     "metadata": {},
     "output_type": "execute_result"
    }
   ],
   "source": [
    "# Convert list to set\n",
    "\n",
    "music_genres = set([\"pop\", \"pop\", \"rock\", \"folk rock\", \"hard rock\", \"soul\",\n",
    "                    \"progressive rock\", \"soft rock\", \"R&B\", \"disco\"])\n",
    "music_genres"
   ]
  },
  {
   "cell_type": "markdown",
   "id": "6153f07a-e12f-4a67-bc20-637e47dcfc2f",
   "metadata": {},
   "source": [
    "<h4 id=\"op\">Set Operations</h4> \n"
   ]
  },
  {
   "cell_type": "markdown",
   "id": "bfb0cc7d-1d8e-4ada-ae93-97eacf99b7b7",
   "metadata": {},
   "source": [
    "Let us go over set operations, as these can be used to change the set. Consider the set <b>A</b>:\n"
   ]
  },
  {
   "cell_type": "code",
   "execution_count": 76,
   "id": "2ec90914-9667-477f-8b73-bb2476b03770",
   "metadata": {},
   "outputs": [
    {
     "data": {
      "text/plain": [
       "{'AC/DC', 'Back in Black', 'Thriller'}"
      ]
     },
     "execution_count": 76,
     "metadata": {},
     "output_type": "execute_result"
    }
   ],
   "source": [
    "# Sample set\n",
    "\n",
    "A = set([\"Thriller\", \"Back in Black\", \"AC/DC\"])\n",
    "A"
   ]
  },
  {
   "cell_type": "markdown",
   "id": "44f976c1-5f9c-472e-a025-5fbda792e031",
   "metadata": {},
   "source": [
    " We can add an element to a set using the <code>add()</code> method: \n"
   ]
  },
  {
   "cell_type": "code",
   "execution_count": 77,
   "id": "47b27670-71e2-4644-8e1d-37d74527daec",
   "metadata": {},
   "outputs": [
    {
     "data": {
      "text/plain": [
       "{'AC/DC', 'Back in Black', 'NSYNC', 'Thriller'}"
      ]
     },
     "execution_count": 77,
     "metadata": {},
     "output_type": "execute_result"
    }
   ],
   "source": [
    "# Add element to set\n",
    "\n",
    "A.add(\"NSYNC\")\n",
    "A"
   ]
  },
  {
   "cell_type": "markdown",
   "id": "b103dea2-7cb7-4ed9-8be5-d2e4a742474a",
   "metadata": {},
   "source": [
    " If we add the same element twice, nothing will happen as there can be no duplicates in a set:\n"
   ]
  },
  {
   "cell_type": "code",
   "execution_count": 78,
   "id": "f03a9c23-b0d9-4031-b3fc-096194055554",
   "metadata": {},
   "outputs": [
    {
     "data": {
      "text/plain": [
       "{'AC/DC', 'Back in Black', 'NSYNC', 'Thriller'}"
      ]
     },
     "execution_count": 78,
     "metadata": {},
     "output_type": "execute_result"
    }
   ],
   "source": [
    "# Try to add duplicate element to the set\n",
    "\n",
    "A.add(\"NSYNC\")\n",
    "A"
   ]
  },
  {
   "cell_type": "markdown",
   "id": "70bf982d-de81-4a47-9fbe-b114d481ea21",
   "metadata": {},
   "source": [
    " We can remove an item from a set using the <code>remove</code> method:\n"
   ]
  },
  {
   "cell_type": "code",
   "execution_count": 79,
   "id": "7e631eac-2dee-481b-822f-6ed42ab37ea2",
   "metadata": {},
   "outputs": [
    {
     "data": {
      "text/plain": [
       "{'AC/DC', 'Back in Black', 'Thriller'}"
      ]
     },
     "execution_count": 79,
     "metadata": {},
     "output_type": "execute_result"
    }
   ],
   "source": [
    "# Remove the element from set\n",
    "\n",
    "A.remove(\"NSYNC\")\n",
    "A"
   ]
  },
  {
   "cell_type": "markdown",
   "id": "a6e39679-1e41-4904-bf7a-20e4ce59c2a4",
   "metadata": {},
   "source": [
    " We can verify if an element is in the set using the <code>in</code> command:\n"
   ]
  },
  {
   "cell_type": "code",
   "execution_count": 80,
   "id": "92f4ff8d-6e62-4a0f-b07c-7962c32185df",
   "metadata": {},
   "outputs": [
    {
     "data": {
      "text/plain": [
       "True"
      ]
     },
     "execution_count": 80,
     "metadata": {},
     "output_type": "execute_result"
    }
   ],
   "source": [
    "# Verify if the element is in the set\n",
    "\n",
    "\"AC/DC\" in A"
   ]
  },
  {
   "cell_type": "markdown",
   "id": "2c0283ca-dc37-4032-8ede-5d10b121c771",
   "metadata": {},
   "source": [
    "<h4 id=\"logic\">Sets Logic Operations</h4>\n"
   ]
  },
  {
   "cell_type": "markdown",
   "id": "43d9267a-83ad-4121-8082-ba440426ae63",
   "metadata": {},
   "source": [
    "Remember that with sets you can check the difference between sets, as well as the symmetric difference, intersection, and union:\n"
   ]
  },
  {
   "cell_type": "markdown",
   "id": "bc5cf1e7-85a8-4a92-9172-c66785dc23f8",
   "metadata": {},
   "source": [
    " Consider the following two sets:\n"
   ]
  },
  {
   "cell_type": "code",
   "execution_count": 81,
   "id": "d0c9c873-828d-4cc2-94d4-22aa4a5bbac6",
   "metadata": {},
   "outputs": [],
   "source": [
    "# Sample Sets\n",
    "\n",
    "album_set1 = set([\"Thriller\", 'AC/DC', 'Back in Black'])\n",
    "album_set2 = set([ \"AC/DC\", \"Back in Black\", \"The Dark Side of the Moon\"])"
   ]
  },
  {
   "cell_type": "markdown",
   "id": "3783c6ef-a1a0-4428-90ef-c1b12ba08a9c",
   "metadata": {},
   "source": [
    "<img src=\"https://cf-courses-data.s3.us.cloud-object-storage.appdomain.cloud/IBMDeveloperSkillsNetwork-PY0101EN-SkillsNetwork/labs/Module%202/images/SetsSamples.png\" width=\"650\">\n"
   ]
  },
  {
   "cell_type": "code",
   "execution_count": 82,
   "id": "812c5389-4a76-4c03-bf51-9817b53bc183",
   "metadata": {
    "scrolled": true
   },
   "outputs": [
    {
     "data": {
      "text/plain": [
       "({'AC/DC', 'Back in Black', 'Thriller'},\n",
       " {'AC/DC', 'Back in Black', 'The Dark Side of the Moon'})"
      ]
     },
     "execution_count": 82,
     "metadata": {},
     "output_type": "execute_result"
    }
   ],
   "source": [
    "# Print two sets\n",
    "\n",
    "album_set1, album_set2"
   ]
  },
  {
   "cell_type": "markdown",
   "id": "2356d120-dcba-4bb3-8b0c-8f3c34d03b9e",
   "metadata": {},
   "source": [
    "As both sets contain <b>AC/DC</b> and <b>Back in Black</b> we represent these common elements with the intersection of two circles.\n"
   ]
  },
  {
   "cell_type": "markdown",
   "id": "b2f2e042-9360-4653-a43d-c8ac7cabfdf1",
   "metadata": {},
   "source": [
    "<img src=\"https://cf-courses-data.s3.us.cloud-object-storage.appdomain.cloud/IBMDeveloperSkillsNetwork-PY0101EN-SkillsNetwork/labs/Module%202/images/SetsLogic.png\" width=\"650\">\n"
   ]
  },
  {
   "cell_type": "markdown",
   "id": "7d12788f-9390-48c7-8c1c-0f3d2573464f",
   "metadata": {},
   "source": [
    "You can find the intersect of two sets as follow using <code>&</code>:\n"
   ]
  },
  {
   "cell_type": "code",
   "execution_count": 83,
   "id": "cf8b9a65-6cce-42ea-8db1-2e4c7b76b37e",
   "metadata": {},
   "outputs": [
    {
     "data": {
      "text/plain": [
       "{'AC/DC', 'Back in Black'}"
      ]
     },
     "execution_count": 83,
     "metadata": {},
     "output_type": "execute_result"
    }
   ],
   "source": [
    "# Find the intersections\n",
    "\n",
    "intersection = album_set1 & album_set2\n",
    "intersection"
   ]
  },
  {
   "cell_type": "markdown",
   "id": "2bcc3f3d-5279-4a5c-a20a-4e71f186d28b",
   "metadata": {},
   "source": [
    "You can find all the elements that are only contained in <code>album_set1</code> using the <code>difference</code> method:\n"
   ]
  },
  {
   "cell_type": "code",
   "execution_count": 84,
   "id": "a8c3100f-261b-488f-8a32-e83e5e2b9c5f",
   "metadata": {},
   "outputs": [
    {
     "data": {
      "text/plain": [
       "{'Thriller'}"
      ]
     },
     "execution_count": 84,
     "metadata": {},
     "output_type": "execute_result"
    }
   ],
   "source": [
    "# Find the difference in set1 but not set2\n",
    "\n",
    "album_set1.difference(album_set2)  "
   ]
  },
  {
   "cell_type": "markdown",
   "id": "821bbacf-b16e-4a17-a373-1db5d3a9dae3",
   "metadata": {},
   "source": [
    "You only need to consider elements in <code>album_set1</code>; all the elements in <code>album_set2</code>, including the intersection, are not included.\n"
   ]
  },
  {
   "cell_type": "markdown",
   "id": "c922142e-c557-4762-b5a4-f8e78a14fe2b",
   "metadata": {},
   "source": [
    "<img src=\"https://cf-courses-data.s3.us.cloud-object-storage.appdomain.cloud/IBMDeveloperSkillsNetwork-PY0101EN-SkillsNetwork/labs/Module%202/images/SetsLeft.png\" width=\"650\">\n"
   ]
  },
  {
   "cell_type": "markdown",
   "id": "4cb73682-ffd1-4871-b5b3-0b000050d028",
   "metadata": {},
   "source": [
    "The elements in <code>album_set2</code> but not in <code>album_set1</code> is given by:\n"
   ]
  },
  {
   "cell_type": "code",
   "execution_count": 85,
   "id": "c1f22c96-6554-449f-b0d4-848b5df42c71",
   "metadata": {},
   "outputs": [
    {
     "data": {
      "text/plain": [
       "{'The Dark Side of the Moon'}"
      ]
     },
     "execution_count": 85,
     "metadata": {},
     "output_type": "execute_result"
    }
   ],
   "source": [
    "album_set2.difference(album_set1)  "
   ]
  },
  {
   "cell_type": "markdown",
   "id": "2ae68457-ca85-4333-912c-193a19631701",
   "metadata": {},
   "source": [
    "<img src=\"https://cf-courses-data.s3.us.cloud-object-storage.appdomain.cloud/IBMDeveloperSkillsNetwork-PY0101EN-SkillsNetwork/labs/Module%202/images/SetsRight.png\" width=\"650\">\n"
   ]
  },
  {
   "cell_type": "markdown",
   "id": "5a135ac3-fb14-40df-b28d-a601ed7df4af",
   "metadata": {},
   "source": [
    "You can also find the intersection of <code>album_list1</code> and <code>album_list2</code>, using the <code>intersection</code> method:\n"
   ]
  },
  {
   "cell_type": "code",
   "execution_count": 86,
   "id": "60966e5a-5f0f-4e32-98d6-1a72269157ef",
   "metadata": {},
   "outputs": [
    {
     "data": {
      "text/plain": [
       "{'AC/DC', 'Back in Black'}"
      ]
     },
     "execution_count": 86,
     "metadata": {},
     "output_type": "execute_result"
    }
   ],
   "source": [
    "# Use intersection method to find the intersection of album_list1 and album_list2\n",
    "\n",
    "album_set1.intersection(album_set2)   "
   ]
  },
  {
   "cell_type": "markdown",
   "id": "9798cde2-5dbc-497e-8494-e0f127754b70",
   "metadata": {},
   "source": [
    " This corresponds to the intersection of the two circles:\n"
   ]
  },
  {
   "cell_type": "markdown",
   "id": "fced7a67-6488-4aee-bd1c-e8185ee2618a",
   "metadata": {},
   "source": [
    "<img src=\"https://cf-courses-data.s3.us.cloud-object-storage.appdomain.cloud/IBMDeveloperSkillsNetwork-PY0101EN-SkillsNetwork/labs/Module%202/images/SetsIntersect.png\" width=\"650\">\n"
   ]
  },
  {
   "cell_type": "markdown",
   "id": "57f7c648-cb68-4d14-bac7-96f18fe0f68f",
   "metadata": {},
   "source": [
    "The union corresponds to all the elements in both sets, which is represented by coloring both circles:\n"
   ]
  },
  {
   "cell_type": "markdown",
   "id": "dafaad09-719e-4f94-8a68-1c6aad5caed7",
   "metadata": {},
   "source": [
    "<img src=\"https://cf-courses-data.s3.us.cloud-object-storage.appdomain.cloud/IBMDeveloperSkillsNetwork-PY0101EN-SkillsNetwork/labs/Module%202/images/SetsUnion.png\" width=\"650\">\n"
   ]
  },
  {
   "cell_type": "markdown",
   "id": "13a36a69-6093-4e78-930c-ec1747a75538",
   "metadata": {},
   "source": [
    " The union is given by:\n"
   ]
  },
  {
   "cell_type": "code",
   "execution_count": 87,
   "id": "deb4c3ea-44d2-47fe-b267-a35774df80ce",
   "metadata": {},
   "outputs": [
    {
     "data": {
      "text/plain": [
       "{'AC/DC', 'Back in Black', 'The Dark Side of the Moon', 'Thriller'}"
      ]
     },
     "execution_count": 87,
     "metadata": {},
     "output_type": "execute_result"
    }
   ],
   "source": [
    "# Find the union of two sets\n",
    "\n",
    "album_set1.union(album_set2)"
   ]
  },
  {
   "cell_type": "markdown",
   "id": "19442b68-7ff8-4387-8344-c6e577e7ffba",
   "metadata": {},
   "source": [
    "And you can check if a set is a superset or subset of another set, respectively, like this:\n"
   ]
  },
  {
   "cell_type": "code",
   "execution_count": 88,
   "id": "dc37a0c8-4746-4030-a861-d9ef6280c2d3",
   "metadata": {},
   "outputs": [
    {
     "data": {
      "text/plain": [
       "False"
      ]
     },
     "execution_count": 88,
     "metadata": {},
     "output_type": "execute_result"
    }
   ],
   "source": [
    "# Check if superset\n",
    "\n",
    "set(album_set1).issuperset(album_set2)   "
   ]
  },
  {
   "cell_type": "code",
   "execution_count": 89,
   "id": "b2181619-fceb-4d91-ae64-b4fbf7bd32f0",
   "metadata": {},
   "outputs": [
    {
     "data": {
      "text/plain": [
       "False"
      ]
     },
     "execution_count": 89,
     "metadata": {},
     "output_type": "execute_result"
    }
   ],
   "source": [
    "# Check if subset\n",
    "\n",
    "set(album_set2).issubset(album_set1)     "
   ]
  },
  {
   "cell_type": "markdown",
   "id": "0d6cb8b2-fb57-4f7d-aca6-80cb35aec38a",
   "metadata": {},
   "source": [
    "Here is an example where <code>issubset()</code> and <code>issuperset()</code> return true:\n"
   ]
  },
  {
   "cell_type": "code",
   "execution_count": 90,
   "id": "ff7f963a-3a78-4e30-923e-ec563e124066",
   "metadata": {},
   "outputs": [
    {
     "data": {
      "text/plain": [
       "True"
      ]
     },
     "execution_count": 90,
     "metadata": {},
     "output_type": "execute_result"
    }
   ],
   "source": [
    "# Check if subset\n",
    "\n",
    "set({\"Back in Black\", \"AC/DC\"}).issubset(album_set1) "
   ]
  },
  {
   "cell_type": "code",
   "execution_count": 91,
   "id": "52982ebe-6c1b-4be7-8d4e-f9cfeb8be21f",
   "metadata": {},
   "outputs": [
    {
     "data": {
      "text/plain": [
       "True"
      ]
     },
     "execution_count": 91,
     "metadata": {},
     "output_type": "execute_result"
    }
   ],
   "source": [
    "# Check if superset\n",
    "\n",
    "album_set1.issuperset({\"Back in Black\", \"AC/DC\"})   "
   ]
  },
  {
   "cell_type": "markdown",
   "id": "719e81ba-5148-4d8b-ad67-e721623f85a5",
   "metadata": {},
   "source": [
    "* Module 2 Summary: Python Data Structures\n",
    "\n",
    "  In Python, we often use tuples to group related data together.Tuples refer to ordered and immutable collections of elements.\n",
    "\n",
    "    Tuples are usually written as comma-separated elements in parentheses “()\".\n",
    "\n",
    "    You can include strings, integers, and floats in tuples and access them using both positive and negative indices.\n",
    "\n",
    "    You can perform operations such as combining, concatenating, and slicing on tuples.\n",
    "\n",
    "    Tuples are immutable, so you need to create a new tuple to manipulate it.\n",
    "\n",
    "    Tuples, termed nesting, can include other tuples of complex data types.\n",
    "\n",
    "    You can access elements in a nested tuple through indexing.\n",
    "\n",
    "    Lists in Python contain ordered collections of items that can hold elements of different types and are mutable, allowing for versatile data storage and manipulation.\n",
    "\n",
    "    A list is an ordered sequence, represented with square brackets \"[]\".\n",
    "\n",
    "    Lists possess mutability, rendering them akin to tuples.\n",
    "\n",
    "    A list can contain strings, integers, and floats; you can nest lists within it.\n",
    "\n",
    "    You can access each element in a list using both positive and negative indexing.\n",
    "\n",
    "    Concatenating or appending a list will result in the modification of the same list.\n",
    "\n",
    "    You can perform operations such as adding, deleting, splitting, and so forth on a list.\n",
    "\n",
    "    You can separate elements in a list using delimiters.\n",
    "\n",
    "    Aliasing occurs when multiple names refer to the same object.\n",
    "\n",
    "    You can also clone a list to create another list.\n",
    "\n",
    "    Dictionaries in Python are key-value pairs that provide a flexible way to store and retrieve data based on unique keys.\n",
    "\n",
    "    Dictionaries consist of keys and values, both composed of string elements.\n",
    "\n",
    "    You denote dictionaries using curly brackets.\n",
    "\n",
    "    The keys necessitate immutability and uniqueness.\n",
    "\n",
    "    The values may be either immutable or mutable, and they allow duplicates.\n",
    "\n",
    "    You separate each key-value pair with a comma, and you can use color highlighting to make the key more visible.\n",
    "\n",
    "    You can assign dictionaries to a variable.\n",
    "\n",
    "    You use the key as an argument to retrieve the corresponding value.\n",
    "\n",
    "    You can make additions and deletions to dictionaries.\n",
    "\n",
    "    You can perform an operation on a dictionary to check the key, which results in a true or false output.\n",
    "\n",
    "    You can apply methods to obtain a list of keys and values in a dictionary.\n",
    "\n",
    "    Sets in Python are collections of unique elements, useful for tasks such as removing duplicates and performing set operations like union and intersection. Sets lack order.\n",
    "\n",
    "    Curly brackets \"{}\" are helpful for defining elements of a set.\n",
    "\n",
    "    Sets do not contain duplicate items.\n",
    "\n",
    "    A list passed through the set function generates a set containing unique elements.\n",
    "\n",
    "    You use “Set Operations” to perform actions such as adding, removing, and verifying elements in a set.\n",
    "\n",
    "    You can combine sets using the ampersand \"&\" operator to obtain the common elements from both sets.\n",
    "\n",
    "    You can use the Union function to combine two sets, including both the common and unique elements from both sets.\n",
    "\n",
    "    The sub-set method is used to determine if two or more sets are subsets."
   ]
  },
  {
   "cell_type": "markdown",
   "id": "0960fc0f-2a4d-4a42-a705-c01c1ee7515f",
   "metadata": {},
   "source": [
    "<h1 id=M3>Module 3 </h1>"
   ]
  },
  {
   "cell_type": "markdown",
   "id": "d99765ca-5bf1-4004-8e8f-a8b5ce3d6eea",
   "metadata": {},
   "source": [
    "<h2 id=\"cond\">Condition Statements</h2>\n"
   ]
  },
  {
   "cell_type": "markdown",
   "id": "fbf0e92a-b010-4948-9d17-fcf3ef3b12a3",
   "metadata": {},
   "source": [
    "<h3 id=\"comp\">Comparison Operators</h3>\n"
   ]
  },
  {
   "cell_type": "markdown",
   "id": "87ef5cf3-8595-4a70-928b-0fd8543f468e",
   "metadata": {},
   "source": [
    "Comparison operations compare some value or operand and based on a condition, produce a Boolean. When comparing two values you can use these operators:\n",
    "\n",
    "<ul>\n",
    "    <li>equal: <b>==</b></li>\n",
    "    <li>not equal: <b>!=</b></li>\n",
    "    <li>greater than: <b>></b></li>\n",
    "    <li>less than: <b>&lt;</b></li>\n",
    "    <li>greater than or equal to: <b>>=</b></li>\n",
    "    <li>less than or equal to: <b>&lt;=</b></li>\n",
    "</ul>\n"
   ]
  },
  {
   "cell_type": "markdown",
   "id": "4c256895-f582-4633-8b35-fbab6e374417",
   "metadata": {},
   "source": [
    "Let's assign <code>a</code> a value of 5. Use the equality operator denoted with two equal <b>==</b> signs to determine if two values are equal. The case below compares the variable <code>a</code> with 6.\n"
   ]
  },
  {
   "cell_type": "code",
   "execution_count": 92,
   "id": "b9c7c302-ac56-4a16-ac22-8ef4299434da",
   "metadata": {},
   "outputs": [
    {
     "data": {
      "text/plain": [
       "False"
      ]
     },
     "execution_count": 92,
     "metadata": {},
     "output_type": "execute_result"
    }
   ],
   "source": [
    "# Condition Equal\n",
    "\n",
    "a = 5\n",
    "a == 6"
   ]
  },
  {
   "cell_type": "markdown",
   "id": "ba3a59de-1293-4453-b316-3eb6a2786a2f",
   "metadata": {},
   "source": [
    "The result is <b>False</b>, as 5 does not equal to 6.\n"
   ]
  },
  {
   "cell_type": "markdown",
   "id": "71d85d6d-60ee-4fd2-8d5f-92d188687ca9",
   "metadata": {},
   "source": [
    "Consider the following equality comparison operator: <code>i > 5</code>. If the value of the left operand, in this case the variable <b>i</b>, is greater than the value of the right operand, in this case 5, then the statement is <b>True</b>. Otherwise, the statement is <b>False</b>.  If <b>i</b> is equal to 6, because 6 is larger than 5, the output is <b>True</b>.\n"
   ]
  },
  {
   "cell_type": "code",
   "execution_count": 93,
   "id": "4a8cf67b-6287-42d6-a3c8-1682b973c4e0",
   "metadata": {},
   "outputs": [
    {
     "data": {
      "text/plain": [
       "True"
      ]
     },
     "execution_count": 93,
     "metadata": {},
     "output_type": "execute_result"
    }
   ],
   "source": [
    "# Greater than Sign\n",
    "\n",
    "i = 6\n",
    "i > 5"
   ]
  },
  {
   "cell_type": "markdown",
   "id": "24c50c78-a459-40e6-ac51-2a9b06d0755d",
   "metadata": {},
   "source": [
    "Set <code>i = 2</code>. The statement is False as 2 is not greater than 5:\n"
   ]
  },
  {
   "cell_type": "code",
   "execution_count": 94,
   "id": "1ff7775d-e692-46e2-8895-a93a8022e721",
   "metadata": {},
   "outputs": [
    {
     "data": {
      "text/plain": [
       "False"
      ]
     },
     "execution_count": 94,
     "metadata": {},
     "output_type": "execute_result"
    }
   ],
   "source": [
    "# Greater than Sign\n",
    "\n",
    "i = 2\n",
    "i > 5"
   ]
  },
  {
   "cell_type": "code",
   "execution_count": 95,
   "id": "d458df20-74fb-4d0f-b6d3-542b8e04ce3b",
   "metadata": {},
   "outputs": [
    {
     "data": {
      "text/plain": [
       "True"
      ]
     },
     "execution_count": 95,
     "metadata": {},
     "output_type": "execute_result"
    }
   ],
   "source": [
    "# Inequality Sign\n",
    "\n",
    "i = 2\n",
    "i != 6"
   ]
  },
  {
   "cell_type": "markdown",
   "id": "da051443-ce91-4bc5-b7d4-f6785df503c2",
   "metadata": {},
   "source": [
    "When <code>i</code> equals 6 the inequality expression produces <b>False</b>. \n"
   ]
  },
  {
   "cell_type": "code",
   "execution_count": 96,
   "id": "45c120f2-913e-49af-81c3-cb504f884f0c",
   "metadata": {},
   "outputs": [
    {
     "data": {
      "text/plain": [
       "False"
      ]
     },
     "execution_count": 96,
     "metadata": {},
     "output_type": "execute_result"
    }
   ],
   "source": [
    "# Inequality Sign\n",
    "\n",
    "i = 6\n",
    "i != 6"
   ]
  },
  {
   "cell_type": "code",
   "execution_count": 97,
   "id": "586728ed-1d2d-487e-b5f0-65c5c8610ccf",
   "metadata": {},
   "outputs": [
    {
     "data": {
      "text/plain": [
       "False"
      ]
     },
     "execution_count": 97,
     "metadata": {},
     "output_type": "execute_result"
    }
   ],
   "source": [
    "# Use Equality sign to compare the strings\n",
    "\n",
    "\"ACDC\" == \"Michael Jackson\""
   ]
  },
  {
   "cell_type": "markdown",
   "id": "144252a6-5196-4e6a-bda4-6a6405d2111e",
   "metadata": {},
   "source": [
    " If we use the inequality operator, the output is going to be **True** as the strings are not equal.\n"
   ]
  },
  {
   "cell_type": "code",
   "execution_count": 98,
   "id": "b8a5afcc-af18-4b46-99fd-2c93788b3a64",
   "metadata": {},
   "outputs": [
    {
     "data": {
      "text/plain": [
       "True"
      ]
     },
     "execution_count": 98,
     "metadata": {},
     "output_type": "execute_result"
    }
   ],
   "source": [
    "# Use Inequality sign to compare the strings\n",
    "\n",
    "\"ACDC\" != \"Michael Jackson\""
   ]
  },
  {
   "cell_type": "markdown",
   "id": "064a56a3-0741-4b62-8d21-52ae63f535b2",
   "metadata": {},
   "source": [
    "The inequality operation is also used to compare the letters/words/symbols according to the ASCII value of letters. The decimal value shown in the following table represents the order of the character:\n"
   ]
  },
  {
   "cell_type": "markdown",
   "id": "47db2623-7520-4609-a870-d9f8bcb67dde",
   "metadata": {},
   "source": [
    "\n",
    "<style type=\"text/css\">\n",
    ".tg  {border-collapse:collapse;border-spacing:0;}\n",
    ".tg td{border-color:black;border-style:solid;border-width:1px;font-family:Arial, sans-serif;font-size:14px;\n",
    "  overflow:hidden;padding:10px 5px;word-break:normal;}\n",
    ".tg th{border-color:black;border-style:solid;border-width:1px;font-family:Arial, sans-serif;font-size:14px;\n",
    "  font-weight:normal;overflow:hidden;padding:10px 5px;word-break:normal;}\n",
    ".tg .tg-baqh{text-align:center;vertical-align:top}\n",
    ".tg .tg-7geq{background-color:#ffffc7;text-align:center;vertical-align:top}\n",
    ".tg .tg-1cln{background-color:#ffcc67;font-size:100%;font-weight:bold;text-align:center;vertical-align:top}\n",
    ".tg .tg-xozw{background-color:#ffcc67;font-weight:bold;text-align:center;vertical-align:top}\n",
    "</style>\n",
    "<table class=\"tg\">\n",
    "<thead>\n",
    "  <tr>\n",
    "    <th class=\"tg-1cln\">Char.</th>\n",
    "    <th class=\"tg-xozw\">ASCII</th>\n",
    "    <th class=\"tg-xozw\">Char.</th>\n",
    "    <th class=\"tg-xozw\">ASCII</th>\n",
    "    <th class=\"tg-xozw\">Char.</th>\n",
    "    <th class=\"tg-xozw\">ASCII</th>\n",
    "    <th class=\"tg-xozw\">Char.</th>\n",
    "    <th class=\"tg-xozw\">ASCII</th>\n",
    "  </tr>\n",
    "</thead>\n",
    "<tbody>\n",
    "  <tr>\n",
    "    <td class=\"tg-7geq\">A</td>\n",
    "    <td class=\"tg-baqh\">65</td>\n",
    "    <td class=\"tg-7geq\">N</td>\n",
    "    <td class=\"tg-baqh\">78</td>\n",
    "    <td class=\"tg-7geq\">a</td>\n",
    "    <td class=\"tg-baqh\">97</td>\n",
    "    <td class=\"tg-7geq\">n</td>\n",
    "    <td class=\"tg-baqh\">110</td>\n",
    "  </tr>\n",
    "  <tr>\n",
    "    <td class=\"tg-7geq\">B</td>\n",
    "    <td class=\"tg-baqh\">66</td>\n",
    "    <td class=\"tg-7geq\">O</td>\n",
    "    <td class=\"tg-baqh\">79</td>\n",
    "    <td class=\"tg-7geq\">b</td>\n",
    "    <td class=\"tg-baqh\">98</td>\n",
    "    <td class=\"tg-7geq\">o</td>\n",
    "    <td class=\"tg-baqh\">111</td>\n",
    "  </tr>\n",
    "  <tr>\n",
    "    <td class=\"tg-7geq\">C</td>\n",
    "    <td class=\"tg-baqh\">67</td>\n",
    "    <td class=\"tg-7geq\">P</td>\n",
    "    <td class=\"tg-baqh\">80</td>\n",
    "    <td class=\"tg-7geq\">c</td>\n",
    "    <td class=\"tg-baqh\">99</td>\n",
    "    <td class=\"tg-7geq\">p</td>\n",
    "    <td class=\"tg-baqh\">112</td>\n",
    "  </tr>\n",
    "  <tr>\n",
    "    <td class=\"tg-7geq\">D</td>\n",
    "    <td class=\"tg-baqh\">68</td>\n",
    "    <td class=\"tg-7geq\">Q</td>\n",
    "    <td class=\"tg-baqh\">81</td>\n",
    "    <td class=\"tg-7geq\">d</td>\n",
    "    <td class=\"tg-baqh\">100</td>\n",
    "    <td class=\"tg-7geq\">q</td>\n",
    "    <td class=\"tg-baqh\">113</td>\n",
    "  </tr>\n",
    "  <tr>\n",
    "    <td class=\"tg-7geq\">E</td>\n",
    "    <td class=\"tg-baqh\">69</td>\n",
    "    <td class=\"tg-7geq\">R</td>\n",
    "    <td class=\"tg-baqh\">82</td>\n",
    "    <td class=\"tg-7geq\">e</td>\n",
    "    <td class=\"tg-baqh\">101</td>\n",
    "    <td class=\"tg-7geq\">r</td>\n",
    "    <td class=\"tg-baqh\">114</td>\n",
    "  </tr>\n",
    "  <tr>\n",
    "    <td class=\"tg-7geq\">F</td>\n",
    "    <td class=\"tg-baqh\">70</td>\n",
    "    <td class=\"tg-7geq\">S</td>\n",
    "    <td class=\"tg-baqh\">83</td>\n",
    "    <td class=\"tg-7geq\">f</td>\n",
    "    <td class=\"tg-baqh\">102</td>\n",
    "    <td class=\"tg-7geq\">s</td>\n",
    "    <td class=\"tg-baqh\">115</td>\n",
    "  </tr>\n",
    "  <tr>\n",
    "    <td class=\"tg-7geq\">G</td>\n",
    "    <td class=\"tg-baqh\">71</td>\n",
    "    <td class=\"tg-7geq\">T</td>\n",
    "    <td class=\"tg-baqh\">84</td>\n",
    "    <td class=\"tg-7geq\">g</td>\n",
    "    <td class=\"tg-baqh\">103</td>\n",
    "    <td class=\"tg-7geq\">t</td>\n",
    "    <td class=\"tg-baqh\">116</td>\n",
    "  </tr>\n",
    "  <tr>\n",
    "    <td class=\"tg-7geq\">H</td>\n",
    "    <td class=\"tg-baqh\">72</td>\n",
    "    <td class=\"tg-7geq\">U</td>\n",
    "    <td class=\"tg-baqh\">85</td>\n",
    "    <td class=\"tg-7geq\">h</td>\n",
    "    <td class=\"tg-baqh\">104</td>\n",
    "    <td class=\"tg-7geq\">u</td>\n",
    "    <td class=\"tg-baqh\">117</td>\n",
    "  </tr>\n",
    "  <tr>\n",
    "    <td class=\"tg-7geq\">I</td>\n",
    "    <td class=\"tg-baqh\">73</td>\n",
    "    <td class=\"tg-7geq\">V</td>\n",
    "    <td class=\"tg-baqh\">86</td>\n",
    "    <td class=\"tg-7geq\">i</td>\n",
    "    <td class=\"tg-baqh\">105</td>\n",
    "    <td class=\"tg-7geq\">v</td>\n",
    "    <td class=\"tg-baqh\">118</td>\n",
    "  </tr>\n",
    "  <tr>\n",
    "    <td class=\"tg-7geq\">J</td>\n",
    "    <td class=\"tg-baqh\">74</td>\n",
    "    <td class=\"tg-7geq\">W</td>\n",
    "    <td class=\"tg-baqh\">87</td>\n",
    "    <td class=\"tg-7geq\">j</td>\n",
    "    <td class=\"tg-baqh\">106</td>\n",
    "    <td class=\"tg-7geq\">w</td>\n",
    "    <td class=\"tg-baqh\">119</td>\n",
    "  </tr>\n",
    "  <tr>\n",
    "    <td class=\"tg-7geq\">K</td>\n",
    "    <td class=\"tg-baqh\">75</td>\n",
    "    <td class=\"tg-7geq\">X</td>\n",
    "    <td class=\"tg-baqh\">88</td>\n",
    "    <td class=\"tg-7geq\">k</td>\n",
    "    <td class=\"tg-baqh\">107</td>\n",
    "    <td class=\"tg-7geq\">x</td>\n",
    "    <td class=\"tg-baqh\">120</td>\n",
    "  </tr>\n",
    "  <tr>\n",
    "    <td class=\"tg-7geq\">L</td>\n",
    "    <td class=\"tg-baqh\">76</td>\n",
    "    <td class=\"tg-7geq\">Y</td>\n",
    "    <td class=\"tg-baqh\">89</td>\n",
    "    <td class=\"tg-7geq\">l</td>\n",
    "    <td class=\"tg-baqh\">108</td>\n",
    "    <td class=\"tg-7geq\">y</td>\n",
    "    <td class=\"tg-baqh\">121</td>\n",
    "  </tr>\n",
    "  <tr>\n",
    "    <td class=\"tg-7geq\">M</td>\n",
    "    <td class=\"tg-baqh\">77</td>\n",
    "    <td class=\"tg-7geq\">Z</td>\n",
    "    <td class=\"tg-baqh\">90</td>\n",
    "    <td class=\"tg-7geq\">m</td>\n",
    "    <td class=\"tg-baqh\">109</td>\n",
    "    <td class=\"tg-7geq\">z</td>\n",
    "    <td class=\"tg-baqh\">122</td>\n",
    "  </tr>\n",
    "</tbody>\n",
    "</table>\n"
   ]
  },
  {
   "cell_type": "markdown",
   "id": "7677d70c-d86a-4844-9de3-211a0c3ed79c",
   "metadata": {},
   "source": [
    "For example, the ASCII code for <b>!</b> is 33, while the ASCII code for <b>+</b> is 43. Therefore <b>+</b> is larger than <b>!</b> as 43 is greater than 33.\n"
   ]
  },
  {
   "cell_type": "markdown",
   "id": "f03d1792-08e6-405b-8ac9-a33520d02b75",
   "metadata": {},
   "source": [
    "Similarly, from the table above we see that the value for <b>A</b> is 65, and the value for <b>B</b> is 66, therefore:\n"
   ]
  },
  {
   "cell_type": "code",
   "execution_count": 99,
   "id": "915aea4d-511e-46b5-a3cc-f093bcc41d53",
   "metadata": {},
   "outputs": [
    {
     "data": {
      "text/plain": [
       "True"
      ]
     },
     "execution_count": 99,
     "metadata": {},
     "output_type": "execute_result"
    }
   ],
   "source": [
    "# Compare characters\n",
    "\n",
    "'B' > 'A'"
   ]
  },
  {
   "cell_type": "markdown",
   "id": "22c41927-36a8-4995-84be-f197db58fed4",
   "metadata": {},
   "source": [
    " When there are multiple letters, the first letter takes precedence in ordering:\n"
   ]
  },
  {
   "cell_type": "code",
   "execution_count": 100,
   "id": "dcda211f-0bcc-445b-8117-e6d42ad5a7c4",
   "metadata": {},
   "outputs": [
    {
     "data": {
      "text/plain": [
       "True"
      ]
     },
     "execution_count": 100,
     "metadata": {},
     "output_type": "execute_result"
    }
   ],
   "source": [
    "# Compare characters\n",
    "\n",
    "'BA' > 'AB'"
   ]
  },
  {
   "cell_type": "markdown",
   "id": "9de53d60-b50b-46c8-8a01-71e6c780d8f2",
   "metadata": {},
   "source": [
    "<b>Note</b>: Upper Case Letters have different ASCII code than Lower Case Letters, which means the comparison between the letters in Python is case-sensitive.\n"
   ]
  },
  {
   "cell_type": "markdown",
   "id": "2862add2-5518-4264-a670-b657617e2135",
   "metadata": {},
   "source": [
    "<h3 id=\"branch\">Branching</h3>\n"
   ]
  },
  {
   "cell_type": "markdown",
   "id": "52f28b1f-0998-43d6-8c1f-b1ce2f377920",
   "metadata": {},
   "source": [
    " Branching allows us to run different statements for different inputs. It is helpful to think of an **if statement** as a locked room, if the statement is **True** we can enter the room and your program will run some predefined tasks, but if the statement is **False** the program will ignore the task.\n"
   ]
  },
  {
   "cell_type": "markdown",
   "id": "58e7302b-52cf-431b-9c2c-7c260ce24daa",
   "metadata": {},
   "source": [
    "For example, consider the blue rectangle representing an ACDC concert. If the individual is older than 18, they can enter the ACDC concert. If they are 18 or younger, they cannot enter the concert.\n",
    "\n",
    "We can use the condition statements learned before as the conditions that need to be checked in the **if statement**. The syntax is as simple as <code> if <i>condition statement</i> :</code>, which contains a word <code>if</code>, any condition statement, and a colon at the end. Start your tasks which need to be executed under this condition in a new line with an indent. The lines of code after the colon and with an indent will only be executed when the **if statement** is **True**. The tasks will end when the line of code does not contain the indent.\n",
    "\n",
    "In the case below, the code <code>print(“you can enter”)</code> is executed only if the variable <code>age</code> is greater than 18 is a True case because this line of code has the indent. However, the execution of <code>print(“move on”)</code> will not be influenced by the if statement.\n"
   ]
  },
  {
   "cell_type": "code",
   "execution_count": 101,
   "id": "f42254ab-e5c4-41fb-af2f-6a94bdff1e07",
   "metadata": {},
   "outputs": [
    {
     "name": "stdout",
     "output_type": "stream",
     "text": [
      "you can enter\n",
      "move on\n"
     ]
    }
   ],
   "source": [
    "# If statement example\n",
    "\n",
    "age = 19\n",
    "#age = 18\n",
    "\n",
    "#expression that can be true or false\n",
    "if age > 18:\n",
    "    \n",
    "    #within an indent, we have the expression that is run if the condition is true\n",
    "    print(\"you can enter\" )\n",
    "\n",
    "#The statements after the if statement will run regardless if the condition is true or false \n",
    "print(\"move on\")"
   ]
  },
  {
   "cell_type": "code",
   "execution_count": 102,
   "id": "af04eb1a-4222-485b-a73e-ddafb839cef5",
   "metadata": {},
   "outputs": [
    {
     "name": "stdout",
     "output_type": "stream",
     "text": [
      "go see Meat Loaf\n",
      "move on\n"
     ]
    }
   ],
   "source": [
    "# Else statement example\n",
    "\n",
    "age = 18\n",
    "# age = 19\n",
    "\n",
    "if age > 18:\n",
    "    print(\"you can enter\" )\n",
    "else:\n",
    "    print(\"go see Meat Loaf\" )\n",
    "    \n",
    "print(\"move on\")"
   ]
  },
  {
   "cell_type": "code",
   "execution_count": 103,
   "id": "90a7c5a1-0e25-439c-b53c-8775f7bb90a8",
   "metadata": {},
   "outputs": [
    {
     "name": "stdout",
     "output_type": "stream",
     "text": [
      "go see Pink Floyd\n",
      "move on\n"
     ]
    }
   ],
   "source": [
    "# Elif statment example\n",
    "\n",
    "age = 18\n",
    "\n",
    "if age > 18:\n",
    "    print(\"you can enter\" )\n",
    "elif age == 18:\n",
    "    print(\"go see Pink Floyd\")\n",
    "else:\n",
    "    print(\"go see Meat Loaf\" )\n",
    "    \n",
    "print(\"move on\")"
   ]
  },
  {
   "cell_type": "code",
   "execution_count": 104,
   "id": "2a78e835-b713-4755-8b43-bc84fc6fb865",
   "metadata": {},
   "outputs": [
    {
     "name": "stdout",
     "output_type": "stream",
     "text": [
      "do something..\n"
     ]
    }
   ],
   "source": [
    "# Condition statement example\n",
    "\n",
    "album_year = 1983\n",
    "album_year = 1970\n",
    "\n",
    "if album_year > 1980:\n",
    "    print(\"Album year is greater than 1980\")\n",
    "    \n",
    "print('do something..')"
   ]
  },
  {
   "cell_type": "code",
   "execution_count": 105,
   "id": "2348796b-c356-4338-b261-cbdd2878951e",
   "metadata": {},
   "outputs": [
    {
     "name": "stdout",
     "output_type": "stream",
     "text": [
      "Album year is greater than 1980\n",
      "do something..\n"
     ]
    }
   ],
   "source": [
    "# Condition statement example\n",
    "\n",
    "album_year = 1983\n",
    "#album_year = 1970\n",
    "\n",
    "if album_year > 1980:\n",
    "    print(\"Album year is greater than 1980\")\n",
    "else:\n",
    "    print(\"less than 1980\")\n",
    "\n",
    "print('do something..')"
   ]
  },
  {
   "cell_type": "markdown",
   "id": "39977705-337e-4304-8e12-aa55325e9622",
   "metadata": {},
   "source": [
    "<h3 id=\"logic\">Logical operators</h3>\n"
   ]
  },
  {
   "cell_type": "markdown",
   "id": "f53bd4c0-9ba2-4c74-8438-d4f395bccbaf",
   "metadata": {},
   "source": [
    "\n",
    "Sometimes you want to check more than one condition at once. For example, you might want to check if one condition and another condition are both **True**. Logical operators allow you to combine or modify conditions.\n",
    "<ul>\n",
    "    <li><code>and</code></li>\n",
    "    <li><code>or</code></li>\n",
    "    <li><code>not</code></li>\n",
    "</ul>\n",
    "\n",
    "These operators are summarized for two variables using the following truth tables:  \n"
   ]
  },
  {
   "cell_type": "code",
   "execution_count": 106,
   "id": "fa46ca04-b6b8-4ccf-b0af-0b3e6aae9cf7",
   "metadata": {},
   "outputs": [
    {
     "name": "stdout",
     "output_type": "stream",
     "text": [
      "Album year was in between 1980 and 1989\n",
      "\n",
      "Do Stuff..\n"
     ]
    }
   ],
   "source": [
    "# Condition statement example\n",
    "\n",
    "album_year = 1980\n",
    "\n",
    "if(album_year > 1979) and (album_year < 1990):\n",
    "    print (\"Album year was in between 1980 and 1989\")\n",
    "    \n",
    "print(\"\")\n",
    "print(\"Do Stuff..\")"
   ]
  },
  {
   "cell_type": "code",
   "execution_count": 107,
   "id": "68354f6b-7712-4125-9504-555149e03a9e",
   "metadata": {},
   "outputs": [
    {
     "name": "stdout",
     "output_type": "stream",
     "text": [
      "Album was not made in the 1980's\n"
     ]
    }
   ],
   "source": [
    "# Condition statement example\n",
    "\n",
    "album_year = 1990\n",
    "\n",
    "if(album_year < 1980) or (album_year > 1989):\n",
    "    print (\"Album was not made in the 1980's\")\n",
    "else:\n",
    "    print(\"The Album was made in the 1980's \")"
   ]
  },
  {
   "cell_type": "code",
   "execution_count": 108,
   "id": "09759682-c34f-4419-bbec-15f370a8634d",
   "metadata": {},
   "outputs": [
    {
     "name": "stdout",
     "output_type": "stream",
     "text": [
      "Album year is not 1984\n"
     ]
    }
   ],
   "source": [
    "# Condition statement example\n",
    "\n",
    "album_year = 1983\n",
    "\n",
    "if not (album_year == 1984):\n",
    "    print (\"Album year is not 1984\")"
   ]
  },
  {
   "cell_type": "markdown",
   "id": "69bd90be-e357-4240-9e96-cac45171ec4b",
   "metadata": {},
   "source": [
    "<h2 id=\"Loops\">Loops</h2>"
   ]
  },
  {
   "cell_type": "markdown",
   "id": "2fdf3924-8a42-4532-96fe-96d48f2be7e1",
   "metadata": {},
   "source": [
    "<h3 id=\"range\">Range</h3>\n"
   ]
  },
  {
   "cell_type": "markdown",
   "id": "03d8e88f-4b2a-4c36-89ac-3c404033cc31",
   "metadata": {},
   "source": [
    "Sometimes, you might want to repeat a given operation many times. Repeated executions like this are performed by <b>loops</b>. We will look at two types of loops, <code>for</code> loops and <code>while</code> loops.\n",
    "\n",
    "Before we discuss loops lets discuss the <code>range</code> object. It is helpful to think of the range object as an ordered list. For now, let's look at the simplest case. If we would like to generate an object that contains elements ordered from 0 to 2 we simply use the following command:\n"
   ]
  },
  {
   "cell_type": "markdown",
   "id": "c044dc57-3831-419d-803b-a7d1595e9e7a",
   "metadata": {},
   "source": [
    "<h3 id=\"for\">For loop</h3>\n"
   ]
  },
  {
   "cell_type": "markdown",
   "id": "946bc75e-44e7-42d2-b63f-f729c4a81dfa",
   "metadata": {},
   "source": [
    "The <code>for</code> loop enables you to execute a code block multiple times. For example, you would use this if you would like to print out every element in a list.    \n",
    "Let's try to use a <code>for</code> loop to print all the years presented in the list <code>dates</code>:\n"
   ]
  },
  {
   "cell_type": "code",
   "execution_count": 109,
   "id": "c7f58f4d-0ac1-4224-ae59-001006782ff4",
   "metadata": {
    "scrolled": true
   },
   "outputs": [
    {
     "name": "stdout",
     "output_type": "stream",
     "text": [
      "1982\n",
      "1980\n",
      "1973\n"
     ]
    }
   ],
   "source": [
    "# For loop example\n",
    "\n",
    "dates = [1982,1980,1973]\n",
    "N = len(dates)\n",
    "\n",
    "for i in range(N):\n",
    "    print(dates[i])     "
   ]
  },
  {
   "cell_type": "code",
   "execution_count": 110,
   "id": "52b662ac-e128-4a15-9c45-f713321facb8",
   "metadata": {},
   "outputs": [
    {
     "name": "stdout",
     "output_type": "stream",
     "text": [
      "0\n",
      "1\n"
     ]
    }
   ],
   "source": [
    "# Example of for loop\n",
    "\n",
    "for i in range(0, 2):\n",
    "    print(i)"
   ]
  },
  {
   "cell_type": "markdown",
   "id": "944bb5f2-cfd6-48fc-9bd5-943792552ad8",
   "metadata": {},
   "source": [
    "In Python we can directly access the elements in the list as follows: \n"
   ]
  },
  {
   "cell_type": "code",
   "execution_count": 111,
   "id": "82d93630-80dc-4941-b105-a027172ff86e",
   "metadata": {},
   "outputs": [
    {
     "name": "stdout",
     "output_type": "stream",
     "text": [
      "1982\n",
      "1980\n",
      "1973\n"
     ]
    }
   ],
   "source": [
    "# Exmaple of for loop, loop through list\n",
    "\n",
    "for year in dates:  \n",
    "    print(year)   "
   ]
  },
  {
   "cell_type": "code",
   "execution_count": 112,
   "id": "9085df4d-6f14-46d6-9a80-48aa81622f80",
   "metadata": {},
   "outputs": [
    {
     "name": "stdout",
     "output_type": "stream",
     "text": [
      "Before square  0 is red\n",
      "After square  0 is white\n",
      "Before square  1 is yellow\n",
      "After square  1 is white\n",
      "Before square  2 is green\n",
      "After square  2 is white\n",
      "Before square  3 is purple\n",
      "After square  3 is white\n",
      "Before square  4 is blue\n",
      "After square  4 is white\n"
     ]
    }
   ],
   "source": [
    "# Use for loop to change the elements in list\n",
    "\n",
    "squares = ['red', 'yellow', 'green', 'purple', 'blue']\n",
    "\n",
    "for i in range(0, 5):\n",
    "    print(\"Before square \", i, 'is',  squares[i])\n",
    "    squares[i] = 'white'\n",
    "    print(\"After square \", i, 'is',  squares[i])"
   ]
  },
  {
   "cell_type": "markdown",
   "id": "3db3324c-b76f-4e59-9be8-f99f391729ef",
   "metadata": {},
   "source": [
    " We can access the index and the elements of a list as follows: \n"
   ]
  },
  {
   "cell_type": "code",
   "execution_count": 113,
   "id": "1baa798d-d00f-447c-8dcb-e0cc92361ec4",
   "metadata": {},
   "outputs": [
    {
     "name": "stdout",
     "output_type": "stream",
     "text": [
      "0 red\n",
      "1 yellow\n",
      "2 green\n",
      "3 purple\n",
      "4 blue\n"
     ]
    }
   ],
   "source": [
    "# Loop through the list and iterate on both index and element value\n",
    "\n",
    "squares=['red', 'yellow', 'green', 'purple', 'blue']\n",
    "\n",
    "for i, square in enumerate(squares):\n",
    "    print(i, square)"
   ]
  },
  {
   "cell_type": "markdown",
   "id": "3fbeacbe-f18e-4a0f-9386-24172dab00b2",
   "metadata": {},
   "source": [
    "### Key point of For Loop:\n",
    "\n",
    "1. A for loop iterates over a sequence (such as a list, string, or range) or any object that supports iteration.\n",
    "2. It has a predefined number of iterations based on the length of the sequence or the number of items to iterate over.\n",
    "3. It automatically handles the iteration and does not require maintaining a separate variable for tracking the iteration count.\n",
    "4. It simplifies the code by encapsulating the iteration logic within the loop itself.\n",
    "5. It is commonly used when you know the exact number of iterations or need to iterate over each item in a collection.\n"
   ]
  },
  {
   "cell_type": "markdown",
   "id": "660b6bda-bc53-4d56-8624-969281a21ec5",
   "metadata": {},
   "source": [
    "<h3 id=\"while\">While loop</h3>\n"
   ]
  },
  {
   "cell_type": "markdown",
   "id": "426387ef-e70b-4446-993d-ab3994d5fc53",
   "metadata": {},
   "source": [
    "As you can see, the <code>for</code> loop is used for a controlled flow of repetition. However, what if we don't know when we want to stop the loop? What if we want to keep executing a code block until a certain condition is met? The <code>while</code> loop exists as a tool for repeated execution based on a condition. The code block will keep being executed until the given logical condition returns a **False** boolean value.\n"
   ]
  },
  {
   "cell_type": "markdown",
   "id": "d7145c8b-84b3-4b87-aaf6-b1d43018acce",
   "metadata": {},
   "source": [
    "#### Here's how a while loop works:\n",
    "\n",
    "1. First, you specify a condition that the loop will check before each iteration (repetition) of the code block.\n",
    "2. If the condition is initially true, the code block is executed.\n",
    "3. After executing the code block, the condition is checked again.\n",
    "4. If the condition is still true, the code block is executed again.\n",
    "5. Steps 3 and 4 repeat until the condition becomes false.\n",
    "6. Once the condition becomes false, the loop stops, and the program continues with the next line of code after the loop.\n"
   ]
  },
  {
   "cell_type": "markdown",
   "id": "0517a170-7c67-4ba5-bd4a-c500341a8484",
   "metadata": {},
   "source": [
    "**Here's an example of a while loop that prints numbers from 1 to 5:**\n"
   ]
  },
  {
   "cell_type": "code",
   "execution_count": 114,
   "id": "4fe352dd-6b0e-4338-b3af-067bc741168c",
   "metadata": {},
   "outputs": [
    {
     "name": "stdout",
     "output_type": "stream",
     "text": [
      "1\n",
      "2\n",
      "3\n",
      "4\n",
      "5\n"
     ]
    }
   ],
   "source": [
    "count = 1\n",
    "while count <= 5:\n",
    "    print(count)\n",
    "    count += 1"
   ]
  },
  {
   "cell_type": "markdown",
   "id": "f806b06a-46cd-40b5-8bf4-aaa891fcc794",
   "metadata": {},
   "source": [
    "In this example, the condition **count <= 5** is checked before each iteration. As long as count is less than or equal to 5, the code block inside the loop is executed. After each iteration, the value of count is incremented by 1 using count += 1. Once count reaches 6, the condition becomes false, and the loop stops.\n"
   ]
  },
  {
   "cell_type": "markdown",
   "id": "4297c68e-f3eb-43e4-9595-706dc3eab400",
   "metadata": {},
   "source": [
    "Let’s say we would like to iterate through list <code>dates</code> and stop at the year 1973, then print out the number of iterations. This can be done with the following block of code:\n"
   ]
  },
  {
   "cell_type": "code",
   "execution_count": 115,
   "id": "9aae67ee-d31c-48c6-b9a1-c02eaebde642",
   "metadata": {},
   "outputs": [
    {
     "name": "stdout",
     "output_type": "stream",
     "text": [
      "1982\n",
      "1980\n",
      "It took  2 repetitions to get out of loop.\n"
     ]
    }
   ],
   "source": [
    "# While Loop Example\n",
    "\n",
    "dates = [1982, 1980, 1973, 2000]\n",
    "\n",
    "i = 0\n",
    "year = dates[0]\n",
    "\n",
    "while(year != 1973):    \n",
    "    print(year)\n",
    "    i = i + 1\n",
    "    year = dates[i]\n",
    "    \n",
    "\n",
    "print(\"It took \", i ,\"repetitions to get out of loop.\")"
   ]
  },
  {
   "cell_type": "markdown",
   "id": "292e3c8b-af2f-4e0b-8cea-618b59b222ef",
   "metadata": {},
   "source": [
    "### Key point of While Loop:\n",
    "\n",
    "1. A while loop repeatedly executes a block of code as long as a given condition is true.\n",
    "2. It does not have a fixed number of iterations but continues executing until the condition becomes false.\n",
    "3. The condition is checked before each iteration, and if it's false initially, the code block is skipped entirely.\n",
    "4. The condition is typically based on a variable or expression that can change during the execution of the loop.\n",
    "5. It provides more flexibility in terms of controlling the loop's execution based on dynamic conditions.\n"
   ]
  },
  {
   "cell_type": "markdown",
   "id": "7f4d5e69-151a-4bcd-90dc-b0dd08674559",
   "metadata": {},
   "source": [
    "<h2 id=\"func\">Functions</h2>\n"
   ]
  },
  {
   "cell_type": "markdown",
   "id": "846a8611-e490-485a-b160-5ec445a4fa09",
   "metadata": {},
   "source": [
    "A function is a reusable block of code which performs operations specified in the function. They let you break down tasks and allow you to reuse your code in different programs.\n",
    "\n",
    "There are two types of functions :\n",
    "\n",
    "*   <b>Pre-defined functions</b>\n",
    "*   <b>User defined functions</b>\n"
   ]
  },
  {
   "cell_type": "markdown",
   "id": "4aa51361-bd2c-4252-b0e2-f46447015dd3",
   "metadata": {},
   "source": [
    "<h3 id=\"Funcs\">What is a Function?</h3>\n"
   ]
  },
  {
   "cell_type": "markdown",
   "id": "6ddc87fe-7dc3-4f8b-b71e-107b64bd3a5c",
   "metadata": {},
   "source": [
    "You can define functions to provide the required functionality. Here are simple rules to define a function in Python:\n",
    "\n",
    "*   Functions blocks begin <code>def</code> followed by the function <code>name</code> and parentheses <code>()</code>.\n",
    "*   There are input parameters or arguments that should be placed within these parentheses.\n",
    "*   You can also define parameters inside these parentheses.\n",
    "*   There is a body within every function that starts with a colon (<code>:</code>) and is indented.\n",
    "*   You can also place documentation before the body.\n",
    "*   The statement <code>return</code> exits a function, optionally passing back a value.\n",
    "\n",
    "An example of a function that adds on to the parameter <code>a</code> prints and returns the output as <code>b</code>:\n"
   ]
  },
  {
   "cell_type": "code",
   "execution_count": 116,
   "id": "9796925e-a0b8-491c-8eb7-c400a662b842",
   "metadata": {},
   "outputs": [
    {
     "name": "stdout",
     "output_type": "stream",
     "text": [
      "2 if you add one 3\n"
     ]
    },
    {
     "data": {
      "text/plain": [
       "3"
      ]
     },
     "execution_count": 116,
     "metadata": {},
     "output_type": "execute_result"
    }
   ],
   "source": [
    "# First function example: Add 1 to a and store as b\n",
    "\n",
    "def add(a):\n",
    "    \"\"\"\n",
    "    add 1 to a\n",
    "    \"\"\"\n",
    "    b = a + 1\n",
    "    print(a, \"if you add one\", b)\n",
    "    return(b)\n",
    "add(2)"
   ]
  },
  {
   "cell_type": "markdown",
   "id": "64132fe1-6f0b-4dd3-a9e3-3310bbbe53f5",
   "metadata": {},
   "source": [
    "<h3 id=\"MultFunc\">Functions work for 'str' and 'int'</h3>"
   ]
  },
  {
   "cell_type": "code",
   "execution_count": 117,
   "id": "48b24067-d374-4efc-ba1f-6242b4536ed3",
   "metadata": {},
   "outputs": [
    {
     "name": "stdout",
     "output_type": "stream",
     "text": [
      "24\n"
     ]
    },
    {
     "data": {
      "text/plain": [
       "'Michael Jackson Michael Jackson '"
      ]
     },
     "execution_count": 117,
     "metadata": {},
     "output_type": "execute_result"
    }
   ],
   "source": [
    "# Define a function for multiple two numbers\n",
    "\n",
    "def Mult(a, b):\n",
    "    c = a * b\n",
    "    return(c)\n",
    "    print('This is not printed')\n",
    "    \n",
    "result = Mult(12,2)\n",
    "print(result)\n",
    "Mult(2, \"Michael Jackson \")"
   ]
  },
  {
   "cell_type": "markdown",
   "id": "ccb6e4ff-d3d2-4627-a6d6-6c4d7279d5b5",
   "metadata": {},
   "source": [
    "<h3 id=\"if\">Using <code>if</code>/<code>else</code> Statements and Loops in Functions</h3>\n"
   ]
  },
  {
   "cell_type": "code",
   "execution_count": 118,
   "id": "509ab918-fbe7-4afc-97f5-6d448b0b6f4f",
   "metadata": {},
   "outputs": [
    {
     "name": "stdout",
     "output_type": "stream",
     "text": [
      "Michael Jackson Thriller 1980\n",
      "Oldie\n"
     ]
    }
   ],
   "source": [
    "# Function example\n",
    "\n",
    "def type_of_album(artist, album, year_released):\n",
    "    \n",
    "    print(artist, album, year_released)\n",
    "    if year_released > 1980:\n",
    "        return \"Modern\"\n",
    "    else:\n",
    "        return \"Oldie\"\n",
    "    \n",
    "x = type_of_album(\"Michael Jackson\", \"Thriller\", 1980)\n",
    "print(x)"
   ]
  },
  {
   "cell_type": "markdown",
   "id": "cede745f-046d-4e87-a38a-5bd9d58a05bf",
   "metadata": {},
   "source": [
    "<h3 id=\"Freqs\">Obtaining frequencies</h3>"
   ]
  },
  {
   "cell_type": "code",
   "execution_count": 119,
   "id": "a1977d75-e2a8-4d36-af0b-cd7062230ec1",
   "metadata": {},
   "outputs": [
    {
     "data": {
      "image/png": "[encoded data removed]",
      "text/plain": [
       "<Figure size 640x480 with 1 Axes>"
      ]
     },
     "metadata": {},
     "output_type": "display_data"
    }
   ],
   "source": [
    "import pandas as pd\n",
    "import matplotlib.pyplot as plt\n",
    "# Python Program to Count words in a String using Dictionary\n",
    "def freq(string):\n",
    "    \n",
    "    #step1: A list variable is declared and initialized to an empty list.\n",
    "    words = []\n",
    "    \n",
    "    #step2: Break the string into list of words\n",
    "    words = string.split() # or string.lower().split()\n",
    "    \n",
    "    #step3: Declare a dictionary\n",
    "    Dict = {}\n",
    "    \n",
    "    #step4: Use for loop to iterate words and values to the dictionary\n",
    "    for key in words:\n",
    "        Dict[key] = words.count(key)\n",
    "        \n",
    "    #step5: Print the dictionary\n",
    "    #print(\"The Frequency of words is:\",Dict)\n",
    "    return Dict\n",
    "    \n",
    "#step6: Call function and pass string in it\n",
    "Freqs=freq(\"Mary had a little lamb Little lamb, little lamb Mary had a little lamb. Its fleece was white as snow And everywhere that Mary went Mary went, Mary went Everywhere that Mary went The lamb was sure to go\")\n",
    "val_based_rev = {k: v for k, v in sorted(Freqs.items(), key=lambda item: item[1], reverse=True)}\n",
    "ks=list(val_based_rev.keys())\n",
    "vs=list(val_based_rev.values())\n",
    "fig = plt.figure()\n",
    "ax = fig.add_axes([0.1,0.2,0.75,0.75])\n",
    "plt.plot(ks,vs)\n",
    "ax.xaxis.set_tick_params(rotation=45, labelsize=10)\n",
    "plt.show()"
   ]
  },
  {
   "cell_type": "markdown",
   "id": "50e2f469-db63-496f-aeeb-cd12bcea7281",
   "metadata": {},
   "source": [
    "<h3 id=\"global\">Global variables</h3>\n"
   ]
  },
  {
   "cell_type": "markdown",
   "id": "8fd6ca95-4232-4156-bdf5-711c7bbeeee9",
   "metadata": {},
   "source": [
    "So far, we've been creating variables within functions, but we have not discussed variables outside the function. These are called global variables. <br>\n",
    "Let's try to see what <code>printer1</code> returns:\n"
   ]
  },
  {
   "cell_type": "code",
   "execution_count": 120,
   "id": "74e3877e-80d7-441a-8285-1a27560d06a9",
   "metadata": {},
   "outputs": [
    {
     "name": "stdout",
     "output_type": "stream",
     "text": [
      "Michael Jackson is an artist\n"
     ]
    }
   ],
   "source": [
    "# Example of global variable\n",
    "\n",
    "artist = \"Michael Jackson\"\n",
    "def printer1(artist):\n",
    "    internal_var1 = artist\n",
    "    print(artist, \"is an artist\")\n",
    "    \n",
    "printer1(artist)\n",
    "# try runningthe following code\n",
    "#printer1(internal_var1) "
   ]
  },
  {
   "cell_type": "markdown",
   "id": "e4508872-d8b7-4c4f-995d-99dd45cc8454",
   "metadata": {},
   "source": [
    "<h3 id=\"def\">Setting default argument values in your custom functions</h3>"
   ]
  },
  {
   "cell_type": "code",
   "execution_count": 121,
   "id": "171b7737-24ef-448e-bb72-0c4015838af7",
   "metadata": {},
   "outputs": [
    {
     "name": "stdout",
     "output_type": "stream",
     "text": [
      "this album is good its rating is 10\n"
     ]
    }
   ],
   "source": [
    "# Example for setting param with default value\n",
    "# DefRating is global in the scope\n",
    "DefRating=7\n",
    "def isGoodRating(rating=4): \n",
    "    if(rating < DefRating):\n",
    "        print(\"this album sucks it's rating is\",rating)\n",
    "        \n",
    "    else:\n",
    "        print(\"this album is good its rating is\",rating)\n",
    "\n",
    "#isGoodRating()\n",
    "isGoodRating(10)"
   ]
  },
  {
   "cell_type": "markdown",
   "id": "fb5620ba-ff06-463c-9bad-b6fcbb2061ea",
   "metadata": {},
   "source": [
    "<hr>\n",
    "<h3 id =\"collec\"> Collections and Functions</h3>\n"
   ]
  },
  {
   "cell_type": "markdown",
   "id": "c20fd6e5-9a23-4bcf-8f72-5b4f7133e355",
   "metadata": {},
   "source": [
    "When the number of arguments  are unknown for a function, They can all be packed into a tuple as shown:\n"
   ]
  },
  {
   "cell_type": "code",
   "execution_count": 122,
   "id": "bd7534fa-e305-483d-8bd7-b03ca15c76af",
   "metadata": {},
   "outputs": [
    {
     "name": "stdout",
     "output_type": "stream",
     "text": [
      "No of arguments: 3\n",
      "Horsefeather\n",
      "Adonis\n",
      "Bone\n",
      "No of arguments: 4\n",
      "Sidecar\n",
      "Long Island\n",
      "Mudslide\n",
      "Carriage\n"
     ]
    }
   ],
   "source": [
    "def printAll(*args): # All the arguments are 'packed' into args which can be treated like a tuple\n",
    "    print(\"No of arguments:\", len(args)) \n",
    "    for argument in args:\n",
    "        print(argument)\n",
    "#printAll with 3 arguments\n",
    "printAll('Horsefeather','Adonis','Bone')\n",
    "#printAll with 4 arguments\n",
    "printAll('Sidecar','Long Island','Mudslide','Carriage')"
   ]
  },
  {
   "cell_type": "markdown",
   "id": "35e45570-87a1-439b-a8ab-a893b0ee7aa3",
   "metadata": {},
   "source": [
    "Similarly, The arguments can also be packed into a dictionary as shown:\n"
   ]
  },
  {
   "cell_type": "code",
   "execution_count": 123,
   "id": "ffea663f-0036-4295-8aec-4ce69fb7e2a6",
   "metadata": {},
   "outputs": [
    {
     "name": "stdout",
     "output_type": "stream",
     "text": [
      "Country : Canada\n",
      "Province : Ontario\n",
      "City : Toronto\n"
     ]
    }
   ],
   "source": [
    "def printDictionary(**args):\n",
    "    for key in args:\n",
    "        print(key + \" : \" + args[key])\n",
    "\n",
    "printDictionary(Country='Canada',Province='Ontario',City='Toronto')\n",
    "    "
   ]
  },
  {
   "cell_type": "markdown",
   "id": "2bf492c3-6e73-46dd-9c5d-64c3c1b752da",
   "metadata": {},
   "source": [
    "Functions can be incredibly powerful and versatile. They can accept (and return) data types, objects and even other functions as arguements. Consider the example below:\n"
   ]
  },
  {
   "cell_type": "code",
   "execution_count": 124,
   "id": "c51fd125-33fe-4c96-9924-d834027adba0",
   "metadata": {},
   "outputs": [
    {
     "data": {
      "text/plain": [
       "['One', 'Two', 'Three', 'Four']"
      ]
     },
     "execution_count": 124,
     "metadata": {},
     "output_type": "execute_result"
    }
   ],
   "source": [
    "def addItems(list):\n",
    "    list.append(\"Three\")\n",
    "    list.append(\"Four\")\n",
    "\n",
    "myList = [\"One\",\"Two\"]\n",
    "\n",
    "addItems(myList)\n",
    "\n",
    "myList\n",
    "    "
   ]
  },
  {
   "cell_type": "markdown",
   "id": "ffe1db37-e54e-4ee3-a1c1-bd2494f43241",
   "metadata": {},
   "source": [
    "<h2 id=\"Exceptions\">Exception Handling</h2>\n"
   ]
  },
  {
   "cell_type": "markdown",
   "id": "af7edf38-fb23-49fa-a298-03d1ef0fba48",
   "metadata": {},
   "source": [
    "A <code>try except</code> will allow you to execute code that might raise an exception and in the case of any exception or a specific one we can handle or catch the exception and execute specific code. This will allow us to continue the execution of our program even if there is an exception.\n",
    "\n",
    "Python tries to execute the code in the <code>try</code> block. In this case if there is any exception raised by the code in the <code>try</code> block, it will be caught and the code block in the <code>except</code> block will be executed. After that, the code that comes <em>after</em> the try except will be executed.\n"
   ]
  },
  {
   "cell_type": "markdown",
   "id": "a39f0256-32b8-4a0c-bd23-d62f4910f4a6",
   "metadata": {},
   "source": [
    "### Try Except Else and Finally Example\n"
   ]
  },
  {
   "cell_type": "code",
   "execution_count": 125,
   "id": "1eab67d6-0d6d-4ec4-acac-8b224edbedb2",
   "metadata": {
    "scrolled": true
   },
   "outputs": [
    {
     "name": "stdout",
     "output_type": "stream",
     "text": [
      "success a= 1.0\n",
      "Processing Complete\n"
     ]
    }
   ],
   "source": [
    "a = 1\n",
    "\n",
    "try:\n",
    "    #b = int(input(\"Please enter a number to divide a\"))\n",
    "    b = 1\n",
    "    a = a/b\n",
    "except ZeroDivisionError:\n",
    "    print(\"The number you provided cant divide 1 because it is 0\")\n",
    "except ValueError:\n",
    "    print(\"You did not provide a number\")\n",
    "except:\n",
    "    print(\"Something went wrong\")\n",
    "else:\n",
    "    print(\"success a=\",a)\n",
    "finally:\n",
    "    print(\"Processing Complete\")"
   ]
  },
  {
   "cell_type": "markdown",
   "id": "cb35aa9c-a914-498c-9ce4-568f0875cb55",
   "metadata": {},
   "source": [
    "<h2 id=\"Classes\">Classes and Objects</h2>\n"
   ]
  },
  {
   "cell_type": "markdown",
   "id": "143ac4ad-94c0-4f2d-addb-5171fde636a3",
   "metadata": {},
   "source": [
    "<h3>Creating a Class</h3>\n"
   ]
  },
  {
   "cell_type": "markdown",
   "id": "99296883-51f7-42ec-8d57-16fa3e5ff083",
   "metadata": {},
   "source": [
    "The first step in creating a class is giving it a name. In this notebook, we will create two classes: Circle and Rectangle. We need to determine all the data that make up that class, which we call <em>attributes</em>. Think about this step as creating a blue print that we will use to create objects. In figure 1 we see two classes, Circle and Rectangle. Each has their attributes, which are variables. The class Circle has the attribute radius and color, while the Rectangle class has the attribute height and width. Let’s use the visual examples of these shapes before we get to the code, as this will help you get accustomed to the vocabulary.\n"
   ]
  },
  {
   "cell_type": "markdown",
   "id": "00db89a7-6268-4944-be34-26b37aad2ae3",
   "metadata": {},
   "source": [
    "<img src=\"https://cf-courses-data.s3.us.cloud-object-storage.appdomain.cloud/IBMDeveloperSkillsNetwork-PY0101EN-SkillsNetwork/labs/Module%203/images/ClassesClass.png\" width=\"500\">\n"
   ]
  },
  {
   "cell_type": "markdown",
   "id": "324b6685-d2b9-488f-b188-e6dab7e01eea",
   "metadata": {},
   "source": [
    "<i>Figure 1: Classes circle and rectangle, and each has their own attributes. The class Circle has the attribute radius and colour, the class Rectangle has the attributes height and width.</i>\n"
   ]
  },
  {
   "cell_type": "markdown",
   "id": "3e379711-2b45-4a48-b114-9b0b502c8e99",
   "metadata": {},
   "source": [
    "<h3 id=\"instance\">Instances of a Class: Objects and Attributes</h3>\n"
   ]
  },
  {
   "cell_type": "markdown",
   "id": "9f9397c6-7aa0-48dc-a0ad-fd5d62ccb80e",
   "metadata": {},
   "source": [
    "An instance of an object is the realisation of a class, and in Figure 2 we see three instances of the class circle. We give each object a name: red circle, yellow circle, and green circle. Each object has different attributes, so let's focus on the color attribute for each object.\n"
   ]
  },
  {
   "cell_type": "markdown",
   "id": "6693189b-2614-473a-a84c-3aa833093b02",
   "metadata": {},
   "source": [
    "<img src=\"https://cf-courses-data.s3.us.cloud-object-storage.appdomain.cloud/IBMDeveloperSkillsNetwork-PY0101EN-SkillsNetwork/labs/Module%203/images/ClassesObj.png\" width=\"500\">\n"
   ]
  },
  {
   "cell_type": "markdown",
   "id": "b243c948-cb2f-4f7b-b6f0-dffbb9dc83cb",
   "metadata": {},
   "source": [
    "<i>Figure 2: Three instances of the class Circle, or three objects of type Circle.</i>\n"
   ]
  },
  {
   "cell_type": "markdown",
   "id": "4275cf53-eb29-4f75-b9a4-cd8e120f1b92",
   "metadata": {},
   "source": [
    "The colour attribute for the red Circle is the colour red, for the green Circle object the colour attribute is green, and for the yellow Circle the colour attribute is yellow.\n"
   ]
  },
  {
   "cell_type": "markdown",
   "id": "e26260c5-273a-4dc9-a650-cf7d342e3d34",
   "metadata": {},
   "source": [
    "<h3 id=\"method\">Methods</h3>\n"
   ]
  },
  {
   "cell_type": "markdown",
   "id": "7b07da27-858a-4e54-8c6b-0230acf86bef",
   "metadata": {},
   "source": [
    "Methods give you a way to change or interact with the object; they are functions that interact with objects. For example, let’s say we would like to increase the radius of a circle by a specified amount. We can create a method called **add_radius(r)** that increases the radius by **r**. This is shown in figure 3, where after applying the method to the \"orange circle object\", the radius of the object increases accordingly. The “dot” notation means to apply the method to the object, which is essentially applying a function to the information in the object.\n"
   ]
  },
  {
   "cell_type": "markdown",
   "id": "2ecb528c-e030-45f3-b08e-a85a7ed4ff37",
   "metadata": {},
   "source": [
    "<img src=\"https://cf-courses-data.s3.us.cloud-object-storage.appdomain.cloud/IBMDeveloperSkillsNetwork-PY0101EN-SkillsNetwork/labs/Module%203/images/ClassesMethod.png\" width=\"500\"> \n"
   ]
  },
  {
   "cell_type": "markdown",
   "id": "82fb4605-4584-4d56-8c38-c92b18df4434",
   "metadata": {},
   "source": [
    "<i>Figure 3: Applying the method “add_radius” to the object orange circle object.</i>\n"
   ]
  },
  {
   "cell_type": "markdown",
   "id": "308b2cdd-9827-44d0-96a3-232aed71867b",
   "metadata": {},
   "source": [
    "<hr>\n"
   ]
  },
  {
   "cell_type": "markdown",
   "id": "ee5c9ef3-6fe0-4244-81ee-416d7ed1d043",
   "metadata": {},
   "source": [
    "<h3 id=\"creating\">Creating a Class</h3>\n"
   ]
  },
  {
   "cell_type": "markdown",
   "id": "016b2c3b-cf07-4ce0-8cda-85d15ee51e6d",
   "metadata": {},
   "source": [
    "Now we are going to create a class Circle, but first, we are going to import a library to draw the objects:\n"
   ]
  },
  {
   "cell_type": "code",
   "execution_count": 126,
   "id": "2fee9f0a-da47-4aa3-b7d1-11dd6122fef8",
   "metadata": {},
   "outputs": [],
   "source": [
    "# Import the library\n",
    "\n",
    "import matplotlib.pyplot as plt\n",
    "%matplotlib inline  "
   ]
  },
  {
   "cell_type": "markdown",
   "id": "95d02987-a8cf-4640-a705-d8c8c8861cf9",
   "metadata": {},
   "source": [
    "The first step in creating your own class is to use the <code>class</code> keyword, then the name of the class as shown in Figure 4. In this course the class parent will always be object:\n"
   ]
  },
  {
   "cell_type": "markdown",
   "id": "e1f8877a-861f-4e4c-86c1-672ddc8d8a0f",
   "metadata": {},
   "source": [
    "<img src=\"https://cf-courses-data.s3.us.cloud-object-storage.appdomain.cloud/IBMDeveloperSkillsNetwork-PY0101EN-SkillsNetwork/labs/Module%203/images/ClassesDefine.png\" width=\"400\">\n"
   ]
  },
  {
   "cell_type": "markdown",
   "id": "300a75d9-5248-4796-ab78-a5f58e7877dc",
   "metadata": {},
   "source": [
    "<i>Figure 4: Creating a class Circle.</i>\n"
   ]
  },
  {
   "cell_type": "markdown",
   "id": "11dfeb8e-61ef-4d74-8130-f15c7d35c735",
   "metadata": {},
   "source": [
    "The next step is a special method called a constructor <code>/__init/_/_</code>, which is used to initialize the object. The inputs are data attributes. The term <code>self</code> contains all the attributes in the set. For example the <code>self.color</code> gives the value of the attribute color and <code>self.radius</code> will give you the radius of the object. We also have the method <code>add_radius()</code> with the parameter <code>r</code>, the method adds the value of <code>r</code> to the attribute radius. To access the radius we use the syntax <code>self.radius</code>. The labeled syntax is summarized in Figure 5:\n"
   ]
  },
  {
   "cell_type": "markdown",
   "id": "f6c17066-c733-4fd1-b463-609250ce3411",
   "metadata": {},
   "source": [
    "<img src=\"https://cf-courses-data.s3.us.cloud-object-storage.appdomain.cloud/IBMDeveloperSkillsNetwork-PY0101EN-SkillsNetwork/labs/Module%203/images/ClassesCircle.png\" width=\"600\">\n"
   ]
  },
  {
   "cell_type": "markdown",
   "id": "697314c9-53e4-4fd0-90dc-7f4bd0106609",
   "metadata": {},
   "source": [
    "<i>Figure 5: Labeled syntax of the object circle.</i>\n"
   ]
  },
  {
   "cell_type": "markdown",
   "id": "6cb1f780-3ead-456d-a47d-c5a8f617eee5",
   "metadata": {},
   "source": [
    "The actual object is shown below. We include the method <code>drawCircle</code> to display the image of a circle. We set the default radius to 3 and the default colour to blue:\n"
   ]
  },
  {
   "cell_type": "code",
   "execution_count": 127,
   "id": "cbdfa421-4ac9-4e78-97b8-3a42e3b7be37",
   "metadata": {},
   "outputs": [],
   "source": [
    "# Create a class Circle\n",
    "\n",
    "class Circle(object):\n",
    "    \n",
    "    # Constructor\n",
    "    def __init__(self, radius=3, color='blue'):\n",
    "        self.radius = radius\n",
    "        self.color = color \n",
    "    \n",
    "    # Method\n",
    "    def add_radius(self, r):\n",
    "        self.radius = self.radius + r\n",
    "        return(self.radius)\n",
    "    \n",
    "    # Method\n",
    "    def drawCircle(self):\n",
    "        plt.gca().add_patch(plt.Circle((0, 0), radius=self.radius, fc=self.color))\n",
    "        plt.axis('scaled')\n",
    "        plt.show()  "
   ]
  },
  {
   "cell_type": "markdown",
   "id": "5819d0f4-7889-4fcd-b43b-85849693acff",
   "metadata": {},
   "source": [
    "<hr>\n"
   ]
  },
  {
   "cell_type": "markdown",
   "id": "15023b40-8299-4bcf-b784-c8401c8db0c7",
   "metadata": {},
   "source": [
    "<h3 id=\"circle\">Creating an instance of a class Circle</h3>\n"
   ]
  },
  {
   "cell_type": "markdown",
   "id": "90ecfb38-05e1-46c1-a62f-d69714b2a8c4",
   "metadata": {},
   "source": [
    "Let’s create the object <code>RedCircle</code> of type Circle to do the following:\n"
   ]
  },
  {
   "cell_type": "code",
   "execution_count": 128,
   "id": "22da7fb2-a724-4cba-91d4-010ed8c59eae",
   "metadata": {},
   "outputs": [],
   "source": [
    "# Create an object RedCircle\n",
    "\n",
    "RedCircle = Circle(10, 'red')"
   ]
  },
  {
   "cell_type": "markdown",
   "id": "111d7207-d2a3-4eac-8e49-81a32fc9bb43",
   "metadata": {},
   "source": [
    "We can use the <code>dir</code> command to get a list of the object's methods. Many of them are default Python methods.\n"
   ]
  },
  {
   "cell_type": "code",
   "execution_count": 129,
   "id": "834feba8-0515-4f86-8957-48a3d141af96",
   "metadata": {},
   "outputs": [
    {
     "data": {
      "text/plain": [
       "['__class__',\n",
       " '__delattr__',\n",
       " '__dict__',\n",
       " '__dir__',\n",
       " '__doc__',\n",
       " '__eq__',\n",
       " '__format__',\n",
       " '__ge__',\n",
       " '__getattribute__',\n",
       " '__getstate__',\n",
       " '__gt__',\n",
       " '__hash__',\n",
       " '__init__',\n",
       " '__init_subclass__',\n",
       " '__le__',\n",
       " '__lt__',\n",
       " '__module__',\n",
       " '__ne__',\n",
       " '__new__',\n",
       " '__reduce__',\n",
       " '__reduce_ex__',\n",
       " '__repr__',\n",
       " '__setattr__',\n",
       " '__sizeof__',\n",
       " '__str__',\n",
       " '__subclasshook__',\n",
       " '__weakref__',\n",
       " 'add_radius',\n",
       " 'color',\n",
       " 'drawCircle',\n",
       " 'radius']"
      ]
     },
     "execution_count": 129,
     "metadata": {},
     "output_type": "execute_result"
    }
   ],
   "source": [
    "# Find out the methods can be used on the object RedCircle\n",
    "\n",
    "dir(RedCircle)"
   ]
  },
  {
   "cell_type": "markdown",
   "id": "54f8f1ad-938c-4eb6-863d-04959ac971b5",
   "metadata": {},
   "source": [
    "We can look at the data attributes of the object:\n"
   ]
  },
  {
   "cell_type": "code",
   "execution_count": 130,
   "id": "559b9eb8-9ba3-4b6f-94b0-621996e9efcd",
   "metadata": {},
   "outputs": [
    {
     "data": {
      "text/plain": [
       "10"
      ]
     },
     "execution_count": 130,
     "metadata": {},
     "output_type": "execute_result"
    }
   ],
   "source": [
    "# Print the object attribute radius\n",
    "\n",
    "RedCircle.radius"
   ]
  },
  {
   "cell_type": "code",
   "execution_count": 131,
   "id": "4a8cc477-4cb1-4e0c-b3b5-eacb3f5e05bf",
   "metadata": {},
   "outputs": [
    {
     "data": {
      "text/plain": [
       "'red'"
      ]
     },
     "execution_count": 131,
     "metadata": {},
     "output_type": "execute_result"
    }
   ],
   "source": [
    "# Print the object attribute color\n",
    "\n",
    "RedCircle.color"
   ]
  },
  {
   "cell_type": "markdown",
   "id": "115555ff-f851-4c0c-89a2-5987e46e35c2",
   "metadata": {},
   "source": [
    "We can change the object's data attributes:\n"
   ]
  },
  {
   "cell_type": "code",
   "execution_count": 132,
   "id": "43c0ecb2-3f67-49c9-bdea-f4a3d6584b11",
   "metadata": {},
   "outputs": [
    {
     "data": {
      "text/plain": [
       "1"
      ]
     },
     "execution_count": 132,
     "metadata": {},
     "output_type": "execute_result"
    }
   ],
   "source": [
    "# Set the object attribute radius\n",
    "\n",
    "RedCircle.radius = 1\n",
    "RedCircle.radius"
   ]
  },
  {
   "cell_type": "markdown",
   "id": "d4415861-5d6d-4509-a4ba-e4f5ccb641ea",
   "metadata": {},
   "source": [
    "We can draw the object by using the method <code>drawCircle()</code>:\n"
   ]
  },
  {
   "cell_type": "code",
   "execution_count": 133,
   "id": "2f1a99a6-f3aa-475a-9b58-9ecd25c7eb1e",
   "metadata": {},
   "outputs": [
    {
     "data": {
      "image/png": "[encoded data removed]",
      "text/plain": [
       "<Figure size 640x480 with 1 Axes>"
      ]
     },
     "metadata": {},
     "output_type": "display_data"
    }
   ],
   "source": [
    "# Call the method drawCircle\n",
    "\n",
    "RedCircle.drawCircle()"
   ]
  },
  {
   "cell_type": "markdown",
   "id": "7ead9365-6f6b-48b3-b428-b86643fa10b7",
   "metadata": {},
   "source": [
    "We can increase the radius of the circle by applying the method <code>add_radius()</code>. Let's increases the radius by 2 and then by 5:\n"
   ]
  },
  {
   "cell_type": "code",
   "execution_count": 134,
   "id": "30d4c07c-fcca-4a71-be17-2c3e7cadcd6a",
   "metadata": {},
   "outputs": [
    {
     "name": "stdout",
     "output_type": "stream",
     "text": [
      "Radius of object: 1\n",
      "Radius of object of after applying the method add_radius(2): 3\n",
      "Radius of object of after applying the method add_radius(5): 8\n"
     ]
    }
   ],
   "source": [
    "# Use method to change the object attribute radius\n",
    "\n",
    "print('Radius of object:',RedCircle.radius)\n",
    "RedCircle.add_radius(2)\n",
    "print('Radius of object of after applying the method add_radius(2):',RedCircle.radius)\n",
    "RedCircle.add_radius(5)\n",
    "print('Radius of object of after applying the method add_radius(5):',RedCircle.radius)"
   ]
  },
  {
   "cell_type": "markdown",
   "id": "7e01a00e-c609-4499-bfc4-205af2e19cb4",
   "metadata": {},
   "source": [
    "Let’s create a blue circle. As the default colour is blue, all we have to do is specify what the radius is:\n"
   ]
  },
  {
   "cell_type": "code",
   "execution_count": 135,
   "id": "03ce8151-ae8d-4f10-9e86-eed109d0c06d",
   "metadata": {},
   "outputs": [],
   "source": [
    "# Create a blue circle with a given radius\n",
    "\n",
    "BlueCircle = Circle(radius=100)"
   ]
  },
  {
   "cell_type": "markdown",
   "id": "815143f2-d573-48f1-ae37-02a93bd4f8b8",
   "metadata": {},
   "source": [
    "As before, we can access the attributes of the instance of the class by using the dot notation:\n"
   ]
  },
  {
   "cell_type": "code",
   "execution_count": 136,
   "id": "265cfdf4-a928-4c2b-bc07-f7c8141e10e2",
   "metadata": {},
   "outputs": [
    {
     "data": {
      "text/plain": [
       "100"
      ]
     },
     "execution_count": 136,
     "metadata": {},
     "output_type": "execute_result"
    }
   ],
   "source": [
    "# Print the object attribute radius\n",
    "\n",
    "BlueCircle.radius"
   ]
  },
  {
   "cell_type": "code",
   "execution_count": 137,
   "id": "b89f5df4-b64d-4fdd-a95a-89ba957cd9a4",
   "metadata": {},
   "outputs": [
    {
     "data": {
      "text/plain": [
       "'blue'"
      ]
     },
     "execution_count": 137,
     "metadata": {},
     "output_type": "execute_result"
    }
   ],
   "source": [
    "# Print the object attribute color\n",
    "\n",
    "BlueCircle.color"
   ]
  },
  {
   "cell_type": "markdown",
   "id": "a0efa6b7-986c-4454-8973-8d5533037130",
   "metadata": {},
   "source": [
    "We can draw the object by using the method <code>drawCircle()</code>:\n"
   ]
  },
  {
   "cell_type": "code",
   "execution_count": 138,
   "id": "5285df74-1736-4cf6-af76-a49afea5ce95",
   "metadata": {},
   "outputs": [
    {
     "data": {
      "image/png": "[encoded data removed]",
      "text/plain": [
       "<Figure size 640x480 with 1 Axes>"
      ]
     },
     "metadata": {},
     "output_type": "display_data"
    }
   ],
   "source": [
    "# Call the method drawCircle\n",
    "\n",
    "BlueCircle.drawCircle()"
   ]
  },
  {
   "cell_type": "markdown",
   "id": "646b0064-d230-4e8e-be6f-ccaf9d1e30e8",
   "metadata": {},
   "source": [
    "Compare the x and y axis of the figure to the figure for <code>RedCircle</code>; they are different.\n"
   ]
  },
  {
   "cell_type": "markdown",
   "id": "126bcbfc-0e99-4c4a-8b1d-c389648ad63d",
   "metadata": {},
   "source": [
    "### Task-5. Additionally, you need to create two objects of the Vehicle class object that should have a max speed of 200kph and mileage of 50000kmpl with five seating capacities, and another car object should have a max speed of 180kph and 75000kmpl with four seating capacities.\n"
   ]
  },
  {
   "cell_type": "code",
   "execution_count": 139,
   "id": "13cdec5b-6dc2-495a-a2fb-0cffa5baf1bd",
   "metadata": {},
   "outputs": [
    {
     "name": "stdout",
     "output_type": "stream",
     "text": [
      "Properties of the Vehicle:\n",
      "Color: white\n",
      "Maximum Speed: 200\n",
      "Mileage: 20\n",
      "Seating Capacity: 5\n"
     ]
    }
   ],
   "source": [
    "#Type your code here\n",
    "class car():\n",
    "    color='white'\n",
    "    def __init__(self,maxspeed,miles):\n",
    "        self.maxspeed=maxspeed\n",
    "        self.miles=miles\n",
    "        self.sitting_cap=None\n",
    "    def assign_seating_cap(self,seating_cap):\n",
    "        self.seating_cap=seating_cap\n",
    "    def display_properties(self):\n",
    "        print(\"Properties of the Vehicle:\")\n",
    "        print(\"Color:\", self.color)\n",
    "        print(\"Maximum Speed:\", self.maxspeed)\n",
    "        print(\"Mileage:\", self.miles)\n",
    "        print(\"Seating Capacity:\", self.seating_cap)\n",
    "\n",
    "\n",
    "car1=car(200,20)\n",
    "car1.assign_seating_cap(5)\n",
    "car1.display_properties()\n",
    "\n"
   ]
  },
  {
   "cell_type": "markdown",
   "id": "acc80a1a-c977-4bc8-8311-8935a1ce5062",
   "metadata": {},
   "source": [
    "## Module 3 Summary: Python Programming Fundamentals"
   ]
  },
  {
   "cell_type": "markdown",
   "id": "0afb8e71-71f1-409b-a423-52e9e3eb0952",
   "metadata": {},
   "source": [
    "* Summary\n",
    "\n",
    "    Python conditions use “if” statements to execute code based on true/false conditions created by comparisons and Boolean expressions.\n",
    "\n",
    "    Comparison operations require using comparison operators equal to \"=\", greater than \">\", less than \"<\".\n",
    "\n",
    "    An exclamation mark \"!\" is used to define inequalities of a variable.\n",
    "\n",
    "    You can compare integers, strings, and floats.\n",
    "\n",
    "    Python branching directs program flow by using conditional statements (for example, if, else, elif) to execute different code blocks based on conditions or tests.\n",
    "\n",
    "    You can use the \"if\" statement with conditions to define actions if true.\n",
    "\n",
    "    To perform actions based on true or false output, you can use the \"else\" statement with conditions.\n",
    "\n",
    "    The elif statement allows for additional checks only if the initial condition is false.\n",
    "\n",
    "    To execute various operations on Boolean values, we use Boolean logic operators.\n",
    "\n",
    "    Python loops are control structures that automate repetitive tasks and iterate over data structures like lists or dictionaries.\n",
    "\n",
    "    The range() function generates a sequence of numbers with a specified start, stop, and step value for loops in Python.\n",
    "\n",
    "    A for loop in Python iterates over a sequence, such as a list, tuple, or string, and executes a block of code for each item in the sequence.\n",
    "\n",
    "    A while loop in Python executes a block of code as long as a specified condition remains true.\n",
    "\n",
    "    Python functions are reusable code blocks that perform specific tasks, take input parameters, and often return results, enhancing code modularity and reusability.\n",
    "\n",
    "    You may or may not have written the codes that are often included in functions.\n",
    "\n",
    "    Python has a set of built-in functions such as \"len\" to find the length of a sequence or \"sum\" to find the total sum of a sequence.\n",
    "\n",
    "    The \"sorted\" function creates a new sorted list, while \"sort\" sorts items in the original list.\n",
    "\n",
    "    You can also create your own functions in Python.\n",
    "\n",
    "    To ensure clarity and organization and facilitate understanding and maintenance of the code, developers must document functions using a documentation string enclosed in three quotes.\n",
    "\n",
    "    The help command will return the documentation defined for a particular function.\n",
    "\n",
    "    A function can have multiple parameters.\n",
    "\n",
    "    “No return” statement in the function means that the function will return nothing.\n",
    "\n",
    "    The \"No work\" function does not execute any task. You can use the \"pass\" keyword to meet the requirement of a non-empty body.\n",
    "\n",
    "    A function will usually perform more than one task.\n",
    "\n",
    "    In Python, the scope of a variable determines where you can access or modify that variable. Global scope allows access from anywhere, while local scope restricts it to a block or function.\n",
    "\n",
    "    In Python, a programmer defines a local variable within a specific block or function, which can only be accessed or modified within that block or function.\n",
    "\n",
    "    In Python, a global variable is a variable defined at the top level of a program that any part of the code can access or modify. \n",
    "\n",
    "    Exception handling in Python is a mechanism for managing and responding to errors and exceptions that may occur during program execution, preventing them from crashing the program.\n",
    "\n",
    "    In Python, you use the \"try-except\" statement to attempt a block of code and specify alternative actions to execute if an error occurs, allowing you to handle exceptions. \n",
    "\n",
    "    In Python, you use the \"try-except-else\" statement to attempt a block of code, handle exceptions in the \"except\" block, and execute code in the \"else\" block when no exceptions occur. \n",
    "\n",
    "    Python developers use the \"try-except-else-finally\" statement to attempt a block of code, catch exceptions in the \"except\" block, execute code in the \"else\" block when no exceptions occur, and ensure that the \"finally\" block always runs, regardless of whether an exception raised or not.\n",
    "\n",
    "    In Python, objects are instances of classes that encapsulate data and behavior, serving as the foundation for creating and working with various data types and custom data structures.\n",
    "\n",
    "    To determine the type of an object in Python, you can use the `type()` command.\n",
    "\n",
    "    Any changes made within the method of the object may result in a change in object type.\n",
    "\n",
    "    Classes in Python are blueprints for creating objects, defining their attributes and methods, enabling code organization, and object-oriented programming.\n",
    "\n",
    "    Function \"init\" is a special method used to initialize data attributes.\n",
    "\n",
    "    We can create instances of a class in Python.\n",
    "\n",
    "    Data attributes consist of the data defining the objects.\n",
    "\n",
    "    Methods are functions that interact and change the data attributes.\n",
    "\n",
    "    The method has a function that requires the self as well as other parameters."
   ]
  },
  {
   "cell_type": "markdown",
   "id": "f4165e96-072a-44a5-88e1-ebfb841ea183",
   "metadata": {},
   "source": [
    "<h1 is ='M4'> Module 4</h1>"
   ]
  },
  {
   "cell_type": "markdown",
   "id": "9481efa4-5931-4e0f-ae01-79cbf9099637",
   "metadata": {},
   "source": [
    "<h2 id=\"read\">Working In Python With Text Files</h2>\n"
   ]
  },
  {
   "cell_type": "markdown",
   "id": "f9925c92-1ca4-4f74-b4ab-8aab06de785a",
   "metadata": {},
   "source": [
    "One way to read or write a file in Python is to use the built-in <code>open</code> function. The <code>open</code> function provides a **File object** that contains the methods and attributes you need in order to read, save, and manipulate the file. In this notebook, we will only cover **.txt** files. The first parameter you need is the file path and the file name. An example is shown as follow:\n"
   ]
  },
  {
   "cell_type": "markdown",
   "id": "7cac274b-42a0-4e25-95f2-738dd3ef74e9",
   "metadata": {},
   "source": [
    "<img src=\"https://cf-courses-data.s3.us.cloud-object-storage.appdomain.cloud/IBMDeveloperSkillsNetwork-PY0101EN-SkillsNetwork/labs/Module%204/images/ReadOpen.png\" width=\"500\">\n"
   ]
  },
  {
   "cell_type": "markdown",
   "id": "b29685e7-937f-426f-b9fb-6cc12a0bf547",
   "metadata": {},
   "source": [
    "The mode argument is optional and the default value is **r**. In this notebook we only cover two modes:\n",
    "\n",
    "<ul>\n",
    "    <li>**r**: Read mode for reading files </li>\n",
    "    <li>**w**: Write mode for writing files</li>\n",
    "</ul>\n"
   ]
  },
  {
   "cell_type": "markdown",
   "id": "c2c01f8c-fce3-40f4-bdd7-6df7e38ac33f",
   "metadata": {},
   "source": [
    "For the next example, we will use the text file **Example1.txt**. The file is shown as follows:\n"
   ]
  },
  {
   "cell_type": "markdown",
   "id": "d657d373-4e95-4489-a7ad-c4c3d963ca03",
   "metadata": {},
   "source": [
    "<img src=\"https://cf-courses-data.s3.us.cloud-object-storage.appdomain.cloud/IBMDeveloperSkillsNetwork-PY0101EN-SkillsNetwork/labs/Module%204/images/ReadFile.png\" width=\"100\">\n"
   ]
  },
  {
   "cell_type": "markdown",
   "id": "34de76ca-0286-423c-9a4a-4e4830abfecf",
   "metadata": {},
   "source": [
    "We read the file:\n"
   ]
  },
  {
   "cell_type": "code",
   "execution_count": 140,
   "id": "405f2715-0bbd-40c9-99ae-5443d1fa584f",
   "metadata": {},
   "outputs": [],
   "source": [
    "# Read the Example1.txt\n",
    "example1 = \"C:/Users/Gamaliel/Documents/G/ADD/IBM_DS/Python4DS/IBMs-NBs/Mod4/example1.txt\"\n",
    "file1 = open(example1, \"r\")\n"
   ]
  },
  {
   "cell_type": "markdown",
   "id": "8a0983ce-99e4-4956-999b-0aad2a179e85",
   "metadata": {},
   "source": [
    "We can view the attributes of the file.\n"
   ]
  },
  {
   "cell_type": "markdown",
   "id": "a0d110ea-411a-44cc-9f01-e3afd5c9edc9",
   "metadata": {},
   "source": [
    "The name of the file:\n"
   ]
  },
  {
   "cell_type": "code",
   "execution_count": 141,
   "id": "2f50f575-5c1d-4280-a881-e21c1a9aa771",
   "metadata": {},
   "outputs": [
    {
     "data": {
      "text/plain": [
       "'C:/Users/Gamaliel/Documents/G/ADD/IBM_DS/Python4DS/IBMs-NBs/Mod4/example1.txt'"
      ]
     },
     "execution_count": 141,
     "metadata": {},
     "output_type": "execute_result"
    }
   ],
   "source": [
    "# Print the path of file\n",
    "\n",
    "file1.name"
   ]
  },
  {
   "cell_type": "markdown",
   "id": "f665c260-53b8-4b5c-aa61-fb1379dc373e",
   "metadata": {},
   "source": [
    "The mode the file object is in:\n"
   ]
  },
  {
   "cell_type": "code",
   "execution_count": 142,
   "id": "24c96ffd-c396-48cf-91a6-ca9de0d0899a",
   "metadata": {},
   "outputs": [
    {
     "data": {
      "text/plain": [
       "'r'"
      ]
     },
     "execution_count": 142,
     "metadata": {},
     "output_type": "execute_result"
    }
   ],
   "source": [
    "# Print the mode of file, either 'r' or 'w'\n",
    "\n",
    "file1.mode"
   ]
  },
  {
   "cell_type": "markdown",
   "id": "07e8db70-fe3f-4cfd-8a77-b82bd29e5506",
   "metadata": {},
   "source": [
    "We can read the file and assign it to a variable :\n"
   ]
  },
  {
   "cell_type": "code",
   "execution_count": 143,
   "id": "94a40a36-9838-47d1-a456-f4bbf2964bbb",
   "metadata": {},
   "outputs": [
    {
     "data": {
      "text/plain": [
       "'This is line a\\nThis is line c\\n'"
      ]
     },
     "execution_count": 143,
     "metadata": {},
     "output_type": "execute_result"
    }
   ],
   "source": [
    "# Read the file\n",
    "\n",
    "FileContent = file1.read()\n",
    "FileContent"
   ]
  },
  {
   "cell_type": "markdown",
   "id": "75c99cee-aa70-4076-a6e5-2ff79e62df95",
   "metadata": {},
   "source": [
    "The **/n** means that there is a new line.\n"
   ]
  },
  {
   "cell_type": "markdown",
   "id": "fde50fc2-4f2d-496c-af56-a66812d1bd56",
   "metadata": {},
   "source": [
    "We can print the file:\n"
   ]
  },
  {
   "cell_type": "code",
   "execution_count": 144,
   "id": "9bdcabc4-e91a-46bf-8809-05931fed5ace",
   "metadata": {},
   "outputs": [
    {
     "name": "stdout",
     "output_type": "stream",
     "text": [
      "This is line a\n",
      "This is line c\n",
      "\n"
     ]
    }
   ],
   "source": [
    "# Print the file with '/n' as a new line\n",
    "\n",
    "print(FileContent)"
   ]
  },
  {
   "cell_type": "markdown",
   "id": "c6750911-79ef-4866-9111-5fa8bebac293",
   "metadata": {},
   "source": [
    "The file is of type string:\n"
   ]
  },
  {
   "cell_type": "code",
   "execution_count": 145,
   "id": "26a45f03-974c-4f34-8c99-e9915eb162ed",
   "metadata": {},
   "outputs": [
    {
     "data": {
      "text/plain": [
       "str"
      ]
     },
     "execution_count": 145,
     "metadata": {},
     "output_type": "execute_result"
    }
   ],
   "source": [
    "# Type of file content\n",
    "\n",
    "type(FileContent)"
   ]
  },
  {
   "cell_type": "markdown",
   "id": "18c4454e-3619-4acf-a396-34ec82069b1a",
   "metadata": {},
   "source": [
    "It is very important that the file is closed in the end. This frees up resources and ensures consistency across different python versions.\n"
   ]
  },
  {
   "cell_type": "code",
   "execution_count": 146,
   "id": "1bbe2781-91f8-4396-9209-32c85cc97599",
   "metadata": {},
   "outputs": [],
   "source": [
    "# Close file after finish\n",
    "\n",
    "file1.close()"
   ]
  },
  {
   "cell_type": "markdown",
   "id": "1a2ea9fe-3041-4275-b05d-e8203d85cc78",
   "metadata": {},
   "source": [
    "<hr>\n"
   ]
  },
  {
   "cell_type": "markdown",
   "id": "cb2b68ac-29f1-4b9a-a8e6-1c29828c810f",
   "metadata": {},
   "source": [
    "<h3 id=\"better\">A Better Way to Open a File</h3>\n"
   ]
  },
  {
   "cell_type": "markdown",
   "id": "334affc2-ff16-4a19-a45e-bc43ee2dff93",
   "metadata": {},
   "source": [
    "Using the <code>with</code> statement is better practice, it automatically closes the file even if the code encounters an exception. The code will run everything in the indent block then close the file object.\n"
   ]
  },
  {
   "cell_type": "code",
   "execution_count": 147,
   "id": "a12e1f8b-a1d9-44a7-bb22-8ebb98ca8a29",
   "metadata": {},
   "outputs": [
    {
     "name": "stdout",
     "output_type": "stream",
     "text": [
      "This is line a\n",
      "This is line c\n",
      "\n"
     ]
    }
   ],
   "source": [
    "# Open file using with\n",
    "\n",
    "with open(example1, \"r\") as file1:\n",
    "    FileContent = file1.read()\n",
    "    print(FileContent)"
   ]
  },
  {
   "cell_type": "markdown",
   "id": "3caa19f4-fe83-4cba-a02a-2c8960027e77",
   "metadata": {},
   "source": [
    "The file object is closed, you can verify it by running the following cell:\n"
   ]
  },
  {
   "cell_type": "code",
   "execution_count": 148,
   "id": "6cdecedb-3ed7-4baa-b79e-a6bfdc36e186",
   "metadata": {},
   "outputs": [
    {
     "data": {
      "text/plain": [
       "True"
      ]
     },
     "execution_count": 148,
     "metadata": {},
     "output_type": "execute_result"
    }
   ],
   "source": [
    "# Verify if the file is closed\n",
    "\n",
    "file1.closed"
   ]
  },
  {
   "cell_type": "markdown",
   "id": "2c6c799e-0c39-4271-b95d-a182ce476a58",
   "metadata": {},
   "source": [
    "We can see the info in the file:\n"
   ]
  },
  {
   "cell_type": "code",
   "execution_count": 149,
   "id": "a445bb55-e0cc-4b33-b228-b055e77bb8cf",
   "metadata": {},
   "outputs": [
    {
     "name": "stdout",
     "output_type": "stream",
     "text": [
      "This is line a\n",
      "This is line c\n",
      "\n"
     ]
    }
   ],
   "source": [
    "# See the content of file\n",
    "\n",
    "print(FileContent)"
   ]
  },
  {
   "cell_type": "markdown",
   "id": "7cc99984-fd4f-46e6-a091-9a3313f4ecef",
   "metadata": {},
   "source": [
    "The syntax is a little confusing as the file object is after the <code>as</code> statement. We also don’t explicitly close the file. Therefore we summarize the steps in a figure:\n"
   ]
  },
  {
   "cell_type": "markdown",
   "id": "6f7b837c-2a93-4317-ac22-c3d181bf67bc",
   "metadata": {},
   "source": [
    "<img src=\"https://cf-courses-data.s3.us.cloud-object-storage.appdomain.cloud/IBMDeveloperSkillsNetwork-PY0101EN-SkillsNetwork/labs/Module%204/images/ReadWith.png\" width=\"500\">\n"
   ]
  },
  {
   "cell_type": "markdown",
   "id": "05197325-bce6-4e59-a44f-585774569d7f",
   "metadata": {},
   "source": [
    "We don’t have to read the entire file, for example, we can read the first 4 characters by entering three as a parameter to the method **.read()**:\n"
   ]
  },
  {
   "cell_type": "code",
   "execution_count": 150,
   "id": "1baa99f5-a969-48ee-a12c-969b6005468b",
   "metadata": {},
   "outputs": [
    {
     "name": "stdout",
     "output_type": "stream",
     "text": [
      "This\n"
     ]
    }
   ],
   "source": [
    "# Read first four characters\n",
    "\n",
    "with open(example1, \"r\") as file1:\n",
    "    print(file1.read(4))"
   ]
  },
  {
   "cell_type": "markdown",
   "id": "9b2ffe36-9e3b-4f04-b4ea-ffe2216afbc1",
   "metadata": {},
   "source": [
    "Once the method <code>.read(4)</code> is called the first 4 characters are called. If we call the method again, the next 4 characters are called. The output for the following cell will demonstrate the process for different inputs to the method <code>read()</code>:\n"
   ]
  },
  {
   "cell_type": "code",
   "execution_count": 151,
   "id": "55fb7963-c323-430f-935c-3eebb3c82f22",
   "metadata": {},
   "outputs": [
    {
     "name": "stdout",
     "output_type": "stream",
     "text": [
      "This\n",
      " is \n",
      "line a\n",
      "\n",
      "This is line c\n",
      "\n"
     ]
    }
   ],
   "source": [
    "# Read certain amount of characters\n",
    "\n",
    "with open(example1, \"r\") as file1:\n",
    "    print(file1.read(4))\n",
    "    print(file1.read(4))\n",
    "    print(file1.read(7))\n",
    "    print(file1.read(15))"
   ]
  },
  {
   "cell_type": "markdown",
   "id": "37cbaa40-08cb-4a00-9996-6c22d4d65e5a",
   "metadata": {},
   "source": [
    "The process is illustrated in the below figure, and each color represents the part of the file read after the method <code>read()</code> is called:\n"
   ]
  },
  {
   "cell_type": "markdown",
   "id": "e656647f-ecfb-445b-acbd-816215d9eed3",
   "metadata": {},
   "source": [
    "<img src=\"https://cf-courses-data.s3.us.cloud-object-storage.appdomain.cloud/IBMDeveloperSkillsNetwork-PY0101EN-SkillsNetwork/labs/Module%204/images/read.png\" width=\"500\">\n"
   ]
  },
  {
   "cell_type": "markdown",
   "id": "60f2941f-a472-451f-a365-b9bc15732dae",
   "metadata": {},
   "source": [
    "We can also read one line of the file at a time using the method <code>readline()</code>:\n"
   ]
  },
  {
   "cell_type": "code",
   "execution_count": 152,
   "id": "2ba4eb6c-3b60-4f9e-a2c3-2a84f0628fcb",
   "metadata": {},
   "outputs": [
    {
     "name": "stdout",
     "output_type": "stream",
     "text": [
      "first line: This is line a\n",
      "\n"
     ]
    }
   ],
   "source": [
    "# Read one line\n",
    "\n",
    "with open(example1, \"r\") as file1:\n",
    "    print(\"first line: \" + file1.readline())"
   ]
  },
  {
   "cell_type": "markdown",
   "id": "0a3f13d8-6ab2-49b8-b464-11e58ca0a21d",
   "metadata": {},
   "source": [
    "We can also pass an argument to <code> readline() </code> to specify the number of charecters we want to read. However, unlike <code> read()</code>, <code> readline()</code> can only read one line at most.\n"
   ]
  },
  {
   "cell_type": "code",
   "execution_count": 153,
   "id": "bc041569-a944-4c2e-b313-d581d45ef602",
   "metadata": {},
   "outputs": [
    {
     "name": "stdout",
     "output_type": "stream",
     "text": [
      "This is line a\n",
      "\n",
      "This is line c\n",
      "\n"
     ]
    }
   ],
   "source": [
    "with open(example1, \"r\") as file1:\n",
    "    print(file1.readline(20)) # does not read past the end of line\n",
    "    print(file1.read(20)) # Returns the next 20 chars\n"
   ]
  },
  {
   "cell_type": "markdown",
   "id": "760d2ead-be00-4366-b99d-a738f114588f",
   "metadata": {},
   "source": [
    "We can use a loop to iterate through each line:\n"
   ]
  },
  {
   "cell_type": "code",
   "execution_count": 154,
   "id": "e4c2ed23-8612-407c-b68d-2f7a654697cc",
   "metadata": {},
   "outputs": [
    {
     "name": "stdout",
     "output_type": "stream",
     "text": [
      "Iteration 0 :  This is line a\n",
      "\n",
      "Iteration 1 :  This is line c\n",
      "\n"
     ]
    }
   ],
   "source": [
    "# Iterate through the lines\n",
    "\n",
    "with open(example1,\"r\") as file1:\n",
    "        i = 0;\n",
    "        for line in file1:\n",
    "            print(\"Iteration\", str(i), \": \", line)\n",
    "            i = i + 1"
   ]
  },
  {
   "cell_type": "markdown",
   "id": "9cd312b0-8a05-4c51-98d8-dec355d0d345",
   "metadata": {},
   "source": [
    "We can use the method <code>readlines()</code> to save the text file to a list:\n"
   ]
  },
  {
   "cell_type": "code",
   "execution_count": 155,
   "id": "74f2e6a9-9bd8-4aa0-b9e8-f5f4a4496762",
   "metadata": {},
   "outputs": [],
   "source": [
    "# Read all lines and save as a list\n",
    "\n",
    "with open(example1, \"r\") as file1:\n",
    "    FileasList = file1.readlines()"
   ]
  },
  {
   "cell_type": "markdown",
   "id": "000b562f-ed93-4311-b3a4-7a77f5df39da",
   "metadata": {},
   "source": [
    "Each element of the list corresponds to a line of text:\n"
   ]
  },
  {
   "cell_type": "markdown",
   "id": "7e09ab81-357e-4525-9b83-1309b947b2aa",
   "metadata": {},
   "source": [
    "<h3 id=\"write\">Writing Files</h3>\n"
   ]
  },
  {
   "cell_type": "markdown",
   "id": "b67933e6-f17c-41f0-9884-daf1523e22a5",
   "metadata": {},
   "source": [
    " We can open a file object using the method <code>write()</code> to save the text file to a list. To write to a file, the mode argument must be set to **w**. Let’s write a file **Example2.txt** with the line: **“This is line A”**\n"
   ]
  },
  {
   "cell_type": "code",
   "execution_count": 156,
   "id": "20d7e819-055b-477b-91f5-b29e1a95def9",
   "metadata": {},
   "outputs": [],
   "source": [
    "# Write line to file\n",
    "exmp2 = 'Example2.txt'\n",
    "with open(exmp2, 'w') as writefile:\n",
    "    writefile.write(\"This is line A\")"
   ]
  },
  {
   "cell_type": "markdown",
   "id": "4bbd8c6b-3c22-49cb-a5ff-ea6ea8136cc3",
   "metadata": {},
   "source": [
    " We can read the file to see if it worked:\n"
   ]
  },
  {
   "cell_type": "code",
   "execution_count": 157,
   "id": "7c29808c-b2a4-473f-bd0d-1edd8bbad7e1",
   "metadata": {},
   "outputs": [
    {
     "name": "stdout",
     "output_type": "stream",
     "text": [
      "This is line A\n"
     ]
    }
   ],
   "source": [
    "# Read file\n",
    "\n",
    "with open(exmp2, 'r') as testwritefile:\n",
    "    print(testwritefile.read())"
   ]
  },
  {
   "cell_type": "markdown",
   "id": "89ca6a68-a5cb-4b65-bef4-3eb528f20480",
   "metadata": {},
   "source": [
    "We can write multiple lines:\n"
   ]
  },
  {
   "cell_type": "code",
   "execution_count": 158,
   "id": "4b746db7-1eba-49ad-a1c9-974ac40f6e98",
   "metadata": {},
   "outputs": [],
   "source": [
    "# Write lines to file\n",
    "\n",
    "with open(exmp2, 'w') as writefile:\n",
    "    writefile.write(\"This is line A/n\")\n",
    "    writefile.write(\"This is line B/n\")"
   ]
  },
  {
   "cell_type": "markdown",
   "id": "74e453ef-f7f3-4016-aee5-a586cdb16fde",
   "metadata": {},
   "source": [
    "The method <code>.write()</code> works similarly to the method <code>.readline()</code>, except instead of reading a new line it writes a new line. The process is illustrated in the figure. The different colour coding of the grid represents a new line added to the file after each method call.\n"
   ]
  },
  {
   "cell_type": "markdown",
   "id": "ab4798ea-631a-40a1-9cfa-adbbd2aefd4b",
   "metadata": {},
   "source": [
    "<img src=\"https://cf-courses-data.s3.us.cloud-object-storage.appdomain.cloud/IBMDeveloperSkillsNetwork-PY0101EN-SkillsNetwork/labs/Module%204/images/WriteLine.png\" width=\"500\">\n"
   ]
  },
  {
   "cell_type": "markdown",
   "id": "e0141f2e-3e81-4c6d-8ea1-95aba8f8182c",
   "metadata": {},
   "source": [
    "You can check the file to see if your results are correct. \n"
   ]
  },
  {
   "cell_type": "code",
   "execution_count": 159,
   "id": "f1b3b185-136a-4419-86c2-0d9b40ad5132",
   "metadata": {},
   "outputs": [
    {
     "name": "stdout",
     "output_type": "stream",
     "text": [
      "This is line A/nThis is line B/n\n"
     ]
    }
   ],
   "source": [
    "# Check whether write to file\n",
    "\n",
    "with open(exmp2, 'r') as testwritefile:\n",
    "    print(testwritefile.read())"
   ]
  },
  {
   "cell_type": "markdown",
   "id": "c0c09201-5fd6-4299-b62f-bc721d2cbd08",
   "metadata": {},
   "source": [
    " We write a list to a **.txt** file  as follows:\n"
   ]
  },
  {
   "cell_type": "code",
   "execution_count": 160,
   "id": "d99f7805-bf15-4149-8fd4-57d8ac8d27b8",
   "metadata": {},
   "outputs": [
    {
     "data": {
      "text/plain": [
       "['This is line A/n', 'This is line B/n', 'This is line C/n']"
      ]
     },
     "execution_count": 160,
     "metadata": {},
     "output_type": "execute_result"
    }
   ],
   "source": [
    "# Sample list of text\n",
    "\n",
    "Lines = [\"This is line A/n\", \"This is line B/n\", \"This is line C/n\"]\n",
    "Lines"
   ]
  },
  {
   "cell_type": "code",
   "execution_count": 161,
   "id": "1fa45372-4177-419e-b96d-552794bd92ca",
   "metadata": {},
   "outputs": [
    {
     "name": "stdout",
     "output_type": "stream",
     "text": [
      "This is line A/n\n",
      "This is line B/n\n",
      "This is line C/n\n"
     ]
    }
   ],
   "source": [
    "# Write the strings in the list to text file\n",
    "\n",
    "with open('Example2.txt', 'w') as writefile:\n",
    "    for line in Lines:\n",
    "        print(line)\n",
    "        writefile.write(line)"
   ]
  },
  {
   "cell_type": "markdown",
   "id": "aa79b051-0f67-4897-a622-d444bb560491",
   "metadata": {},
   "source": [
    " We can verify the file is written by reading it and printing out the values:  \n"
   ]
  },
  {
   "cell_type": "code",
   "execution_count": 162,
   "id": "85978939-b952-4a9a-a340-8c8fd9872f3b",
   "metadata": {},
   "outputs": [
    {
     "name": "stdout",
     "output_type": "stream",
     "text": [
      "This is line A/nThis is line B/nThis is line C/n\n"
     ]
    }
   ],
   "source": [
    "# Verify if writing to file is successfully executed\n",
    "\n",
    "with open('Example2.txt', 'r') as testwritefile:\n",
    "    print(testwritefile.read())"
   ]
  },
  {
   "cell_type": "markdown",
   "id": "8b671ddc-2fd0-4c20-b083-693eb373dc8a",
   "metadata": {},
   "source": [
    "However, note that setting the mode to __w__ overwrites all the existing data in the file.\n"
   ]
  },
  {
   "cell_type": "code",
   "execution_count": 163,
   "id": "91e757fe-edf6-4926-bb2f-42d958708105",
   "metadata": {},
   "outputs": [
    {
     "name": "stdout",
     "output_type": "stream",
     "text": [
      "Overwrite/n\n"
     ]
    }
   ],
   "source": [
    "with open('Example2.txt', 'w') as writefile:\n",
    "    writefile.write(\"Overwrite/n\")\n",
    "with open('Example2.txt', 'r') as testwritefile:\n",
    "    print(testwritefile.read())"
   ]
  },
  {
   "cell_type": "markdown",
   "id": "a0024e74-e49a-40e9-922e-22b2037429ee",
   "metadata": {},
   "source": [
    "<h3 id=\"Append\">Appending Files</h3>\n"
   ]
  },
  {
   "cell_type": "markdown",
   "id": "05da7fb2-8e55-4002-a96c-ebf3aba6d1c8",
   "metadata": {},
   "source": [
    " We can write to files without losing any of the existing data as follows by setting the mode argument to append: **a**.  You can append a new line as follows:\n"
   ]
  },
  {
   "cell_type": "code",
   "execution_count": 164,
   "id": "dff28dcd-9cc4-4f9c-b6c0-0aea0617a774",
   "metadata": {},
   "outputs": [],
   "source": [
    "# Write a new line to text file\n",
    "\n",
    "with open('Example2.txt', 'a') as testwritefile:\n",
    "    testwritefile.write(\"This is line C/n\")\n",
    "    testwritefile.write(\"This is line D/n\")\n",
    "    testwritefile.write(\"This is line E/n\")"
   ]
  },
  {
   "cell_type": "markdown",
   "id": "43408fd5-65ac-43dc-a8d8-5f6f7ec9723e",
   "metadata": {},
   "source": [
    " You can verify the file has changed by running the following cell:\n"
   ]
  },
  {
   "cell_type": "code",
   "execution_count": 165,
   "id": "9a4e2ad5-bb82-47b1-8963-369d4fdc633b",
   "metadata": {},
   "outputs": [
    {
     "name": "stdout",
     "output_type": "stream",
     "text": [
      "Overwrite/nThis is line C/nThis is line D/nThis is line E/n\n"
     ]
    }
   ],
   "source": [
    "# Verify if the new line is in the text file\n",
    "\n",
    "with open('Example2.txt', 'r') as testwritefile:\n",
    "    print(testwritefile.read())"
   ]
  },
  {
   "cell_type": "markdown",
   "id": "9ecb2f3d-b278-4f41-914f-16c475aa24f2",
   "metadata": {},
   "source": [
    "<hr>\n",
    "<h3 id=\"add\">Additional modes</h3> \n"
   ]
  },
  {
   "cell_type": "markdown",
   "id": "6c634807-012a-420d-9b2f-0f6036dd7a1a",
   "metadata": {},
   "source": [
    "It's fairly inefficient to open the file in **a** or **w** and then reopen it in **r** to read any lines. Luckily we can access the file in the following modes:\n",
    "- **r+** : Reading and writing. Cannot truncate the file.\n",
    "- **w+** : Writing and reading. Truncates the file.\n",
    "- **a+** : Appending and Reading. Creates a new file, if none exists.\n",
    "You dont have to dwell on the specifics of each mode for this lab. \n"
   ]
  },
  {
   "cell_type": "markdown",
   "id": "126def8e-2052-4fd6-944b-a696c9f66d08",
   "metadata": {},
   "source": [
    "Let's try out the __a+__ mode:\n"
   ]
  },
  {
   "cell_type": "code",
   "execution_count": 166,
   "id": "8d75a57b-ac45-4b94-bfa1-c4e5f17bb5eb",
   "metadata": {},
   "outputs": [
    {
     "name": "stdout",
     "output_type": "stream",
     "text": [
      "\n"
     ]
    }
   ],
   "source": [
    "with open('Example2.txt', 'a+') as testwritefile:\n",
    "    testwritefile.write(\"This is line E/n\")\n",
    "    print(testwritefile.read())\n",
    "    #testwritefile.seek(0,0) # move 0 bytes from beginning.\n",
    "    #data = testwritefile.read()\n",
    "    #print(data)"
   ]
  },
  {
   "cell_type": "markdown",
   "id": "0055d75a-fc42-4a42-810e-0b6b165151d9",
   "metadata": {},
   "source": [
    "There were no errors but <code>read()</code> also did not output anything. This is because of our location in the file.\n"
   ]
  },
  {
   "cell_type": "markdown",
   "id": "59c2d251-c885-4962-b6c7-2a717a7d44ae",
   "metadata": {},
   "source": [
    "Most of the file methods we've looked at work in a certain location in the file. <code>.write() </code> writes at a certain location in the file. <code>.read()</code> reads at a certain location in the file and so on. You can think of this as moving your pointer around in the notepad to make changes at a specific location.\n"
   ]
  },
  {
   "cell_type": "markdown",
   "id": "a6dd63ee-1277-43d0-9144-647f03fd209d",
   "metadata": {},
   "source": [
    "Opening the file in **w** is akin to opening the .txt file, moving your cursor to the beginning of the text file, writing new text and deleting everything that follows.\n",
    "Whereas opening the file in **a** is similar to opening the .txt file, moving your cursor to the very end and then adding the new pieces of text. <br>\n",
    "It is often very useful to know where the 'cursor' is in a file and be able to control it. The following methods allow us to do precisely this -\n",
    "- <code>.tell()</code> - returns the current position in bytes\n",
    "- <code>.seek(offset,from)</code> - changes the position by 'offset' bytes with respect to 'from'. From can take the value of 0,1,2 corresponding to the beginning, relative to current position and end\n"
   ]
  },
  {
   "cell_type": "markdown",
   "id": "6dc1ec19-2b37-4bbe-8891-0c41e5eae9ac",
   "metadata": {},
   "source": [
    "Now lets revisit **a+**\n"
   ]
  },
  {
   "cell_type": "code",
   "execution_count": 167,
   "id": "9f472065-56a3-4861-942a-88123015b451",
   "metadata": {},
   "outputs": [
    {
     "name": "stdout",
     "output_type": "stream",
     "text": [
      "Initial Location: 75\n",
      "Read nothing\n",
      "/nNew Location : 0\n",
      "Overwrite/nThis is line C/nThis is line D/nThis is line E/nThis is line E/n\n",
      "Location after read: 75\n"
     ]
    }
   ],
   "source": [
    "with open('Example2.txt', 'a+') as testwritefile:\n",
    "    print(\"Initial Location: {}\".format(testwritefile.tell()))\n",
    "    \n",
    "    data = testwritefile.read()\n",
    "    if (not data):  #empty strings return false in python\n",
    "            print('Read nothing') \n",
    "    else: \n",
    "            print(testwritefile.read())\n",
    "            \n",
    "    testwritefile.seek(0,0) # move 0 bytes from beginning.\n",
    "    \n",
    "    print(\"/nNew Location : {}\".format(testwritefile.tell()))\n",
    "    data = testwritefile.read()\n",
    "    if (not data): \n",
    "            print('Read nothing') \n",
    "    else: \n",
    "            print(data)\n",
    "    \n",
    "    print(\"Location after read: {}\".format(testwritefile.tell()) )"
   ]
  },
  {
   "cell_type": "markdown",
   "id": "5b137f75-0018-4931-bfdf-366a3eff0bdf",
   "metadata": {},
   "source": [
    "Finally, a note on the difference between **w+** and **r+**. Both of these modes allow access to read and write methods; however, opening a file in **w+** overwrites it and deletes all pre-existing data. <br>\n"
   ]
  },
  {
   "cell_type": "code",
   "execution_count": 168,
   "id": "1b50fe20-53f6-4d87-86a5-2cc35541cdb8",
   "metadata": {},
   "outputs": [
    {
     "name": "stdout",
     "output_type": "stream",
     "text": [
      "Line 1/nLine 2/nLine 3/nLine 4/nfinished/nnThis is line E/nThis is line E/n\n"
     ]
    }
   ],
   "source": [
    "lines=[]\n",
    "\n",
    "    \n",
    "with open('Example2.txt', 'r+') as testwritefile:\n",
    "    testwritefile.seek(0,0) #write at beginning of file\n",
    "    for l in range(1,5):\n",
    "        lis=f\"Line {l}\" + \"/n\"\n",
    "        lines.append(lis)   \n",
    "        testwritefile.write(lis)\n",
    "    testwritefile.write(\"finished/n\")\n",
    "    testwritefile.seek(0,0)\n",
    "    print(testwritefile.read())\n"
   ]
  },
  {
   "cell_type": "markdown",
   "id": "06edaae8-b5ec-44de-8a28-de2187e71b31",
   "metadata": {},
   "source": [
    "To work with a file on existing data, use **r+** and **a+**. While using **r+**, it can be useful to add a <code>.truncate()</code> method at the end of your data. This will reduce the file to your data and delete everything that follows. <br>\n"
   ]
  },
  {
   "cell_type": "code",
   "execution_count": 169,
   "id": "78a086bb-fa32-4719-b1f1-79f71c404c08",
   "metadata": {},
   "outputs": [
    {
     "name": "stdout",
     "output_type": "stream",
     "text": [
      "Line 1/nLine 2/nLine 3/nLine 4/nfinished/n\n"
     ]
    }
   ],
   "source": [
    "with open('Example2.txt', 'r+') as testwritefile:\n",
    "    testwritefile.seek(0,0) #write at beginning of file\n",
    "   \n",
    "    testwritefile.write(\"Line 1\" + \"/n\")\n",
    "    testwritefile.write(\"Line 2\" + \"/n\")\n",
    "    testwritefile.write(\"Line 3\" + \"/n\")\n",
    "    testwritefile.write(\"Line 4\" + \"/n\")\n",
    "    testwritefile.write(\"finished/n\")\n",
    "    testwritefile.truncate()\n",
    "    testwritefile.seek(0,0)\n",
    "    print(testwritefile.read())\n",
    "    "
   ]
  },
  {
   "cell_type": "markdown",
   "id": "41037444-4043-4bac-97b6-a02df506415b",
   "metadata": {},
   "source": [
    "<hr>\n"
   ]
  },
  {
   "cell_type": "markdown",
   "id": "3d1bfc44-b4e1-45ef-9e1d-de392e8698b7",
   "metadata": {},
   "source": [
    "<h3 id=\"copy\">Copy a File</h3> \n"
   ]
  },
  {
   "cell_type": "markdown",
   "id": "58266ee2-3eff-4465-8466-08e5573df340",
   "metadata": {},
   "source": [
    "Let's copy the file **Example2.txt** to the file **Example3.txt**:\n"
   ]
  },
  {
   "cell_type": "code",
   "execution_count": 170,
   "id": "ac46d92b-b276-4969-a818-8fff39620c08",
   "metadata": {},
   "outputs": [],
   "source": [
    "# Copy file to another\n",
    "\n",
    "with open('Example2.txt','r') as readfile:\n",
    "    with open('Example3.txt','w') as writefile:\n",
    "          for line in readfile:\n",
    "                writefile.write(line)"
   ]
  },
  {
   "cell_type": "markdown",
   "id": "0ff3ce63-7716-4795-8502-f0b0af99bb1c",
   "metadata": {},
   "source": [
    "We can read the file to see if everything works:\n"
   ]
  },
  {
   "cell_type": "code",
   "execution_count": 171,
   "id": "07476add-305e-406e-952f-0ad201c0608a",
   "metadata": {},
   "outputs": [
    {
     "name": "stdout",
     "output_type": "stream",
     "text": [
      "Line 1/nLine 2/nLine 3/nLine 4/nfinished/n\n"
     ]
    }
   ],
   "source": [
    "# Verify if the copy is successfully executed\n",
    "\n",
    "with open('Example3.txt','r') as testwritefile:\n",
    "    print(testwritefile.read())"
   ]
  },
  {
   "cell_type": "markdown",
   "id": "fef01a45-5d25-460f-8686-88abf5ce657d",
   "metadata": {},
   "source": [
    " After reading files, we can also write data into files and save them in different file formats like **.txt, .csv, .xls (for excel files) etc**. You will come across these in further examples\n"
   ]
  },
  {
   "cell_type": "markdown",
   "id": "46a4ea4f-bdeb-4b50-a023-fb9e2d542308",
   "metadata": {},
   "source": [
    "**NOTE:** If you wish to open and view the `example3.txt` file, download this lab [here](https://cf-courses-data.s3.us.cloud-object-storage.appdomain.cloud/IBMDeveloperSkillsNetwork-PY0101EN-SkillsNetwork/labs/Module%204/PY0101EN-4-2-WriteFile.ipynb) and run it locally on your machine. Then go to the working directory to ensure the `example3.txt` file exists and contains the summary data that we wrote.\n"
   ]
  },
  {
   "cell_type": "code",
   "execution_count": null,
   "id": "3895d324-db68-4dbd-8507-bec1ceef427c",
   "metadata": {},
   "outputs": [],
   "source": []
  },
  {
   "cell_type": "code",
   "execution_count": 172,
   "id": "8dfa3c10-ea3c-4422-abfd-c7f056a97177",
   "metadata": {},
   "outputs": [],
   "source": [
    "# Notes end Here"
   ]
  },
  {
   "cell_type": "markdown",
   "id": "ebf950c3-795a-4ff8-8869-b2adb6d2504c",
   "metadata": {},
   "source": [
    "<h2 id='Pandas'> Reading ad writing with Panda</h2>"
   ]
  },
  {
   "cell_type": "markdown",
   "id": "09f53cbc-445a-4582-90ef-362b49592f33",
   "metadata": {},
   "source": [
    "Pandas: DataFrame and Series \n",
    "\n",
    "**Pandas** is a popular library for data analysis built on top of the Python programming language. Pandas generally provide two data structures for manipulating data, They are: \n",
    " \n",
    "* DataFrame\n",
    "* Series\n",
    "\n",
    "A **DataFrame** is a two-dimensional data structure, i.e., data is aligned in a tabular fashion in rows and columns.\n",
    "\n",
    "* A Pandas DataFrame will be created by loading the datasets from existing storage. \n",
    "* Storage can be SQL Database, CSV file, Excel file, etc. \n",
    "* It can also be created from the lists, dictionaries, and from a list of dictionaries.\n",
    "\n",
    "**Series** represents a one-dimensional array of indexed data.\n",
    "It has two main components :\n",
    "1. An array of actual data.\n",
    "2. An associated array of indexes or data labels.\n",
    "\n",
    "The index is used to access individual data values. You can also get a column of a dataframe as a **Series**. You can think of a Pandas series as a 1-D dataframe. \n"
   ]
  },
  {
   "cell_type": "code",
   "execution_count": 173,
   "id": "05d4853e-e455-42f0-8d0f-432d466e5058",
   "metadata": {},
   "outputs": [],
   "source": [
    "# let us import the Pandas Library\n",
    "import pandas as pd"
   ]
  },
  {
   "cell_type": "markdown",
   "id": "60624ba8-f8af-4c90-b55f-c3bac6c0302b",
   "metadata": {},
   "source": [
    "Once you’ve imported pandas, you can then use the functions built in it to create and analyze data.\n"
   ]
  },
  {
   "cell_type": "markdown",
   "id": "2cf6d5ba-dce7-42cb-b1e9-efc9e68c3bfb",
   "metadata": {},
   "source": [
    "**In this practice lab, we will learn how to create a DataFrame out of a dictionary.**\n"
   ]
  },
  {
   "cell_type": "markdown",
   "id": "1ff55df1-ce6d-4c74-8bc5-cfd459ca1386",
   "metadata": {},
   "source": [
    "Let us consider a dictionary 'x' with keys and values as shown below.\n",
    "\n",
    "We then create a dataframe from the dictionary using the function pd.DataFrame(dict)\n"
   ]
  },
  {
   "cell_type": "code",
   "execution_count": 174,
   "id": "05a83a5d-3663-4a14-98ff-075b1b4854cd",
   "metadata": {},
   "outputs": [
    {
     "data": {
      "text/html": [
       "<div>\n",
       "<style scoped>\n",
       "    .dataframe tbody tr th:only-of-type {\n",
       "        vertical-align: middle;\n",
       "    }\n",
       "\n",
       "    .dataframe tbody tr th {\n",
       "        vertical-align: top;\n",
       "    }\n",
       "\n",
       "    .dataframe thead th {\n",
       "        text-align: right;\n",
       "    }\n",
       "</style>\n",
       "<table border=\"1\" class=\"dataframe\">\n",
       "  <thead>\n",
       "    <tr style=\"text-align: right;\">\n",
       "      <th></th>\n",
       "      <th>Name</th>\n",
       "      <th>ID</th>\n",
       "      <th>Department</th>\n",
       "      <th>Salary</th>\n",
       "    </tr>\n",
       "  </thead>\n",
       "  <tbody>\n",
       "    <tr>\n",
       "      <th>0</th>\n",
       "      <td>Rose</td>\n",
       "      <td>1</td>\n",
       "      <td>Architect Group</td>\n",
       "      <td>100000</td>\n",
       "    </tr>\n",
       "    <tr>\n",
       "      <th>1</th>\n",
       "      <td>John</td>\n",
       "      <td>2</td>\n",
       "      <td>Software Group</td>\n",
       "      <td>80000</td>\n",
       "    </tr>\n",
       "    <tr>\n",
       "      <th>2</th>\n",
       "      <td>Jane</td>\n",
       "      <td>3</td>\n",
       "      <td>Design Team</td>\n",
       "      <td>50000</td>\n",
       "    </tr>\n",
       "    <tr>\n",
       "      <th>3</th>\n",
       "      <td>Mary</td>\n",
       "      <td>4</td>\n",
       "      <td>Infrastructure</td>\n",
       "      <td>60000</td>\n",
       "    </tr>\n",
       "  </tbody>\n",
       "</table>\n",
       "</div>"
      ],
      "text/plain": [
       "   Name  ID       Department  Salary\n",
       "0  Rose   1  Architect Group  100000\n",
       "1  John   2   Software Group   80000\n",
       "2  Jane   3      Design Team   50000\n",
       "3  Mary   4   Infrastructure   60000"
      ]
     },
     "execution_count": 174,
     "metadata": {},
     "output_type": "execute_result"
    }
   ],
   "source": [
    "#Define a dictionary 'x'\n",
    "\n",
    "x = {'Name': ['Rose','John', 'Jane', 'Mary'], 'ID': [1, 2, 3, 4], 'Department': ['Architect Group', 'Software Group', 'Design Team', 'Infrastructure'], \n",
    "      'Salary':[100000, 80000, 50000, 60000]}\n",
    "\n",
    "#casting the dictionary to a DataFrame\n",
    "df = pd.DataFrame(x)\n",
    "\n",
    "#display the result df\n",
    "df"
   ]
  },
  {
   "cell_type": "markdown",
   "id": "c04957b3-cdc7-4a4c-942e-33053a78cc46",
   "metadata": {},
   "source": [
    "We can see the direct correspondence between the table. The keys correspond to the column labels and the values or lists correspond to the rows.\n"
   ]
  },
  {
   "cell_type": "markdown",
   "id": "aa90b80e-af81-4f47-be56-d740ff1f1780",
   "metadata": {},
   "source": [
    "### Column Selection:\n",
    "\n",
    "To select a column in Pandas DataFrame, we can either access the columns by calling them by their columns name. \n",
    "\n",
    "Let's Retrieve the data present in the <code>ID</code> column.\n"
   ]
  },
  {
   "cell_type": "code",
   "execution_count": 175,
   "id": "00bca993-51d3-4265-982d-742def061957",
   "metadata": {},
   "outputs": [
    {
     "data": {
      "text/plain": [
       "0    Rose\n",
       "1    John\n",
       "2    Jane\n",
       "3    Mary\n",
       "Name: Name, dtype: object"
      ]
     },
     "execution_count": 175,
     "metadata": {},
     "output_type": "execute_result"
    }
   ],
   "source": [
    "#Retrieving the \"ID\" column and assigning it to a variable x\n",
    "#The effect on object is based on\n",
    "# the number of brackets\n",
    "x = df[['ID']]\n",
    "x\n",
    "y=df['Name']\n",
    "y"
   ]
  },
  {
   "cell_type": "markdown",
   "id": "87856af2-ea7b-4d37-99b2-b444704184f6",
   "metadata": {},
   "source": [
    "Let's use the <code>type()</code> function and check the type of the variable.\n"
   ]
  },
  {
   "cell_type": "code",
   "execution_count": 176,
   "id": "b234e8a2-7f16-44bd-ad1a-e4e802c9bb24",
   "metadata": {},
   "outputs": [
    {
     "name": "stdout",
     "output_type": "stream",
     "text": [
      "<class 'pandas.core.frame.DataFrame'>\n",
      "<class 'pandas.core.series.Series'>\n"
     ]
    }
   ],
   "source": [
    "#check the type of x\n",
    "print(type(x))\n",
    "print(type(y))"
   ]
  },
  {
   "cell_type": "markdown",
   "id": "c4bcfe20-a690-48ba-8466-1dea8421bf49",
   "metadata": {},
   "source": [
    "The output shows us that the type of the variable is a DataFrame object.\n"
   ]
  },
  {
   "cell_type": "markdown",
   "id": "c904b167-981d-473c-af50-72adc7136af9",
   "metadata": {},
   "source": [
    "### Access to multiple columns\n",
    "\n",
    "Let us retrieve the data for <code>Department</code>, <code>Salary</code> and <code>ID</code> columns\n"
   ]
  },
  {
   "cell_type": "code",
   "execution_count": 177,
   "id": "4abb2a00-6c77-4066-8866-0e4d0839adeb",
   "metadata": {
    "scrolled": true
   },
   "outputs": [
    {
     "data": {
      "text/html": [
       "<div>\n",
       "<style scoped>\n",
       "    .dataframe tbody tr th:only-of-type {\n",
       "        vertical-align: middle;\n",
       "    }\n",
       "\n",
       "    .dataframe tbody tr th {\n",
       "        vertical-align: top;\n",
       "    }\n",
       "\n",
       "    .dataframe thead th {\n",
       "        text-align: right;\n",
       "    }\n",
       "</style>\n",
       "<table border=\"1\" class=\"dataframe\">\n",
       "  <thead>\n",
       "    <tr style=\"text-align: right;\">\n",
       "      <th></th>\n",
       "      <th>Department</th>\n",
       "      <th>Salary</th>\n",
       "      <th>ID</th>\n",
       "    </tr>\n",
       "  </thead>\n",
       "  <tbody>\n",
       "    <tr>\n",
       "      <th>0</th>\n",
       "      <td>Architect Group</td>\n",
       "      <td>100000</td>\n",
       "      <td>1</td>\n",
       "    </tr>\n",
       "    <tr>\n",
       "      <th>1</th>\n",
       "      <td>Software Group</td>\n",
       "      <td>80000</td>\n",
       "      <td>2</td>\n",
       "    </tr>\n",
       "    <tr>\n",
       "      <th>2</th>\n",
       "      <td>Design Team</td>\n",
       "      <td>50000</td>\n",
       "      <td>3</td>\n",
       "    </tr>\n",
       "    <tr>\n",
       "      <th>3</th>\n",
       "      <td>Infrastructure</td>\n",
       "      <td>60000</td>\n",
       "      <td>4</td>\n",
       "    </tr>\n",
       "  </tbody>\n",
       "</table>\n",
       "</div>"
      ],
      "text/plain": [
       "        Department  Salary  ID\n",
       "0  Architect Group  100000   1\n",
       "1   Software Group   80000   2\n",
       "2      Design Team   50000   3\n",
       "3   Infrastructure   60000   4"
      ]
     },
     "execution_count": 177,
     "metadata": {},
     "output_type": "execute_result"
    }
   ],
   "source": [
    "#Retrieving the Department, Salary and ID columns and assigning it to a variable z\n",
    "\n",
    "z = df[['Department','Salary','ID']]\n",
    "z"
   ]
  },
  {
   "cell_type": "markdown",
   "id": "1d0db714-d273-4ad8-be10-467ed771aff5",
   "metadata": {},
   "source": [
    "<h2 id='i-loc'> loc() and iloc() </h2>\n",
    "\n",
    "<code>loc()</code> is a label-based data selecting method which means that we have to pass the name of the row or column that we want to select. This method includes the last element of the range passed in it.\n",
    "\n",
    "Simple syntax for your understanding: \n",
    "\n",
    " - loc[row_label, column_label]\n",
    "\n",
    "<code>iloc()</code> is an indexed-based selecting method which means that we have to pass an integer index in the method to select a specific row/column. This method does not include the last element of the range passed in it.\n",
    "\n",
    "Simple syntax for your understanding: \n",
    "   \n",
    " - iloc[row_index (range], column_index (range]]\n"
   ]
  },
  {
   "cell_type": "code",
   "execution_count": 178,
   "id": "1110fdae-ea80-47a1-8025-dd61d7a1eec3",
   "metadata": {},
   "outputs": [
    {
     "data": {
      "text/plain": [
       "'Rose'"
      ]
     },
     "execution_count": 178,
     "metadata": {},
     "output_type": "execute_result"
    }
   ],
   "source": [
    "# Access the value on the first row and the first column\n",
    "\n",
    "df.iloc[0, 0]"
   ]
  },
  {
   "cell_type": "code",
   "execution_count": 179,
   "id": "fcdc1697-ad21-4a29-9334-fa7d6a0fa1ea",
   "metadata": {},
   "outputs": [
    {
     "data": {
      "text/html": [
       "<div>\n",
       "<style scoped>\n",
       "    .dataframe tbody tr th:only-of-type {\n",
       "        vertical-align: middle;\n",
       "    }\n",
       "\n",
       "    .dataframe tbody tr th {\n",
       "        vertical-align: top;\n",
       "    }\n",
       "\n",
       "    .dataframe thead th {\n",
       "        text-align: right;\n",
       "    }\n",
       "</style>\n",
       "<table border=\"1\" class=\"dataframe\">\n",
       "  <thead>\n",
       "    <tr style=\"text-align: right;\">\n",
       "      <th></th>\n",
       "      <th>Name</th>\n",
       "      <th>ID</th>\n",
       "    </tr>\n",
       "  </thead>\n",
       "  <tbody>\n",
       "    <tr>\n",
       "      <th>0</th>\n",
       "      <td>Rose</td>\n",
       "      <td>1</td>\n",
       "    </tr>\n",
       "    <tr>\n",
       "      <th>1</th>\n",
       "      <td>John</td>\n",
       "      <td>2</td>\n",
       "    </tr>\n",
       "    <tr>\n",
       "      <th>2</th>\n",
       "      <td>Jane</td>\n",
       "      <td>3</td>\n",
       "    </tr>\n",
       "  </tbody>\n",
       "</table>\n",
       "</div>"
      ],
      "text/plain": [
       "   Name  ID\n",
       "0  Rose   1\n",
       "1  John   2\n",
       "2  Jane   3"
      ]
     },
     "execution_count": 179,
     "metadata": {},
     "output_type": "execute_result"
    }
   ],
   "source": [
    "# Access the value on the first row and the third column\n",
    "\n",
    "df.iloc[0:3,0:2]"
   ]
  },
  {
   "cell_type": "code",
   "execution_count": 180,
   "id": "a1ba61c9-4c59-46ca-9024-2560609e207a",
   "metadata": {},
   "outputs": [
    {
     "data": {
      "text/plain": [
       "100000"
      ]
     },
     "execution_count": 180,
     "metadata": {},
     "output_type": "execute_result"
    }
   ],
   "source": [
    "# Access the column using the name\n",
    "df.loc[0, 'Salary']"
   ]
  },
  {
   "cell_type": "markdown",
   "id": "bff1e314-6ef6-495b-9b31-ab99d04147d5",
   "metadata": {},
   "source": [
    "### Slicing dataframes\n",
    "\n",
    "Slicing uses the [] operator to select a set of rows and/or columns from a DataFrame.\n",
    "\n",
    "To slice out a set of rows, you use this syntax: data[start:stop], \n",
    "\n",
    "here the start represents the index from where to consider, and stop represents the index one step BEYOND the row you want to select. You can perform slicing using both the index and the name of the column.\n",
    "\n",
    "> NOTE: When slicing in pandas, the start bound is included in the output.\n",
    "\n",
    "So if you want to select rows 0, 1, and 2 your code would look like this: df.iloc[0:3].\n",
    "\n",
    "It means you are telling Python to start at index 0 and select rows 0, 1, 2 up to but not including 3.\n",
    "\n",
    "> NOTE: Labels must be found in the DataFrame or you will get a KeyError.\n",
    "\n",
    "Indexing by labels(i.e. using <code>loc()</code>) differs from indexing by integers (i.e. using <code>iloc()</code>). With <code>loc()</code>, both the start bound and the stop bound are inclusive. When using <code>loc()</code>, integers can be used, but the integers refer to the index label and not the position. \n",
    "\n",
    "For example, using <code>loc()</code> and select 1:4 will get a different result than using <code>iloc()</code> to select rows 1:4.\n",
    "\n",
    "<h4 id=\"data\">We can also select a specific data value using a row and column location within the DataFrame and iloc indexing.\n"
   ]
  },
  {
   "cell_type": "code",
   "execution_count": 181,
   "id": "48e25b11-363f-4753-9614-cee845cfd08e",
   "metadata": {},
   "outputs": [
    {
     "data": {
      "text/html": [
       "<div>\n",
       "<style scoped>\n",
       "    .dataframe tbody tr th:only-of-type {\n",
       "        vertical-align: middle;\n",
       "    }\n",
       "\n",
       "    .dataframe tbody tr th {\n",
       "        vertical-align: top;\n",
       "    }\n",
       "\n",
       "    .dataframe thead th {\n",
       "        text-align: right;\n",
       "    }\n",
       "</style>\n",
       "<table border=\"1\" class=\"dataframe\">\n",
       "  <thead>\n",
       "    <tr style=\"text-align: right;\">\n",
       "      <th></th>\n",
       "      <th>Name</th>\n",
       "      <th>ID</th>\n",
       "      <th>Department</th>\n",
       "    </tr>\n",
       "  </thead>\n",
       "  <tbody>\n",
       "    <tr>\n",
       "      <th>0</th>\n",
       "      <td>Rose</td>\n",
       "      <td>1</td>\n",
       "      <td>Architect Group</td>\n",
       "    </tr>\n",
       "    <tr>\n",
       "      <th>1</th>\n",
       "      <td>John</td>\n",
       "      <td>2</td>\n",
       "      <td>Software Group</td>\n",
       "    </tr>\n",
       "    <tr>\n",
       "      <th>2</th>\n",
       "      <td>Jane</td>\n",
       "      <td>3</td>\n",
       "      <td>Design Team</td>\n",
       "    </tr>\n",
       "  </tbody>\n",
       "</table>\n",
       "</div>"
      ],
      "text/plain": [
       "   Name  ID       Department\n",
       "0  Rose   1  Architect Group\n",
       "1  John   2   Software Group\n",
       "2  Jane   3      Design Team"
      ]
     },
     "execution_count": 181,
     "metadata": {},
     "output_type": "execute_result"
    }
   ],
   "source": [
    "#let us do the slicing using loc() function on old dataframe df where index column is having labels as 0,1,2\n",
    "df.loc[0:2,'Name':'Department']"
   ]
  },
  {
   "cell_type": "code",
   "execution_count": 182,
   "id": "134c6339-b86e-4bf3-af65-f58f273a3f5b",
   "metadata": {},
   "outputs": [
    {
     "data": {
      "text/html": [
       "<div>\n",
       "<style scoped>\n",
       "    .dataframe tbody tr th:only-of-type {\n",
       "        vertical-align: middle;\n",
       "    }\n",
       "\n",
       "    .dataframe tbody tr th {\n",
       "        vertical-align: top;\n",
       "    }\n",
       "\n",
       "    .dataframe thead th {\n",
       "        text-align: right;\n",
       "    }\n",
       "</style>\n",
       "<table border=\"1\" class=\"dataframe\">\n",
       "  <thead>\n",
       "    <tr style=\"text-align: right;\">\n",
       "      <th></th>\n",
       "      <th>ID</th>\n",
       "      <th>Department</th>\n",
       "    </tr>\n",
       "    <tr>\n",
       "      <th>Name</th>\n",
       "      <th></th>\n",
       "      <th></th>\n",
       "    </tr>\n",
       "  </thead>\n",
       "  <tbody>\n",
       "    <tr>\n",
       "      <th>Rose</th>\n",
       "      <td>1</td>\n",
       "      <td>Architect Group</td>\n",
       "    </tr>\n",
       "    <tr>\n",
       "      <th>John</th>\n",
       "      <td>2</td>\n",
       "      <td>Software Group</td>\n",
       "    </tr>\n",
       "    <tr>\n",
       "      <th>Jane</th>\n",
       "      <td>3</td>\n",
       "      <td>Design Team</td>\n",
       "    </tr>\n",
       "  </tbody>\n",
       "</table>\n",
       "</div>"
      ],
      "text/plain": [
       "      ID       Department\n",
       "Name                     \n",
       "Rose   1  Architect Group\n",
       "John   2   Software Group\n",
       "Jane   3      Design Team"
      ]
     },
     "execution_count": 182,
     "metadata": {},
     "output_type": "execute_result"
    }
   ],
   "source": [
    "#let us do the slicing using loc() function on new dataframe df2 where index column is Name having labels: Rose, John and Jane\n",
    "df2=df;\n",
    "df2=df2.set_index(\"Name\")\n",
    "df2.loc['Rose':'Jane', 'ID':'Department']"
   ]
  },
  {
   "cell_type": "markdown",
   "id": "3e9dd685-97d0-497b-9d73-0d4cbd8b76e6",
   "metadata": {},
   "source": [
    "## Numpy\n"
   ]
  },
  {
   "cell_type": "markdown",
   "id": "a734624b-d0e2-4672-9c09-69175d697b68",
   "metadata": {},
   "source": [
    "NumPy is a Python library used for working with arrays, linear algebra, fourier transform, and matrices. NumPy stands for Numerical Python and it is an open source project. The array object in NumPy is called **ndarray**, it provides a lot of supporting functions that make working with ndarray very easy.\n",
    "\n",
    "Arrays are very frequently used in data science, where speed and resources are very important.\n",
    "\n",
    "NumPy is usually imported under the np alias.\n",
    "\n",
    "It's usually fixed in size and each element is of the same type. We can cast a list to a numpy array by first importing `numpy`:\n"
   ]
  },
  {
   "cell_type": "code",
   "execution_count": 183,
   "id": "4e45bb0f-ddd8-4f8f-a153-3d2bee655ee8",
   "metadata": {},
   "outputs": [],
   "source": [
    "# import numpy library\n",
    "\n",
    "import numpy as np "
   ]
  },
  {
   "cell_type": "markdown",
   "id": "813afae0-7b5e-45aa-8c48-497d3880a31c",
   "metadata": {},
   "source": [
    "### Assign value\n"
   ]
  },
  {
   "cell_type": "markdown",
   "id": "6fc220fe-d807-4ece-966c-9735abd88d9d",
   "metadata": {},
   "source": [
    "We then cast the list as follows:\n"
   ]
  },
  {
   "cell_type": "code",
   "execution_count": 184,
   "id": "4a1fa29c-29e6-486e-adfb-a1cf1a3624e3",
   "metadata": {},
   "outputs": [
    {
     "data": {
      "text/plain": [
       "array([0, 1, 2, 3, 4])"
      ]
     },
     "execution_count": 184,
     "metadata": {},
     "output_type": "execute_result"
    }
   ],
   "source": [
    "# Create a numpy array\n",
    "\n",
    "a = np.array([0, 1, 2, 3, 4])\n",
    "a"
   ]
  },
  {
   "cell_type": "code",
   "execution_count": 185,
   "id": "a85efcd2-8161-4e1e-87ef-9ae384b50566",
   "metadata": {},
   "outputs": [
    {
     "data": {
      "text/plain": [
       "array([100,   1,   2,   3,   4])"
      ]
     },
     "execution_count": 185,
     "metadata": {},
     "output_type": "execute_result"
    }
   ],
   "source": [
    "# Assign the first element to 100\n",
    "c=a\n",
    "c[0] = 100\n",
    "c"
   ]
  },
  {
   "cell_type": "markdown",
   "id": "cb6d43e0-3f78-4631-91f1-9190b0a00a87",
   "metadata": {},
   "source": [
    "Each element is of the same type, in this case integers:\n"
   ]
  },
  {
   "cell_type": "markdown",
   "id": "c9981f2e-7445-4317-91ea-5cd9555e3d90",
   "metadata": {},
   "source": [
    "<img src=\"https://cf-courses-data.s3.us.cloud-object-storage.appdomain.cloud/IBMDeveloperSkillsNetwork-PY0101EN-SkillsNetwork/labs/Module%205/images/NumOneNp.png\" width=\"500\">\n"
   ]
  },
  {
   "cell_type": "code",
   "execution_count": 186,
   "id": "2526fb66-4fb0-44da-81dc-cf946b70e446",
   "metadata": {},
   "outputs": [
    {
     "name": "stdout",
     "output_type": "stream",
     "text": [
      "1.26.4\n",
      "<class 'numpy.ndarray'>\n"
     ]
    },
    {
     "data": {
      "text/plain": [
       "dtype('int32')"
      ]
     },
     "execution_count": 186,
     "metadata": {},
     "output_type": "execute_result"
    }
   ],
   "source": [
    "print(np.__version__)\n",
    "# Check the type of the array\n",
    "print(type(a))\n",
    "# Check the type of the values stored in numpy array\n",
    "a.dtype"
   ]
  },
  {
   "cell_type": "code",
   "execution_count": 187,
   "id": "b1d0884b-92f8-410f-be03-289f487d8873",
   "metadata": {},
   "outputs": [],
   "source": [
    "a = np.array([10, 2, 30, 40,50])\n",
    "\n",
    "# Enter your code here\n",
    "a[1]=20"
   ]
  },
  {
   "cell_type": "markdown",
   "id": "661022f8-bd00-4528-b2d5-79b7607cd58b",
   "metadata": {},
   "source": [
    "### Slicing\n",
    "\n",
    "Like lists, we can slice the numpy array. Slicing in python means taking the elements from the given index to another given index.\n",
    "\n",
    "We pass slice like this: [start:end].The element at end index is not being included in the output.\n",
    "\n",
    "We can select the elements from 1 to 3 and assign it to a new numpy array <code>d</code> as follows:\n"
   ]
  },
  {
   "cell_type": "code",
   "execution_count": 188,
   "id": "b95c36ac-2ba9-40ad-a193-f429c0488dab",
   "metadata": {},
   "outputs": [
    {
     "data": {
      "text/plain": [
       "array([100,   1,   2, 300, 400])"
      ]
     },
     "execution_count": 188,
     "metadata": {},
     "output_type": "execute_result"
    }
   ],
   "source": [
    "\n",
    "c[3:5] = 300, 400\n",
    "c"
   ]
  },
  {
   "cell_type": "markdown",
   "id": "e1d0f203-d30e-41b6-a23a-4615ca2b5cd3",
   "metadata": {},
   "source": [
    "We can also define the steps in slicing, like this: [start:end:step].\n"
   ]
  },
  {
   "cell_type": "code",
   "execution_count": 189,
   "id": "1c8d3fcf-b51f-4fe2-8f6c-b45dc857e675",
   "metadata": {},
   "outputs": [
    {
     "name": "stdout",
     "output_type": "stream",
     "text": [
      "[2 4]\n"
     ]
    }
   ],
   "source": [
    "arr = np.array([1, 2, 3, 4, 5, 6, 7])\n",
    "\n",
    "print(arr[1:5:2])"
   ]
  },
  {
   "cell_type": "code",
   "execution_count": 190,
   "id": "62912123-1946-4ed7-8a09-25513e25cee8",
   "metadata": {},
   "outputs": [
    {
     "name": "stdout",
     "output_type": "stream",
     "text": [
      "[1 2 3 4]\n"
     ]
    }
   ],
   "source": [
    "# If we don't pass start its considered 0\n",
    "print(arr[:4])"
   ]
  },
  {
   "cell_type": "code",
   "execution_count": 191,
   "id": "0622b3ff-a878-474f-a1f5-6b2375572f93",
   "metadata": {},
   "outputs": [
    {
     "name": "stdout",
     "output_type": "stream",
     "text": [
      "[5 6 7]\n"
     ]
    }
   ],
   "source": [
    "#If we don't pass end it considers till the length of array.\n",
    "print(arr[4:])"
   ]
  },
  {
   "cell_type": "code",
   "execution_count": 192,
   "id": "5540c8d9-2031-46f7-bcb9-9e29b56fd2e1",
   "metadata": {},
   "outputs": [
    {
     "name": "stdout",
     "output_type": "stream",
     "text": [
      "[2 3 4 5]\n"
     ]
    }
   ],
   "source": [
    "# If we don't pass step its considered 1\n",
    "print(arr[1:5:])"
   ]
  },
  {
   "cell_type": "markdown",
   "id": "8e8c31eb-4389-44bd-bb25-0cb6ebe19a25",
   "metadata": {},
   "source": [
    "### Assign Value with List\n"
   ]
  },
  {
   "cell_type": "code",
   "execution_count": 193,
   "id": "6bd6ee35-e237-42c2-87a2-b3409bb0eecd",
   "metadata": {},
   "outputs": [
    {
     "data": {
      "text/plain": [
       "array([100000,      1, 100000, 100000, 100000])"
      ]
     },
     "execution_count": 193,
     "metadata": {},
     "output_type": "execute_result"
    }
   ],
   "source": [
    "#  Create the index list\n",
    "select = [0, 2, 3, 4]\n",
    "select\n",
    "\n",
    "d = c[select]\n",
    "d\n",
    " #Assign the specified elements to new value\n",
    "\n",
    "c[select] = 100000\n",
    "c"
   ]
  },
  {
   "cell_type": "code",
   "execution_count": 194,
   "id": "b8a89d5e-3cd7-4765-abcf-d34242a9b68e",
   "metadata": {},
   "outputs": [
    {
     "name": "stdout",
     "output_type": "stream",
     "text": [
      "[5, 1]\n"
     ]
    }
   ],
   "source": [
    "print([a.size, a.ndim])"
   ]
  },
  {
   "cell_type": "markdown",
   "id": "21ac6f00-d636-4bfd-b9c2-9e0c300a2e54",
   "metadata": {},
   "source": [
    "### Numpy Statistical Functions\n"
   ]
  },
  {
   "cell_type": "code",
   "execution_count": 195,
   "id": "eab0721a-c95c-4718-9616-f011a775bea6",
   "metadata": {},
   "outputs": [
    {
     "data": {
      "text/plain": [
       "30.0"
      ]
     },
     "execution_count": 195,
     "metadata": {},
     "output_type": "execute_result"
    }
   ],
   "source": [
    "# Get the mean of numpy array\n",
    "\n",
    "mean = a.mean()\n",
    "mean"
   ]
  },
  {
   "cell_type": "code",
   "execution_count": 196,
   "id": "5b5cf6b1-955d-43a3-af63-8b836d89f06b",
   "metadata": {},
   "outputs": [
    {
     "data": {
      "text/plain": [
       "14.142135623730951"
      ]
     },
     "execution_count": 196,
     "metadata": {},
     "output_type": "execute_result"
    }
   ],
   "source": [
    "# Get the standard deviation of numpy array\n",
    "\n",
    "standard_deviation=a.std()\n",
    "standard_deviation"
   ]
  },
  {
   "cell_type": "code",
   "execution_count": 197,
   "id": "bf7d3905-cc95-4742-a45f-f47bb278a7cb",
   "metadata": {},
   "outputs": [
    {
     "name": "stdout",
     "output_type": "stream",
     "text": [
      "[10, 50]\n"
     ]
    }
   ],
   "source": [
    "\n",
    "max_a = a.max()\n",
    "max_a\n",
    "\n",
    "min_a = a.min()\n",
    "\n",
    "print([min_a,max_a])"
   ]
  },
  {
   "cell_type": "markdown",
   "id": "2b1e50d6-f007-40c4-aec2-cff7a0b779d0",
   "metadata": {},
   "source": [
    "### Numpy Array Operations\n",
    "\n",
    "You could use arithmetic operators directly between NumPy arrays\n"
   ]
  },
  {
   "cell_type": "markdown",
   "id": "b18f2251-ce54-4f4e-a785-445b6ffc3be0",
   "metadata": {},
   "source": [
    "#### Addition"
   ]
  },
  {
   "cell_type": "code",
   "execution_count": 198,
   "id": "5f18476f-c4db-41fa-82d4-5cab5289b27e",
   "metadata": {},
   "outputs": [
    {
     "name": "stdout",
     "output_type": "stream",
     "text": [
      "[array([1, 0]), array([0, 1]), array([1, 1])]\n"
     ]
    }
   ],
   "source": [
    "u = np.array([1, 0])\n",
    "u\n",
    "v = np.array([0, 1])\n",
    "v\n",
    "z = np.add(u, v) # == z=u+v\n",
    "z\n",
    "print([u,v,z])"
   ]
  },
  {
   "cell_type": "code",
   "execution_count": 199,
   "id": "141d5e73-91b3-41b5-b3ef-b7ff42549d50",
   "metadata": {},
   "outputs": [],
   "source": [
    "# Plotting addition\n",
    "\n",
    "\n",
    "import time \n",
    "import sys\n",
    "import numpy as np \n",
    "\n",
    "import matplotlib.pyplot as plt\n",
    "\n",
    "\n",
    "def Plotvec1(u, z, v):\n",
    "    fh=plt.figure  \n",
    "    ax = plt.axes() # to generate the full window axes\n",
    "    ax.arrow(0, 0, *u, head_width=0.05, color='r', head_length=0.1)# Add an arrow to the  U Axes with arrow head width 0.05, color red and arrow head length 0.1\n",
    "    plt.text(*(u + 0.1), 'u')#Adds the text u to the Axes \n",
    "    \n",
    "    ax.arrow(0, 0, *v, head_width=0.05, color='b', head_length=0.1)# Add an arrow to the  v Axes with arrow head width 0.05, color red and arrow head length 0.1\n",
    "    plt.text(*(v + 0.1), 'v')#Adds the text v to the Axes \n",
    "    \n",
    "    ax.arrow(0, 0, *z, head_width=0.05, head_length=0.1)\n",
    "    plt.text(*(z + 0.1), 'z')#Adds the text z to the Axes \n",
    "    plt.ylim(-2, 2)#set the ylim to bottom(-2), top(2)\n",
    "    plt.xlim(-2, 2)#set the xlim to left(-2), right(2)\n",
    "    plt.show(fh)\n",
    "\n"
   ]
  },
  {
   "cell_type": "code",
   "execution_count": 200,
   "id": "d6c414ea-7bdc-4d1d-b80a-60143b35f58e",
   "metadata": {},
   "outputs": [
    {
     "data": {
      "image/png": "[encoded data removed]",
      "text/plain": [
       "<Figure size 640x480 with 1 Axes>"
      ]
     },
     "metadata": {},
     "output_type": "display_data"
    }
   ],
   "source": [
    "\n",
    "Plotvec1(u, z, v)"
   ]
  },
  {
   "cell_type": "markdown",
   "id": "527a86ea-c73a-4705-8f8e-642845c47675",
   "metadata": {},
   "source": [
    "#### Multiplication"
   ]
  },
  {
   "cell_type": "code",
   "execution_count": 201,
   "id": "e68175ad-3cc6-4ae1-874d-4bf330a2cc52",
   "metadata": {},
   "outputs": [
    {
     "name": "stdout",
     "output_type": "stream",
     "text": [
      "[100000      1 100000 100000 100000]\n",
      "[200 231 264 299 336 375]\n",
      "[200 231 264 299 336 375]\n"
     ]
    },
    {
     "data": {
      "text/plain": [
       "array([200, 231, 264, 299, 336, 375])"
      ]
     },
     "execution_count": 201,
     "metadata": {},
     "output_type": "execute_result"
    }
   ],
   "source": [
    "arr1 = np.array([10, 11, 12, 13, 14, 15])\n",
    "arr2 = np.array([20, 21, 22, 23, 24, 25])\n",
    "print(c)\n",
    "z = np.multiply(arr1, arr2)\n",
    "print(z)\n",
    "z = arr1*arr2\n",
    "print(z)\n",
    "z"
   ]
  },
  {
   "cell_type": "markdown",
   "id": "69865cf7-e1a9-40af-b3eb-b3278b3eb633",
   "metadata": {},
   "source": [
    "#### Division"
   ]
  },
  {
   "cell_type": "code",
   "execution_count": 202,
   "id": "d48cb1ca-5363-4321-a2ba-cb6613e29603",
   "metadata": {},
   "outputs": [
    {
     "name": "stdout",
     "output_type": "stream",
     "text": [
      "[0.5        0.52380952 0.54545455 0.56521739 0.58333333 0.6       ]\n",
      "[0.5        0.52380952 0.54545455 0.56521739 0.58333333 0.6       ]\n"
     ]
    }
   ],
   "source": [
    "a = arr1\n",
    "a\n",
    "b = arr2\n",
    "b\n",
    "c = np.divide(arr1, arr2)\n",
    "print(c)\n",
    "c = a/b\n",
    "print(c)"
   ]
  },
  {
   "cell_type": "markdown",
   "id": "338fd190-a95d-4225-a874-86d11ca43666",
   "metadata": {},
   "source": [
    "#### Dot product"
   ]
  },
  {
   "cell_type": "code",
   "execution_count": 203,
   "id": "cb1cfe45-d837-4665-9bb3-2686e2b7523d",
   "metadata": {},
   "outputs": [
    {
     "data": {
      "text/plain": [
       "1705"
      ]
     },
     "execution_count": 203,
     "metadata": {},
     "output_type": "execute_result"
    }
   ],
   "source": [
    "np.dot(arr1,arr2)"
   ]
  },
  {
   "cell_type": "code",
   "execution_count": 204,
   "id": "5c2e0175-3296-4096-83b1-343e313fe346",
   "metadata": {},
   "outputs": [],
   "source": [
    "# Import the libraries\n",
    "\n",
    "import time \n",
    "import sys\n",
    "import numpy as np \n",
    "\n",
    "import matplotlib.pyplot as plt\n",
    "\n",
    "\n",
    "def Plotvec2(a,b):\n",
    "    fx = plt.figure()\n",
    "    ax = plt.axes()# to generate the full window axes\n",
    "    ax.arrow(0, 0, *a, head_width=0.05, color ='r', head_length=0.1)#Add an arrow to the  a Axes with arrow head width 0.05, color red and arrow head length 0.1\n",
    "    plt.text(*(a + 0.1), 'a')\n",
    "    ax.arrow(0, 0, *b, head_width=0.05, color ='b', head_length=0.1)#Add an arrow to the  b Axes with arrow head width 0.05, color blue and arrow head length 0.1\n",
    "    plt.text(*(b + 0.1), 'b')\n",
    "    plt.ylim(-2, 2)#set the ylim to bottom(-2), top(2)\n",
    "    plt.xlim(-2, 2)#set the xlim to left(-2), right(2)\n",
    "    plt.show(fx)\n",
    "    \n",
    "    \n"
   ]
  },
  {
   "cell_type": "code",
   "execution_count": 205,
   "id": "d50ae89d-d8b7-4c64-b419-4677cf3b6eee",
   "metadata": {},
   "outputs": [
    {
     "data": {
      "image/png": "[encoded data removed]",
      "text/plain": [
       "<Figure size 640x480 with 1 Axes>"
      ]
     },
     "metadata": {},
     "output_type": "display_data"
    },
    {
     "name": "stdout",
     "output_type": "stream",
     "text": [
      "a-b dot product is:  0\n"
     ]
    }
   ],
   "source": [
    "# Write your code below and press Shift+Enter to execute\n",
    "a=np.array([-1, 1])\n",
    "b=np.array([1, 1])\n",
    "Plotvec2(a,b)\n",
    "dab=np.dot(a,b)\n",
    "print('a-b dot product is: ',dab)"
   ]
  },
  {
   "cell_type": "markdown",
   "id": "37d292c3-82df-423c-b59b-826e43abaa33",
   "metadata": {},
   "source": [
    "#### Adding Constant to a Numpy Array\n"
   ]
  },
  {
   "cell_type": "markdown",
   "id": "649a20a1-51fe-46c3-852b-eac5614ff430",
   "metadata": {},
   "source": [
    "Consider the following array:\n"
   ]
  },
  {
   "cell_type": "code",
   "execution_count": 206,
   "id": "3e7caf8b-5d4c-4633-bc40-61a4c9eaaf87",
   "metadata": {},
   "outputs": [
    {
     "name": "stdout",
     "output_type": "stream",
     "text": [
      "[ 1  2  3 -1] [2 3 4 0]\n"
     ]
    }
   ],
   "source": [
    "# Create a constant to numpy array\n",
    "\n",
    "u = np.array([1, 2, 3, -1]) \n",
    "u\n",
    "y=u + 1\n",
    "print(u,y)"
   ]
  },
  {
   "cell_type": "markdown",
   "id": "da9bbcfd-cd6c-45e6-8976-6cf7b437a373",
   "metadata": {},
   "source": [
    "### Mathematical Functions\n"
   ]
  },
  {
   "cell_type": "markdown",
   "id": "f516c354-c840-4bf1-8a69-3ebf1f78d3b6",
   "metadata": {},
   "source": [
    "We can access the value of <code>pi</code> in numpy as follows :\n"
   ]
  },
  {
   "cell_type": "code",
   "execution_count": 207,
   "id": "f98cf2e0-a7af-428c-8bb3-0602f917df65",
   "metadata": {},
   "outputs": [
    {
     "data": {
      "text/plain": [
       "array([0.0000000e+00, 1.0000000e+00, 1.2246468e-16])"
      ]
     },
     "execution_count": 207,
     "metadata": {},
     "output_type": "execute_result"
    }
   ],
   "source": [
    "# The value of pi\n",
    "\n",
    "np.pi\n",
    "# Create the numpy array in radians\n",
    "\n",
    "x = np.array([0, np.pi/2 , np.pi])\n",
    "# Calculate the sin of each elements\n",
    "\n",
    "y = np.sin(x)\n",
    "y"
   ]
  },
  {
   "cell_type": "markdown",
   "id": "5273cc06-d4a5-43e9-a3e2-bb88a20bd78b",
   "metadata": {},
   "source": [
    "### Linspace\n"
   ]
  },
  {
   "cell_type": "markdown",
   "id": "4143ef8c-47c8-4c1d-9ef4-b1375e818470",
   "metadata": {},
   "source": [
    "A useful function for plotting mathematical functions is <code>linspace</code>.   Linspace returns evenly spaced numbers over a specified interval. \n",
    "\n",
    " **numpy.linspace(start, stop, num = int value)**\n",
    " \n",
    "start  :  start of interval range\n",
    "\n",
    "stop   :  end of interval range\n",
    "\n",
    "num    :  Number of samples to generate.\n"
   ]
  },
  {
   "cell_type": "code",
   "execution_count": 208,
   "id": "9e1f2830-908c-4117-8921-329ade82ca9f",
   "metadata": {},
   "outputs": [
    {
     "data": {
      "image/png": "[encoded data removed]",
      "text/plain": [
       "<Figure size 640x480 with 1 Axes>"
      ]
     },
     "metadata": {},
     "output_type": "display_data"
    }
   ],
   "source": [
    "# Makeup a numpy array within [-2, 2] and 5 elements\n",
    "np.linspace(-2, 2, num=5)\n",
    "\n",
    "# Make a numpy array within [0, 2π] and 100 elements \n",
    "x = np.linspace(0, 2*np.pi, num=100)\n",
    "\n",
    "# Calculate the sine of x list\n",
    "y = np.sin(x)\n",
    "\n",
    "# Plot the result\n",
    "fg=plt.figure\n",
    "plt.plot(x, y)\n",
    "plt.show()"
   ]
  },
  {
   "cell_type": "markdown",
   "id": "0aa8143f-4437-4d3d-a8a9-ea915c42fffc",
   "metadata": {},
   "source": [
    "### Iterating 1-D Arrays\n",
    "\n",
    "Iterating means going through elements one by one.\n",
    "\n",
    "If we iterate on a 1-D array it will go through each element one by one.\n"
   ]
  },
  {
   "cell_type": "markdown",
   "id": "62ebcd21-cccf-448c-8b26-7d94718a37f2",
   "metadata": {},
   "source": [
    "If we execute the numpy array, we get in the array format\n"
   ]
  },
  {
   "cell_type": "code",
   "execution_count": 209,
   "id": "41aa43bb-0a4e-4513-878d-1bc44e4ff3eb",
   "metadata": {},
   "outputs": [
    {
     "name": "stdout",
     "output_type": "stream",
     "text": [
      "[1 2 3]\n",
      "1\n",
      "2\n",
      "3\n"
     ]
    }
   ],
   "source": [
    "arr1 = np.array([1, 2, 3])\n",
    "print(arr1)\n",
    "\n",
    "# But if you want to result in the form of the list, then you can use for loop:\n",
    "for x in arr1:\n",
    "  print(x)"
   ]
  },
  {
   "cell_type": "markdown",
   "id": "40141254-abf2-47a5-8f91-4e03e060bb4b",
   "metadata": {},
   "source": [
    "## Matrix Mathematics\n",
    "\n",
    "You have seen that you can use Numpy package functions to perform different types of operations on arrays and matrices. In this reading, you will learn how these operations work mathematically.\n",
    "1D Arrays : Vectors\n",
    "\n",
    "A 1D array is often termed as a vector. Depending upon the orientation of the data, the vector can be classified as a row vector or a column vector. This is illustrated in the image below."
   ]
  },
  {
   "cell_type": "markdown",
   "id": "216a4025-bd2d-4d34-bdf7-f22c016844a7",
   "metadata": {},
   "source": [
    "### 1D Arrays : Vectors\n",
    "A 1D array is often termed as a vector. Depending upon the orientation of the data, the vector can be classified as a row vector or a column vector. This is illustrated in the image below."
   ]
  },
  {
   "cell_type": "code",
   "execution_count": 210,
   "id": "7b3b020b-cd25-499e-9066-a6870938f8df",
   "metadata": {},
   "outputs": [
    {
     "data": {
      "image/png": "[encoded data removed]",
      "text/plain": [
       "<IPython.core.display.Image object>"
      ]
     },
     "metadata": {},
     "output_type": "display_data"
    }
   ],
   "source": [
    "import numpy as np\n",
    "Imgname='maths_1.png'\n",
    "imsdir=\"C:/Users/Gamaliel/Documents/G/ADD/IBM_DS/Python4DS/IBMs-NBs/Mod4/04.Matrices Archivos/\"\n",
    "\n",
    "def loadIm(imsdir,Imgname):\n",
    "    from IPython.display import Image, display\n",
    "    display(Image(filename=imsdir+Imgname))\n",
    "\n",
    "\n",
    "loadIm(imsdir,Imgname)"
   ]
  },
  {
   "cell_type": "markdown",
   "id": "aa5dbe24-025b-4613-a849-0a298916bdaa",
   "metadata": {},
   "source": [
    "#### Properties"
   ]
  },
  {
   "cell_type": "code",
   "execution_count": 211,
   "id": "788232f3-25dc-4ac2-8818-2a0d7c7dcd11",
   "metadata": {},
   "outputs": [
    {
     "name": "stdout",
     "output_type": "stream",
     "text": [
      "A's Dimensions:  2\n",
      "A's Shape:  (3, 3)\n",
      "A's Size:  9\n"
     ]
    }
   ],
   "source": [
    "a = [[11, 12, 13], [21, 22, 23], [31, 32, 33]]\n",
    "b = [[1, 1, 1], [1, 1, 1], [1, 1, 1]]\n",
    "A = np.array(a)\n",
    "B = np.array(b)\n",
    "Adim=A.ndim\n",
    "print('A\\'s Dimensions: ', A.ndim)\n",
    "print('A\\'s Shape: ', A.shape)\n",
    "print('A\\'s Size: ', A.size)"
   ]
  },
  {
   "cell_type": "markdown",
   "id": "83c281c3-a053-4f05-aa85-872849cbd5ad",
   "metadata": {},
   "source": [
    "Mathematically, we can add, subtract, and take the product of two vectors, provided they are the same shape. The images below highlight the mathematical operations conducted on a pair of vectors."
   ]
  },
  {
   "cell_type": "code",
   "execution_count": 212,
   "id": "ff797d6d-a4a1-403b-9bad-0fcc965196a2",
   "metadata": {},
   "outputs": [
    {
     "data": {
      "image/png": "[encoded data removed]",
      "text/plain": [
       "<IPython.core.display.Image object>"
      ]
     },
     "metadata": {},
     "output_type": "display_data"
    }
   ],
   "source": [
    "Imgname='maths_2.png'\n",
    "loadIm(imsdir,Imgname)\n"
   ]
  },
  {
   "cell_type": "markdown",
   "id": "e883277f-311e-4a23-ab9e-2d9cacb08b0c",
   "metadata": {},
   "source": [
    "#### Addition and subtraction"
   ]
  },
  {
   "cell_type": "code",
   "execution_count": 213,
   "id": "7561eb7e-10d5-4396-a483-ce691d997a47",
   "metadata": {},
   "outputs": [
    {
     "name": "stdout",
     "output_type": "stream",
     "text": [
      "Addition: \n",
      "[[12 13 14]\n",
      " [22 23 24]\n",
      " [32 33 34]]\n",
      "Subtraction: \n",
      "[[10 11 12]\n",
      " [20 21 22]\n",
      " [30 31 32]]\n"
     ]
    }
   ],
   "source": [
    "print('Addition: ')\n",
    "print(A+B)\n",
    "print('Subtraction: ')\n",
    "print(A-B)"
   ]
  },
  {
   "cell_type": "markdown",
   "id": "c67fc1c3-f381-4b17-972c-692e6bd400cc",
   "metadata": {},
   "source": [
    "#### 1D Multiplication"
   ]
  },
  {
   "cell_type": "code",
   "execution_count": 214,
   "id": "4da028f1-b19c-4c9a-9ae5-e24176cf87cc",
   "metadata": {},
   "outputs": [
    {
     "data": {
      "image/png": "[encoded data removed]",
      "text/plain": [
       "<IPython.core.display.Image object>"
      ]
     },
     "metadata": {},
     "output_type": "display_data"
    }
   ],
   "source": [
    "Imgname='maths_3.png'\n",
    "loadIm(imsdir,Imgname)"
   ]
  },
  {
   "cell_type": "code",
   "execution_count": 215,
   "id": "a3bb30d4-9ee3-40ac-b7f6-b8a147a3b244",
   "metadata": {},
   "outputs": [
    {
     "name": "stdout",
     "output_type": "stream",
     "text": [
      "Multiplication: \n",
      "[[11 12 13]\n",
      " [21 22 23]\n",
      " [31 32 33]]\n"
     ]
    }
   ],
   "source": [
    "print('Multiplication: ')\n",
    "print(A*B)"
   ]
  },
  {
   "cell_type": "markdown",
   "id": "688c959b-002e-41ca-b931-eeb5f19da07f",
   "metadata": {},
   "source": [
    "#### Scalar addition"
   ]
  },
  {
   "cell_type": "markdown",
   "id": "d679ccb1-b641-41f1-9c71-6ea1988bc90d",
   "metadata": {},
   "source": [
    "All three of these operations are conducted on corresponding elements of individual vectors. The resulting array always has the same size as that of the two original vectors.\n",
    "\n",
    "To a single vector, we can also add a constant (scalar addition), subtract a constant (scalar subtraction) and multiply a constant (scalar multiplication) to any vector. The images below illustrate these operations."
   ]
  },
  {
   "cell_type": "code",
   "execution_count": 216,
   "id": "e4580c51-48cf-44ce-a3f1-870a7ddb3611",
   "metadata": {},
   "outputs": [
    {
     "data": {
      "image/png": "[encoded data removed]",
      "text/plain": [
       "<IPython.core.display.Image object>"
      ]
     },
     "metadata": {},
     "output_type": "display_data"
    },
    {
     "data": {
      "image/png": "[encoded data removed]",
      "text/plain": [
       "<IPython.core.display.Image object>"
      ]
     },
     "metadata": {},
     "output_type": "display_data"
    }
   ],
   "source": [
    "Imgname='maths_4.png'\n",
    "loadIm(imsdir,Imgname)\n",
    "Imgname='maths_5.png'\n",
    "loadIm(imsdir,Imgname)"
   ]
  },
  {
   "cell_type": "code",
   "execution_count": 217,
   "id": "7d3051e4-550a-4eb1-ac03-c60b2b54fcd0",
   "metadata": {},
   "outputs": [
    {
     "name": "stdout",
     "output_type": "stream",
     "text": [
      "Scalar addition: \n",
      "[[12 13 14]\n",
      " [22 23 24]\n",
      " [32 33 34]]\n",
      "Scalar subtraction: \n",
      "[[10 11 12]\n",
      " [20 21 22]\n",
      " [30 31 32]]\n",
      "Scalar multiplication: \n",
      "[[22 24 26]\n",
      " [42 44 46]\n",
      " [62 64 66]]\n"
     ]
    }
   ],
   "source": [
    "print('Scalar addition: ')\n",
    "print(A+1)\n",
    "print('Scalar subtraction: ')\n",
    "print(A-1)\n",
    "print('Scalar multiplication: ')\n",
    "print(A*2)"
   ]
  },
  {
   "cell_type": "markdown",
   "id": "199b7bcd-e484-4bd1-859d-dea402015451",
   "metadata": {},
   "source": [
    "### 2D Arrays : Matrices\n",
    "\n",
    "A 2D array is also called a Matrix. These are typically rectangular arrays with data stored in different rows. All of the operations mentioned above are also applicable to the 2D arrays. However, the Dot product of 2D matrices follows a different rule.\n",
    "\n",
    "As illlustrated in the images below, the dot product is carried out by multiplying and adding corresponding elements of rows of the first matrix with the elements of columns of the second matrix. As a result, the output matrix from the multiplication will have a modified shape.\n",
    "\n",
    "The general rule is that the dot product of an m X n matrix can be done only with an n X p matrix, and the resultant matrix will have the shape m X p. In the example shown below, the 4 X 2 matrix is multiplied with the 2 X 4 matrix to generate a 4 X 4 matrix."
   ]
  },
  {
   "cell_type": "markdown",
   "id": "e6d97163-a254-475a-ba2b-1ff9e84f6baf",
   "metadata": {},
   "source": [
    "#### Accessing different elements of a Numpy Array\n"
   ]
  },
  {
   "cell_type": "markdown",
   "id": "16d581b5-8c2c-4ec0-88ae-88266de502a6",
   "metadata": {},
   "source": [
    "We can use rectangular brackets to access the different elements of the array. The correspondence between the rectangular brackets and the list and the rectangular representation is shown in the following figure for a 3x3 array:  \n"
   ]
  },
  {
   "cell_type": "markdown",
   "id": "bbc344c2-80d8-4458-a26b-c9e57ead59e3",
   "metadata": {},
   "source": [
    "<img src=\"https://cf-courses-data.s3.us.cloud-object-storage.appdomain.cloud/IBMDeveloperSkillsNetwork-PY0101EN-SkillsNetwork/labs/Module%205/images/NumTwoEg.png\" width=\"500\">\n"
   ]
  },
  {
   "cell_type": "markdown",
   "id": "e9837d6b-1780-438c-bac6-4b089ef48482",
   "metadata": {},
   "source": [
    "We can access the 2nd-row, 3rd column as shown in the following figure:\n"
   ]
  },
  {
   "cell_type": "markdown",
   "id": "8f058ff7-7733-485b-a2f1-8135db87430d",
   "metadata": {},
   "source": [
    "<img src=\"https://cf-courses-data.s3.us.cloud-object-storage.appdomain.cloud/IBMDeveloperSkillsNetwork-PY0101EN-SkillsNetwork/labs/Module%205/images/NumTwoFT.png\" width=\"400\">\n"
   ]
  },
  {
   "cell_type": "markdown",
   "id": "d9f06468-1489-4045-a2dd-74d0297ade8f",
   "metadata": {},
   "source": [
    " We simply use the square brackets and the indices corresponding to the element we would like:\n"
   ]
  },
  {
   "cell_type": "code",
   "execution_count": 218,
   "id": "d3f2363e-7157-4b96-b526-2fc90c20dee9",
   "metadata": {},
   "outputs": [
    {
     "data": {
      "text/plain": [
       "23"
      ]
     },
     "execution_count": 218,
     "metadata": {},
     "output_type": "execute_result"
    }
   ],
   "source": [
    "# Access the element on the second row and third column\n",
    "\n",
    "A[1, 2]"
   ]
  },
  {
   "cell_type": "markdown",
   "id": "04de2945-7a5c-41e5-906e-0ae35d327e22",
   "metadata": {},
   "source": [
    " We can also use the following notation to obtain the elements: \n"
   ]
  },
  {
   "cell_type": "code",
   "execution_count": 219,
   "id": "2943a5dd-6a0b-479c-8612-2cd374ef4446",
   "metadata": {},
   "outputs": [
    {
     "data": {
      "text/plain": [
       "23"
      ]
     },
     "execution_count": 219,
     "metadata": {},
     "output_type": "execute_result"
    }
   ],
   "source": [
    "# Access the element on the second row and third column\n",
    "\n",
    "A[1][2]"
   ]
  },
  {
   "cell_type": "markdown",
   "id": "54451f1d-e7be-4333-bfde-eabd1674643e",
   "metadata": {},
   "source": [
    " Consider the elements shown in the following figure \n"
   ]
  },
  {
   "cell_type": "markdown",
   "id": "ba808257-4a2d-48e3-91bb-11ac35db4984",
   "metadata": {},
   "source": [
    "<img src=\"https://cf-courses-data.s3.us.cloud-object-storage.appdomain.cloud/IBMDeveloperSkillsNetwork-PY0101EN-SkillsNetwork/labs/Module%205/images/NumTwoFF.png\" width=\"400\">\n"
   ]
  },
  {
   "cell_type": "markdown",
   "id": "8fb4a3ac-3d5b-41d5-b35d-a320337b4573",
   "metadata": {},
   "source": [
    "We can access the element as follows: \n"
   ]
  },
  {
   "cell_type": "code",
   "execution_count": 220,
   "id": "3e10cf32-8198-4b24-9c20-b4da7be096d0",
   "metadata": {},
   "outputs": [
    {
     "data": {
      "text/plain": [
       "11"
      ]
     },
     "execution_count": 220,
     "metadata": {},
     "output_type": "execute_result"
    }
   ],
   "source": [
    "# Access the element on the first row and first column\n",
    "\n",
    "A[0][0]"
   ]
  },
  {
   "cell_type": "markdown",
   "id": "361ee529-5949-4dcf-be29-172dcb19e836",
   "metadata": {},
   "source": [
    "We can also use slicing in numpy arrays. Consider the following figure. We would like to obtain the first two columns in the first row\n"
   ]
  },
  {
   "cell_type": "markdown",
   "id": "9c236815-64d7-4113-8118-5102364c97a4",
   "metadata": {},
   "source": [
    "<img src=\"https://cf-courses-data.s3.us.cloud-object-storage.appdomain.cloud/IBMDeveloperSkillsNetwork-PY0101EN-SkillsNetwork/labs/Module%205/images/NumTwoFSF.png\" width=\"400\">\n"
   ]
  },
  {
   "cell_type": "markdown",
   "id": "f100f156-d7c7-4e7b-bdfd-531ceef48b0d",
   "metadata": {},
   "source": [
    " This can be done with the following syntax: \n"
   ]
  },
  {
   "cell_type": "code",
   "execution_count": 221,
   "id": "1651fe8b-80bd-47fe-ba00-5528b7c84c22",
   "metadata": {},
   "outputs": [
    {
     "data": {
      "text/plain": [
       "array([11, 12])"
      ]
     },
     "execution_count": 221,
     "metadata": {},
     "output_type": "execute_result"
    }
   ],
   "source": [
    "# Access the element on the first row and first and second columns\n",
    "\n",
    "A[0][0:2]"
   ]
  },
  {
   "cell_type": "markdown",
   "id": "38dad829-56ed-47e6-acd0-429aabe5cae9",
   "metadata": {},
   "source": [
    "Similarly, we can obtain the first two rows of the 3rd column as follows:\n"
   ]
  },
  {
   "cell_type": "code",
   "execution_count": 222,
   "id": "0535b6a8-f24c-405d-ad4a-6930e205f756",
   "metadata": {},
   "outputs": [
    {
     "data": {
      "text/plain": [
       "array([13, 23])"
      ]
     },
     "execution_count": 222,
     "metadata": {},
     "output_type": "execute_result"
    }
   ],
   "source": [
    "# Access the element on the first and second rows and third column\n",
    "\n",
    "A[0:2, 2]"
   ]
  },
  {
   "cell_type": "markdown",
   "id": "979c2901-91d3-4032-86cb-b0b1fb9aab19",
   "metadata": {},
   "source": [
    "Corresponding to the following figure: \n"
   ]
  },
  {
   "cell_type": "markdown",
   "id": "d9a601eb-74ee-4261-a1a9-66a7c8edc58b",
   "metadata": {},
   "source": [
    "<img src=\"https://cf-courses-data.s3.us.cloud-object-storage.appdomain.cloud/IBMDeveloperSkillsNetwork-PY0101EN-SkillsNetwork/labs/Module%205/images/2D_numpy.png\" width=\"400\"><br />\n"
   ]
  },
  {
   "cell_type": "markdown",
   "id": "78571317-37eb-43f9-846a-239001b87d43",
   "metadata": {},
   "source": [
    "#### Basic Operations\n"
   ]
  },
  {
   "cell_type": "markdown",
   "id": "318a628a-676a-4119-964b-704b22acab0d",
   "metadata": {},
   "source": [
    "We can also add arrays. The process is identical to matrix addition. Matrix addition of <code>X</code> and <code>Y</code> is shown in the following figure:\n"
   ]
  },
  {
   "cell_type": "markdown",
   "id": "fb417540-1b83-4aa8-ad83-0acb6bb70809",
   "metadata": {},
   "source": [
    "<img src=\"https://cf-courses-data.s3.us.cloud-object-storage.appdomain.cloud/IBMDeveloperSkillsNetwork-PY0101EN-SkillsNetwork/labs/Module%205/images/NumTwoAdd.png\" width=\"500\">\n"
   ]
  },
  {
   "cell_type": "markdown",
   "id": "5d0e7632-5c89-4f6b-9e93-fdcfaf7a3263",
   "metadata": {},
   "source": [
    "The numpy array is given by <code>X</code> and <code>Y</code>\n"
   ]
  },
  {
   "cell_type": "code",
   "execution_count": 223,
   "id": "4a4eafb4-9588-4694-8e1c-82b6f9b04a40",
   "metadata": {},
   "outputs": [
    {
     "data": {
      "text/plain": [
       "array([[1, 0],\n",
       "       [0, 1]])"
      ]
     },
     "execution_count": 223,
     "metadata": {},
     "output_type": "execute_result"
    }
   ],
   "source": [
    "# Create a numpy array X\n",
    "\n",
    "X = np.array([[1, 0], [0, 1]]) \n",
    "X"
   ]
  },
  {
   "cell_type": "code",
   "execution_count": 224,
   "id": "031ab5c8-863c-41b1-bc17-86f237408aed",
   "metadata": {},
   "outputs": [
    {
     "data": {
      "text/plain": [
       "array([[2, 1],\n",
       "       [1, 2]])"
      ]
     },
     "execution_count": 224,
     "metadata": {},
     "output_type": "execute_result"
    }
   ],
   "source": [
    "# Create a numpy array Y\n",
    "\n",
    "Y = np.array([[2, 1], [1, 2]]) \n",
    "Y"
   ]
  },
  {
   "cell_type": "markdown",
   "id": "b6c8334a-2f03-49dc-bd06-06fb2aad2467",
   "metadata": {},
   "source": [
    " We can add the numpy arrays as follows.\n"
   ]
  },
  {
   "cell_type": "code",
   "execution_count": 225,
   "id": "8c7b54de-6bf1-4eed-aa34-7d0df1618bf2",
   "metadata": {},
   "outputs": [
    {
     "data": {
      "text/plain": [
       "array([[3, 1],\n",
       "       [1, 3]])"
      ]
     },
     "execution_count": 225,
     "metadata": {},
     "output_type": "execute_result"
    }
   ],
   "source": [
    "# Add X and Y\n",
    "\n",
    "Z = X + Y\n",
    "Z"
   ]
  },
  {
   "cell_type": "markdown",
   "id": "62f1eac4-d448-4315-9026-e0fabfbcfdc6",
   "metadata": {},
   "source": [
    "Multiplying a numpy array by a scaler is identical to multiplying a matrix by a scaler. If we multiply the matrix <code>Y</code> by the scaler 2, we simply multiply every element in the matrix by 2, as shown in the figure.\n"
   ]
  },
  {
   "cell_type": "markdown",
   "id": "4cf36d6e-e281-4d4f-9f6f-7e5c2643852d",
   "metadata": {},
   "source": [
    "<img src=\"https://cf-courses-data.s3.us.cloud-object-storage.appdomain.cloud/IBMDeveloperSkillsNetwork-PY0101EN-SkillsNetwork/labs/Module%205/images/NumTwoDb.png\" width=\"500\">\n"
   ]
  },
  {
   "cell_type": "markdown",
   "id": "68f87d15-14f6-4a68-a3e0-ef59f7490e8e",
   "metadata": {},
   "source": [
    "We can perform the same operation in numpy as follows \n"
   ]
  },
  {
   "cell_type": "code",
   "execution_count": 226,
   "id": "210100bb-4a21-46ab-92ad-dbd2262a7080",
   "metadata": {},
   "outputs": [
    {
     "data": {
      "text/plain": [
       "array([[2, 1],\n",
       "       [1, 2]])"
      ]
     },
     "execution_count": 226,
     "metadata": {},
     "output_type": "execute_result"
    }
   ],
   "source": [
    "# Create a numpy array Y\n",
    "\n",
    "Y = np.array([[2, 1], [1, 2]]) \n",
    "Y"
   ]
  },
  {
   "cell_type": "code",
   "execution_count": 227,
   "id": "525ea946-9ff1-4bca-9758-96a4a5211f39",
   "metadata": {},
   "outputs": [
    {
     "data": {
      "text/plain": [
       "array([[4, 2],\n",
       "       [2, 4]])"
      ]
     },
     "execution_count": 227,
     "metadata": {},
     "output_type": "execute_result"
    }
   ],
   "source": [
    "# Multiply Y with 2\n",
    "\n",
    "Z = 2 * Y\n",
    "Z"
   ]
  },
  {
   "cell_type": "markdown",
   "id": "e5791846-6df3-4948-9d07-e5cbd4a0add3",
   "metadata": {},
   "source": [
    "Multiplication of two arrays corresponds to an element-wise product or <em>Hadamard product</em>. Consider matrix <code>X</code> and <code>Y</code>. The Hadamard product corresponds to multiplying each of the elements in the same position, i.e. multiplying elements contained in the same color boxes together. The result is a new matrix that is the same size as matrix <code>Y</code> or <code>X</code>, as shown in the following figure.\n"
   ]
  },
  {
   "cell_type": "markdown",
   "id": "5c4fbb0c-93b0-45b3-8655-a74b3f2fdaa9",
   "metadata": {},
   "source": [
    "<img src=\"https://cf-courses-data.s3.us.cloud-object-storage.appdomain.cloud/IBMDeveloperSkillsNetwork-PY0101EN-SkillsNetwork/labs/Module%205/images/NumTwoMul.png\" width=\"500\">\n"
   ]
  },
  {
   "cell_type": "markdown",
   "id": "a04dc516-8dc8-4992-84b3-a58b3b5f367d",
   "metadata": {},
   "source": [
    "We can perform element-wise product of the array <code>X</code> and <code>Y</code> as follows:\n"
   ]
  },
  {
   "cell_type": "code",
   "execution_count": 228,
   "id": "548a847e-45fb-4512-8e72-6e72be97e86f",
   "metadata": {},
   "outputs": [
    {
     "data": {
      "text/plain": [
       "array([[2, 1],\n",
       "       [1, 2]])"
      ]
     },
     "execution_count": 228,
     "metadata": {},
     "output_type": "execute_result"
    }
   ],
   "source": [
    "# Create a numpy array Y\n",
    "\n",
    "Y = np.array([[2, 1], [1, 2]]) \n",
    "Y"
   ]
  },
  {
   "cell_type": "code",
   "execution_count": 229,
   "id": "5738697e-3d31-4010-a47a-41472fc4bf4a",
   "metadata": {},
   "outputs": [
    {
     "data": {
      "text/plain": [
       "array([[1, 0],\n",
       "       [0, 1]])"
      ]
     },
     "execution_count": 229,
     "metadata": {},
     "output_type": "execute_result"
    }
   ],
   "source": [
    "# Create a numpy array X\n",
    "\n",
    "X = np.array([[1, 0], [0, 1]]) \n",
    "X"
   ]
  },
  {
   "cell_type": "code",
   "execution_count": 230,
   "id": "e453bf51-4fce-4d33-857c-0977e131364b",
   "metadata": {},
   "outputs": [
    {
     "data": {
      "text/plain": [
       "array([[2, 0],\n",
       "       [0, 2]])"
      ]
     },
     "execution_count": 230,
     "metadata": {},
     "output_type": "execute_result"
    }
   ],
   "source": [
    "# Multiply X with Y\n",
    "\n",
    "Z = X * Y\n",
    "Z"
   ]
  },
  {
   "cell_type": "markdown",
   "id": "8b6a65fd-adb8-461d-8576-18731dc8308a",
   "metadata": {},
   "source": [
    "We can also perform matrix multiplication with the numpy arrays <code>A</code> and <code>B</code> as follows:\n"
   ]
  },
  {
   "cell_type": "code",
   "execution_count": 231,
   "id": "7d0f57fb-4b55-434e-b4fe-1a19b397b47b",
   "metadata": {
    "scrolled": true
   },
   "outputs": [
    {
     "data": {
      "image/png": "[encoded data removed]",
      "text/plain": [
       "<IPython.core.display.Image object>"
      ]
     },
     "metadata": {},
     "output_type": "display_data"
    }
   ],
   "source": [
    "Imgname='maths_6.png'\n",
    "loadIm(imsdir,Imgname)"
   ]
  },
  {
   "cell_type": "markdown",
   "id": "1d7b8cc0-ec57-4458-a9b4-c7c81f914bf3",
   "metadata": {},
   "source": [
    "In the reverse example, when 2 X 4 matrix is multiplied with the 4 X 2 one, the resultant will be a 2 X 2 matrix."
   ]
  },
  {
   "cell_type": "code",
   "execution_count": 232,
   "id": "da94d2ee-f90f-4a5e-9e1c-9696952167ed",
   "metadata": {},
   "outputs": [
    {
     "data": {
      "image/png": "[encoded data removed]",
      "text/plain": [
       "<IPython.core.display.Image object>"
      ]
     },
     "metadata": {},
     "output_type": "display_data"
    }
   ],
   "source": [
    "Imgname='maths_7.png'\n",
    "loadIm(imsdir,Imgname)"
   ]
  },
  {
   "cell_type": "markdown",
   "id": "7bbb86d0-40e6-4e7c-89ab-41cdd619bd90",
   "metadata": {},
   "source": [
    "First, we define matrix <code>A</code> and <code>B</code>:\n"
   ]
  },
  {
   "cell_type": "code",
   "execution_count": 233,
   "id": "f75a4eaa-4bd5-4c77-8b22-13103cfc01bd",
   "metadata": {},
   "outputs": [
    {
     "data": {
      "text/plain": [
       "array([[0, 1, 1],\n",
       "       [1, 0, 1]])"
      ]
     },
     "execution_count": 233,
     "metadata": {},
     "output_type": "execute_result"
    }
   ],
   "source": [
    "# Create a matrix A\n",
    "\n",
    "A = np.array([[0, 1, 1], [1, 0, 1]])\n",
    "A"
   ]
  },
  {
   "cell_type": "code",
   "execution_count": 234,
   "id": "f3a36db1-560e-4033-9e0c-787c1b3af87c",
   "metadata": {},
   "outputs": [
    {
     "data": {
      "text/plain": [
       "array([[ 1,  1],\n",
       "       [ 1,  1],\n",
       "       [-1,  1]])"
      ]
     },
     "execution_count": 234,
     "metadata": {},
     "output_type": "execute_result"
    }
   ],
   "source": [
    "# Create a matrix B\n",
    "\n",
    "B = np.array([[1, 1], [1, 1], [-1, 1]])\n",
    "B"
   ]
  },
  {
   "cell_type": "markdown",
   "id": "bf45362f-4f6b-4a78-9e91-c80592fea452",
   "metadata": {},
   "source": [
    "We use the numpy function <code>dot</code> to multiply the arrays together.\n"
   ]
  },
  {
   "cell_type": "code",
   "execution_count": 235,
   "id": "d19e7add-e19e-4f2e-9f24-a668029d45af",
   "metadata": {},
   "outputs": [
    {
     "data": {
      "text/plain": [
       "array([[0, 2],\n",
       "       [0, 2]])"
      ]
     },
     "execution_count": 235,
     "metadata": {},
     "output_type": "execute_result"
    }
   ],
   "source": [
    "# Calculate the dot product\n",
    "\n",
    "Z = np.dot(A,B)\n",
    "Z"
   ]
  },
  {
   "cell_type": "code",
   "execution_count": 236,
   "id": "b2e75214-0ed6-41ee-9df2-f2ba19ef651f",
   "metadata": {},
   "outputs": [
    {
     "data": {
      "text/plain": [
       "array([[0.        , 0.90929743],\n",
       "       [0.        , 0.90929743]])"
      ]
     },
     "execution_count": 236,
     "metadata": {},
     "output_type": "execute_result"
    }
   ],
   "source": [
    "# Calculate the sine of Z\n",
    "\n",
    "np.sin(Z)"
   ]
  },
  {
   "cell_type": "markdown",
   "id": "d515c054-0000-4285-9bf1-4a32b240f201",
   "metadata": {},
   "source": [
    "We use the numpy attribute <code>T</code> to calculate the transposed matrix\n"
   ]
  },
  {
   "cell_type": "code",
   "execution_count": 237,
   "id": "4e77e1b4-ff0f-4f48-9f4f-6889ea8e50b2",
   "metadata": {},
   "outputs": [
    {
     "data": {
      "text/plain": [
       "array([[1, 1],\n",
       "       [2, 2],\n",
       "       [3, 3]])"
      ]
     },
     "execution_count": 237,
     "metadata": {},
     "output_type": "execute_result"
    }
   ],
   "source": [
    "# Create a matrix C\n",
    "\n",
    "C = np.array([[1,1],[2,2],[3,3]])\n",
    "C"
   ]
  },
  {
   "cell_type": "code",
   "execution_count": 238,
   "id": "23bd36de-0107-4fd2-b943-64143cd149da",
   "metadata": {},
   "outputs": [
    {
     "data": {
      "text/plain": [
       "array([[1, 2, 3],\n",
       "       [1, 2, 3]])"
      ]
     },
     "execution_count": 238,
     "metadata": {},
     "output_type": "execute_result"
    }
   ],
   "source": [
    "# Get the transposed of C\n",
    "\n",
    "C.T"
   ]
  },
  {
   "cell_type": "markdown",
   "id": "68e4e766-3e7a-4b3e-bc56-130f4db7bc27",
   "metadata": {},
   "source": [
    "### Module 4 Summary: Working with Data in Python\n",
    "\n",
    "* Python uses the open() function and allows you to read and write files, providing access to the content within the file for reading. It also allows overwriting it for writing and specifies the file mode (for example, r for reading, w for writing, a for appending).\n",
    "    * To read a file, Python uses an open function along with r.\n",
    "    * Python uses the open with function to read and process a file attribute, that is, from open to close.\n",
    "    * In Python, you use the open method to edit or overwrite a file.\n",
    "    * To write a file, Python uses the open function along with w.\n",
    "    * In Python, \"a\" indicates that the program has appended to the file.\n",
    "    *  In Python, “\\n” signifies that the code should start on a new line. \n",
    "    * Python uses various methods to print lines from attributes.\n",
    "\n",
    "* Pandas is a powerful Python library for data manipulation and analysis, providing data structures and functions to work with structured data like data frames and series.\n",
    "\n",
    "    * You import the file (panda) by using the import command followed by the file name. \n",
    "    * In Python, you use the as command to provide a shorter name for the file.\n",
    "    * In Pandas, you use a data frame (df) to specify the files to read.\n",
    "    * DataFrames consist of rows and columns.\n",
    "    * You can create new DataFrames by using the column or columns of a specific DataFrame.\n",
    "    * We can work with data in a DataFrames and save the results in different formats.\n",
    "    * In Python, you use the Unique method to determine unique elements in a column of the DataFrames.\n",
    "    * You use the inequality operator along with df to assign a Boolean value to the selected column in DataFrames.\n",
    "    * You save a new DataFrame as a different DataFrame, which may contain values from an earlier DataFrame.\n",
    "\n",
    "* NumPy is a Python library for numerical and matrix operations, offering multidimensional array objects and a variety of mathematical functions to work with data efficiently.\n",
    "\n",
    "    * NumPy is a basis for Pandas.\n",
    "    * A NumPy array or ND array is similar to a list, usually of a fixed size with the same kind of element.\n",
    "    * A one-dimensional NumPy array is a linear sequence of elements with a single axis, like a traditional list, but optimized for numerical computations and array operations.\n",
    "    * You can access elements in a NumPy using an index.\n",
    "    * You use the attribute dtype to get the data type of the array elements.\n",
    "    * You use nsize and ndim to get the size and dimension of the array, respectively.\n",
    "    * You can use indexing and slicing methods in NumPy.\n",
    "    * Vector additions are widely used operations in Python.\n",
    "    * Representing vector addition with line segments or arrows is useful.\n",
    "    * NumPy codes work much faster, which is helpful with lots of data.\n",
    "    * You perform vector subtraction by replacing the addition sign with a negative sign. \n",
    "\n",
    "* Multiplying an array by a scalar in Python entails multiplying each element of the array by the scalar value, leading to a new array in which each element scales by the scalar.\n",
    "\n",
    "    * Hadamard product refers to the element-wise multiplication of two arrays of the same shape, resulting in a new array where each element is the product of the corresponding elements in the input arrays.\n",
    "    * The dot product in Python is the sum of the element-wise products of two arrays, often used for vector and matrix operations to find the scalar result of multiplying corresponding elements and summing them.\n",
    "    * When working with NumPy, it is common to utilize libraries like Matplotlib to create graphs and visualizations from numerical data stored in NumPy arrays.\n",
    "    * A two-dimensional NumPy array is a grid-like structure with rows and columns suitable for representing data as a matrix or a table for numerical computations.\n",
    "    * In NumPy, \"shape\" refers to an array's dimensions (number of rows and columns), indicating its size and structure.\n",
    "    * You use the attribute \"size\" to obtain the size of an array.\n",
    "    * You use rectangular attributes to access the various elements in an array.\n",
    "    * You use a scalar to multiply elements in NumPy."
   ]
  },
  {
   "cell_type": "markdown",
   "id": "e6d09349-9b36-4e3b-a51e-018068924320",
   "metadata": {},
   "source": [
    "# Module 5"
   ]
  },
  {
   "cell_type": "markdown",
   "id": "0086f423-ffaf-498e-a918-f425fa37fc02",
   "metadata": {},
   "source": [
    "## API"
   ]
  },
  {
   "cell_type": "markdown",
   "id": "0ac6c9f4-f3c2-42f8-8879-db9fac7b617a",
   "metadata": {},
   "source": [
    "An API lets two pieces of software talk to each other. Just like a function, you don't have to know how the API works, only its inputs and outputs.  An essential type of API is a REST API that allows you to access resources via the internet. In this lab, we will review the Pandas Library in the context of an API, we will also review a basic REST API.\n"
   ]
  },
  {
   "cell_type": "markdown",
   "id": "c4074f32-a274-465a-8456-b0fcc6996ee6",
   "metadata": {},
   "source": [
    "<img src=\"https://cf-courses-data.s3.us.cloud-object-storage.appdomain.cloud/IBMDeveloperSkillsNetwork-PY0101EN-SkillsNetwork/labs/Module%205/images/pandas_api.png\" width=\"800,\" align=\"center\" alt=\"logistic regression block diagram\">\n"
   ]
  },
  {
   "cell_type": "markdown",
   "id": "95562fb5-5f7d-412d-9657-9738a5a217fa",
   "metadata": {},
   "source": [
    "For the following data frame:"
   ]
  },
  {
   "cell_type": "code",
   "execution_count": 239,
   "id": "234c43dd-7fb3-4538-b256-02ffed6caaf3",
   "metadata": {},
   "outputs": [
    {
     "data": {
      "text/html": [
       "<div>\n",
       "<style scoped>\n",
       "    .dataframe tbody tr th:only-of-type {\n",
       "        vertical-align: middle;\n",
       "    }\n",
       "\n",
       "    .dataframe tbody tr th {\n",
       "        vertical-align: top;\n",
       "    }\n",
       "\n",
       "    .dataframe thead th {\n",
       "        text-align: right;\n",
       "    }\n",
       "</style>\n",
       "<table border=\"1\" class=\"dataframe\">\n",
       "  <thead>\n",
       "    <tr style=\"text-align: right;\">\n",
       "      <th></th>\n",
       "      <th>a</th>\n",
       "      <th>b</th>\n",
       "    </tr>\n",
       "  </thead>\n",
       "  <tbody>\n",
       "    <tr>\n",
       "      <th>0</th>\n",
       "      <td>11</td>\n",
       "      <td>12</td>\n",
       "    </tr>\n",
       "    <tr>\n",
       "      <th>1</th>\n",
       "      <td>21</td>\n",
       "      <td>22</td>\n",
       "    </tr>\n",
       "    <tr>\n",
       "      <th>2</th>\n",
       "      <td>31</td>\n",
       "      <td>32</td>\n",
       "    </tr>\n",
       "  </tbody>\n",
       "</table>\n",
       "</div>"
      ],
      "text/plain": [
       "    a   b\n",
       "0  11  12\n",
       "1  21  22\n",
       "2  31  32"
      ]
     },
     "execution_count": 239,
     "metadata": {},
     "output_type": "execute_result"
    }
   ],
   "source": [
    "# Creates a data frame\n",
    "dict_={'a':[11,21,31],'b':[12,22,32]}\n",
    "df=pd.DataFrame(dict_)\n",
    "df"
   ]
  },
  {
   "cell_type": "markdown",
   "id": "be1fbe0d-ba53-4d13-b5f0-24c5aef99ebe",
   "metadata": {},
   "source": [
    "When you call any method, the dataframe communicates with the API displaying the first few rows of the dataframe.\n"
   ]
  },
  {
   "cell_type": "code",
   "execution_count": 240,
   "id": "7d8040ad-6a0f-441a-924f-7aa32725f880",
   "metadata": {},
   "outputs": [
    {
     "data": {
      "text/plain": [
       "a    21.0\n",
       "b    22.0\n",
       "dtype: float64"
      ]
     },
     "execution_count": 240,
     "metadata": {},
     "output_type": "execute_result"
    }
   ],
   "source": [
    "df.head()\n",
    "df.mean()"
   ]
  },
  {
   "cell_type": "markdown",
   "id": "0b29b35d-2fcc-4e5d-b9ea-89093e62bd3f",
   "metadata": {},
   "source": [
    "## REST APIs\n"
   ]
  },
  {
   "cell_type": "markdown",
   "id": "eb90949d-c4d5-4061-8263-7b9a976e752e",
   "metadata": {},
   "source": [
    "<p>Rest APIs function by sending a <b>request</b>, the request is communicated via HTTP message. The HTTP message usually contains a JSON file. This contains instructions for what operation we would like the service or <b>resource</b> to perform. In a similar manner, API returns a <b>response</b>, via an HTTP message, this response is usually contained within a JSON.</p>\n",
    "<p>In this lab, we will use the <a href=https://pypi.org/project/nba-api/?utm_medium=Exinfluencer&utm_source=Exinfluencer&utm_content=000026UJ&utm_term=10006555&utm_id=NA-SkillsNetwork-Channel-SkillsNetworkCoursesIBMDeveloperSkillsNetworkPY0101ENSkillsNetwork19487395-2021-01-01>NBA API</a> to determine how well the Golden State Warriors performed against the Toronto Raptors. We will use the API to determine the number of points the Golden State Warriors won or lost by for each game. So if the value is three, the Golden State Warriors won by three points. Similarly it the  Golden State Warriors lost  by two points the result will be negative two. The API will handle a lot of the details, such a Endpoints and Authentication. </p>\n"
   ]
  },
  {
   "cell_type": "code",
   "execution_count": 241,
   "id": "0e631acd-19e4-4b82-99aa-c54a800dd149",
   "metadata": {},
   "outputs": [
    {
     "data": {
      "image/png": "[encoded data removed]",
      "text/plain": [
       "<Figure size 640x480 with 1 Axes>"
      ]
     },
     "metadata": {},
     "output_type": "display_data"
    }
   ],
   "source": [
    "import requests\n",
    "import pandas as pd\n",
    "import matplotlib.pyplot as plt\n",
    "\n",
    "url = \"https://s3-api.us-geo.objectstorage.softlayer.net/cf-courses-data/CognitiveClass/PY0101EN/Chapter%205/Labs/Golden_State.pkl\"\n",
    "\n",
    "def download(url, filename):\n",
    "    response = requests.get(url)\n",
    "    if response.status_code == 200:\n",
    "        with open(filename, \"wb\") as f:\n",
    "            f.write(response.content)\n",
    "\n",
    "download(url, \"Golden_State.pkl\")\n",
    "file_name = \"Golden_State.pkl\"\n",
    "games = pd.read_pickle(file_name)\n",
    "games_home=games[games['MATCHUP']=='GSW vs. TOR']\n",
    "games_away=games[games['MATCHUP']=='GSW @ TOR']\n",
    "fig, ax = plt.subplots()\n",
    "\n",
    "games_away.plot(x='GAME_DATE',y='PLUS_MINUS', ax=ax)\n",
    "games_home.plot(x='GAME_DATE',y='PLUS_MINUS', ax=ax)\n",
    "ax.legend([\"away\", \"home\"])\n",
    "plt.show()"
   ]
  },
  {
   "cell_type": "markdown",
   "id": "e062695e-b59b-4f9e-aee4-d1a8717caf4a",
   "metadata": {},
   "source": [
    "## Overview of HTTP\n"
   ]
  },
  {
   "cell_type": "markdown",
   "id": "88aa77d2-499d-4f9c-9bbe-d412bdd73ab1",
   "metadata": {},
   "source": [
    "When you, the **client**, use a web page your browser sends an **HTTP** request to the **server** where the page is hosted. The server tries to find the desired **resource** by default \"<code>index.html</code>\". If your request is successful, the server will send the object to the client in an **HTTP response**. This includes information like the type of the **resource**, the length of the **resource**, and other information.\n",
    "\n",
    "<p>\n",
    "The figure below represents the process. The circle on the left represents the client, the circle on the right represents the Web server. The table under the Web server represents a list of resources stored in the web server. In  this case an <code>HTML</code> file, <code>png</code> image, and <code>txt</code> file .\n",
    "</p>\n",
    "<p>\n",
    "The <b>HTTP</b> protocol allows you to send and receive information through the web including webpages, images, and other web resources. In this lab, we will provide an overview of the Requests library for interacting with the <code>HTTP</code> protocol. \n",
    "</p\n"
   ]
  },
  {
   "cell_type": "markdown",
   "id": "fc09cb24-32ea-4b9e-9824-31e554c0c9c1",
   "metadata": {},
   "source": [
    "<div class=\"alert alert-block alert-info\" style=\"margin-top: 20px\">\n",
    "         <img src=\"https://cf-courses-data.s3.us.cloud-object-storage.appdomain.cloud/IBMDeveloperSkillsNetwork-PY0101EN-SkillsNetwork/labs/Module%205/images/reqest_basics.png\" width=\"750\" align=\"center\">\n",
    "\n",
    "</div>\n"
   ]
  },
  {
   "cell_type": "markdown",
   "id": "44a76d0a-f4b4-48ed-b543-477e0cee3a78",
   "metadata": {},
   "source": [
    "### Uniform Resource Locator:URL\n"
   ]
  },
  {
   "cell_type": "markdown",
   "id": "421b632c-a28b-4185-8e8f-9699156d6bb2",
   "metadata": {},
   "source": [
    "Uniform resource locator (URL) is the most popular way to find resources on the web.  We can break the URL into three parts.\n",
    "\n",
    "<ul>\n",
    "    <li><b>Scheme</b>:- This is this protocol, for this lab it will always be <code>http://</code>  </li>\n",
    "    <li><b> Internet address or  Base URL </b>:- This will be used to find the location here are some examples: <code>www.ibm.com</code> and  <code> www.gitlab.com </code> </li>\n",
    "    <li><b>Route</b>:- Location on the web server for example: <code>/images/IDSNlogo.png</code> </li>\n",
    "</ul>\n"
   ]
  },
  {
   "cell_type": "markdown",
   "id": "7091a44f-d101-41e4-942a-39a0614b7a6f",
   "metadata": {},
   "source": [
    "You may also hear the term Uniform Resource Identifier (URI), URL are actually a subset of URIs. Another popular term is endpoint, this is the URL of an operation provided by a Web server.\n"
   ]
  },
  {
   "cell_type": "markdown",
   "id": "2092ad05-99b7-4a97-b9ed-e96c6c1cec48",
   "metadata": {},
   "source": [
    "### Request\n"
   ]
  },
  {
   "cell_type": "markdown",
   "id": "e396efc0-79dc-4aeb-9c65-41315fdd1c6b",
   "metadata": {},
   "source": [
    "The process can be broken into the <b>Request</b> and <b>Response </b> process.  The request using the get method is partially illustrated below. In the start line we have the <code>GET</code> method, this is an <code>HTTP</code> method. Also the location of the resource  <code>/index.html</code> and the <code>HTTP</code> version. The Request header passes additional information with an <code>HTTP</code> request:\n"
   ]
  },
  {
   "cell_type": "markdown",
   "id": "57c7f150-c568-4ac3-b9cd-4477f38ef9ae",
   "metadata": {},
   "source": [
    "<div class=\"alert alert-block alert-info\" style=\"margin-top: 20px\">\n",
    "         <img src=\"https://cf-courses-data.s3.us.cloud-object-storage.appdomain.cloud/IBMDeveloperSkillsNetwork-PY0101EN-SkillsNetwork/labs/Module%205/images/reqest_messege.png\" width=\"400\" align=\"center\">\n",
    "</div>\n"
   ]
  },
  {
   "cell_type": "markdown",
   "id": "030fa72d-8102-40ed-aa72-6b9f21dd77d3",
   "metadata": {},
   "source": [
    "When an <code>HTTP</code> request is made, an <code>HTTP</code> method is sent, this tells the server what action to perform.  A list of several <code>HTTP</code> methods is shown below. We will go over more examples later.\n"
   ]
  },
  {
   "cell_type": "markdown",
   "id": "26e5fa69-8091-4604-805f-048470097cb0",
   "metadata": {},
   "source": [
    "<div class=\"alert alert-block alert-info\" style=\"margin-top: 20px\">\n",
    "         <img src=\"https://cf-courses-data.s3.us.cloud-object-storage.appdomain.cloud/IBMDeveloperSkillsNetwork-PY0101EN-SkillsNetwork/labs/Module%205/images/http_methods.png\" width=\"400\" align=\"center\">\n",
    "</div>\n"
   ]
  },
  {
   "cell_type": "markdown",
   "id": "5c06ca8a-047e-4473-8793-8ff07715e530",
   "metadata": {},
   "source": [
    "### Response\n"
   ]
  },
  {
   "cell_type": "markdown",
   "id": "2e162080-d2a7-4185-9873-25a732a32c1c",
   "metadata": {},
   "source": [
    "The figure below represents the response; the response start line contains the version number <code>HTTP/1.0</code>, a status code (200) meaning success, followed by a descriptive phrase (OK). The response header contains useful information. Finally, we have the response body containing the requested file, an <code> HTML </code> document.  It should be noted that some requests have headers.\n"
   ]
  },
  {
   "cell_type": "markdown",
   "id": "91998280-f489-4636-95f8-6e075eaa8ceb",
   "metadata": {},
   "source": [
    "<div class=\"alert alert-block alert-info\" style=\"margin-top: 20px\">\n",
    "         <img src=\"https://cf-courses-data.s3.us.cloud-object-storage.appdomain.cloud/IBMDeveloperSkillsNetwork-PY0101EN-SkillsNetwork/labs/Module%205/images/response_message.png\" width=\"400\" align=\"center\">\n",
    "</div>\n"
   ]
  },
  {
   "cell_type": "markdown",
   "id": "0fae0511-d46e-4ebd-ac28-865e9f2f2dce",
   "metadata": {},
   "source": [
    "Some status code examples are shown in the table below, the prefix indicates the class. These are shown in yellow, with actual status codes shown in  white. Check out the following <a href=\"https://developer.mozilla.org/en-US/docs/Web/HTTP/Status?utm_medium=Exinfluencer&utm_source=Exinfluencer&utm_content=000026UJ&utm_term=10006555&utm_id=NA-SkillsNetwork-Channel-SkillsNetworkCoursesIBMDeveloperSkillsNetworkPY0101ENSkillsNetwork19487395-2021-01-01\">link </a> for more descriptions.\n"
   ]
  },
  {
   "cell_type": "markdown",
   "id": "3ba4c71c-0845-4571-82d4-5947fc2b2c69",
   "metadata": {},
   "source": [
    "<div class=\"alert alert-block alert-info\" style=\"margin-top: 20px\">\n",
    "         <img src=\"https://cf-courses-data.s3.us.cloud-object-storage.appdomain.cloud/IBMDeveloperSkillsNetwork-PY0101EN-SkillsNetwork/labs/Module%205/images/status_code.png\" width=\"300\" align=\"center\">\n",
    "</div>\n"
   ]
  },
  {
   "cell_type": "code",
   "execution_count": null,
   "id": "127081e5-aeb3-479b-bf2b-db2a2f9b6d0e",
   "metadata": {},
   "outputs": [],
   "source": []
  },
  {
   "cell_type": "raw",
   "id": "210af87d-c7cd-4647-b2cd-92861ecd6f84",
   "metadata": {},
   "source": [
    "import zipfile\n",
    "import shutil\n",
    "import os\n",
    "kaggledbs='C:/Users/Gamaliel/Documents/G/ADD/kaggledbs/'\n",
    "os.chdir(kaggledbs)\n",
    "db='latest-data-science-job-salaries-2024'\n",
    "!kaggle datasets download saurabhbadole/latest-data-science-job-salaries-2024\n",
    "basedir='DS2024'\n",
    "kdb='C:/Users/Gamaliel/Documents/G/ADD/kaggledbs/'+db+'.zip'\n",
    "with zipfile.ZipFile(kdb, 'r') as zip_ref:\n",
    "    zip_ref.extractall(kaggledbs)\n",
    "os.mkdir(basedir)\n",
    "for file in os.listdir(kaggledbs):\n",
    "    if not file.lower().endswith('.csv') and not file.lower().endswith('.json'):\n",
    "        continue\n",
    "    else:\n",
    "        shutil.move(os.path.join(kaggledbs,file),os.path.join(kaggledbs+basedir,file))\n",
    "os.remove(kdb)"
   ]
  },
  {
   "cell_type": "raw",
   "id": "4308f9bc-1afc-4f14-9be5-024e9c77adb0",
   "metadata": {},
   "source": [
    "from selenium import webdriver\n",
    "miorcid='https://orcid.org/0000-0003-4054-1373'\n",
    "mygit='https://github.com/gamindful'\n",
    "#myLI='www.linkedin.com/in/gamaliel-mendoza-cuevas'\n",
    "myLI='https://www.linkedin.com/in/gamaliel-mendoza-cuevas/?trk=public-profile-join-page'\n",
    "driver = webdriver.Firefox()\n",
    "driver.get(myLI)\n",
    "driver.switch_to.new_window('tab')\n",
    "driver.get(mygit)\n",
    "driver.switch_to.new_window('tab')\n",
    "driver.get(miorcid)"
   ]
  },
  {
   "cell_type": "markdown",
   "id": "bdef2dd8-ace6-46e2-b4db-8a37763a4f9c",
   "metadata": {},
   "source": [
    "## Web scraping"
   ]
  },
  {
   "cell_type": "markdown",
   "id": "72ceaab6-410f-414e-91a3-7109b306ab51",
   "metadata": {},
   "source": [
    "The most straigthforward way for webscraping is to:\n",
    "* Usual path\n",
    "    * Use beautiful soup\n",
    "        * Parse the HTML file with beautifulsoup\n",
    "    * Working with Pandas DataFrame() \n",
    "* Alternative option\n",
    "    * Using Pandas (beautifulsoup is the usual way to do so)\n",
    "        * Working with Pandas DataFrame()\n",
    "    * Downloading (as from kaggle):\n",
    "        * .csv\n",
    "        * .json\n",
    "        * .xml\n",
    "    * Working with Pandas DataFrame()"
   ]
  },
  {
   "cell_type": "markdown",
   "id": "eef80484-0fb2-483d-895f-b2dafd0f4844",
   "metadata": {
    "jp-MarkdownHeadingCollapsed": true
   },
   "source": [
    "### Random user"
   ]
  },
  {
   "cell_type": "code",
   "execution_count": 242,
   "id": "dc530cc3-f076-41cc-8d3c-90343582a4ef",
   "metadata": {},
   "outputs": [],
   "source": [
    "from randomuser import RandomUser\n",
    "import pandas as pd\n",
    "from IPython.display import Image"
   ]
  },
  {
   "cell_type": "markdown",
   "id": "e8297206-560d-4197-9413-586a6d36f5d2",
   "metadata": {},
   "source": [
    "First, we will create a random user object, r.\n"
   ]
  },
  {
   "cell_type": "code",
   "execution_count": 243,
   "id": "5449ed68-08f4-43b0-8944-5bdd4ad4c3d6",
   "metadata": {},
   "outputs": [],
   "source": [
    "r = RandomUser()"
   ]
  },
  {
   "cell_type": "markdown",
   "id": "06ac4e44-03cd-44b3-bca7-b0cde8505de7",
   "metadata": {},
   "source": [
    "Then, using `generate_users()` function, we get a list of random 10 users.\n"
   ]
  },
  {
   "cell_type": "code",
   "execution_count": 244,
   "id": "7a0feb22-4fb9-40bc-a144-37fb8dab49af",
   "metadata": {},
   "outputs": [],
   "source": [
    "some_list = r.generate_users(10)"
   ]
  },
  {
   "cell_type": "code",
   "execution_count": 245,
   "id": "09ffa1e2-6993-4598-8635-88e5e5299a7c",
   "metadata": {},
   "outputs": [
    {
     "data": {
      "text/html": [
       "<div>\n",
       "<style scoped>\n",
       "    .dataframe tbody tr th:only-of-type {\n",
       "        vertical-align: middle;\n",
       "    }\n",
       "\n",
       "    .dataframe tbody tr th {\n",
       "        vertical-align: top;\n",
       "    }\n",
       "\n",
       "    .dataframe thead th {\n",
       "        text-align: right;\n",
       "    }\n",
       "</style>\n",
       "<table border=\"1\" class=\"dataframe\">\n",
       "  <thead>\n",
       "    <tr style=\"text-align: right;\">\n",
       "      <th></th>\n",
       "      <th>Name</th>\n",
       "      <th>Gender</th>\n",
       "      <th>City</th>\n",
       "      <th>State</th>\n",
       "      <th>Email</th>\n",
       "      <th>DOB</th>\n",
       "      <th>Picture</th>\n",
       "    </tr>\n",
       "  </thead>\n",
       "  <tbody>\n",
       "    <tr>\n",
       "      <th>0</th>\n",
       "      <td>Vilma Pietila</td>\n",
       "      <td>female</td>\n",
       "      <td>Hervanta</td>\n",
       "      <td>South Karelia</td>\n",
       "      <td>vilma.pietila@example.com</td>\n",
       "      <td>1960-01-09T07:12:03.678Z</td>\n",
       "      <td>https://randomuser.me/api/portraits/women/7.jpg</td>\n",
       "    </tr>\n",
       "    <tr>\n",
       "      <th>1</th>\n",
       "      <td>Raik Kranz</td>\n",
       "      <td>male</td>\n",
       "      <td>Landshut</td>\n",
       "      <td>Brandenburg</td>\n",
       "      <td>raik.kranz@example.com</td>\n",
       "      <td>1971-04-14T21:16:54.736Z</td>\n",
       "      <td>https://randomuser.me/api/portraits/men/66.jpg</td>\n",
       "    </tr>\n",
       "    <tr>\n",
       "      <th>2</th>\n",
       "      <td>Volker Rodriguez</td>\n",
       "      <td>male</td>\n",
       "      <td>Attiswil</td>\n",
       "      <td>Graubünden</td>\n",
       "      <td>volker.rodriguez@example.com</td>\n",
       "      <td>1968-03-02T08:50:06.958Z</td>\n",
       "      <td>https://randomuser.me/api/portraits/men/2.jpg</td>\n",
       "    </tr>\n",
       "    <tr>\n",
       "      <th>3</th>\n",
       "      <td>Melissa Chapman</td>\n",
       "      <td>female</td>\n",
       "      <td>York</td>\n",
       "      <td>Powys</td>\n",
       "      <td>melissa.chapman@example.com</td>\n",
       "      <td>1961-07-23T17:58:16.681Z</td>\n",
       "      <td>https://randomuser.me/api/portraits/women/24.jpg</td>\n",
       "    </tr>\n",
       "  </tbody>\n",
       "</table>\n",
       "</div>"
      ],
      "text/plain": [
       "               Name  Gender      City          State  \\\n",
       "0     Vilma Pietila  female  Hervanta  South Karelia   \n",
       "1        Raik Kranz    male  Landshut    Brandenburg   \n",
       "2  Volker Rodriguez    male  Attiswil     Graubünden   \n",
       "3   Melissa Chapman  female      York          Powys   \n",
       "\n",
       "                          Email                       DOB  \\\n",
       "0     vilma.pietila@example.com  1960-01-09T07:12:03.678Z   \n",
       "1        raik.kranz@example.com  1971-04-14T21:16:54.736Z   \n",
       "2  volker.rodriguez@example.com  1968-03-02T08:50:06.958Z   \n",
       "3   melissa.chapman@example.com  1961-07-23T17:58:16.681Z   \n",
       "\n",
       "                                            Picture  \n",
       "0   https://randomuser.me/api/portraits/women/7.jpg  \n",
       "1    https://randomuser.me/api/portraits/men/66.jpg  \n",
       "2     https://randomuser.me/api/portraits/men/2.jpg  \n",
       "3  https://randomuser.me/api/portraits/women/24.jpg  "
      ]
     },
     "execution_count": 245,
     "metadata": {},
     "output_type": "execute_result"
    }
   ],
   "source": [
    "def get_users(nusers):\n",
    "    users =[]\n",
    "     \n",
    "    for user in RandomUser.generate_users(nusers):\n",
    "        users.append({\"Name\":user.get_full_name(),\"Gender\":user.get_gender(),\"City\":user.get_city(),\"State\":user.get_state(),\"Email\":user.get_email(), \"DOB\":user.get_dob(),\"Picture\":user.get_picture()})\n",
    "      \n",
    "    return pd.DataFrame(users)#, users     \n",
    "\n",
    "Users_table=get_users(4)\n",
    "Users_table"
   ]
  },
  {
   "cell_type": "code",
   "execution_count": 246,
   "id": "b477100c-9819-4311-b338-d81bcab4ed4b",
   "metadata": {},
   "outputs": [
    {
     "data": {
      "text/plain": [
       "Name                                         Vilma Pietila\n",
       "Gender                                              female\n",
       "City                                              Hervanta\n",
       "State                                        South Karelia\n",
       "Email                            vilma.pietila@example.com\n",
       "DOB                               1960-01-09T07:12:03.678Z\n",
       "Picture    https://randomuser.me/api/portraits/women/7.jpg\n",
       "Name: 0, dtype: object"
      ]
     },
     "execution_count": 246,
     "metadata": {},
     "output_type": "execute_result"
    }
   ],
   "source": [
    "RanUs=Users_table.iloc[0]\n",
    "RanUs"
   ]
  },
  {
   "cell_type": "code",
   "execution_count": 247,
   "id": "244e0224-a463-47f4-8e93-298abb9044a6",
   "metadata": {},
   "outputs": [
    {
     "data": {
      "text/plain": [
       "'Vilma Pietila'"
      ]
     },
     "execution_count": 247,
     "metadata": {},
     "output_type": "execute_result"
    }
   ],
   "source": [
    "RanUs['Name']"
   ]
  },
  {
   "cell_type": "markdown",
   "id": "071f340d-9218-4129-afac-f87e9f63b236",
   "metadata": {},
   "source": [
    "### Fruityvice API"
   ]
  },
  {
   "cell_type": "code",
   "execution_count": 248,
   "id": "858e3d14-67fd-4993-91f7-b9846f99ea97",
   "metadata": {},
   "outputs": [],
   "source": [
    "import requests\n",
    "import json"
   ]
  },
  {
   "cell_type": "markdown",
   "id": "88d60533-1d00-4ad0-afb2-0d58c2e932e7",
   "metadata": {},
   "source": [
    "We will obtain the [fruityvice](https://www.fruityvice.com) API data using `requests.get(\"url\")` function. The data is in a json format.\n"
   ]
  },
  {
   "cell_type": "code",
   "execution_count": 249,
   "id": "ccf2b72c-645e-4edb-b873-9baa36f2f9b9",
   "metadata": {},
   "outputs": [],
   "source": [
    "data = requests.get(\"https://web.archive.org/web/20240929211114/https://fruityvice.com/api/fruit/all\")"
   ]
  },
  {
   "cell_type": "markdown",
   "id": "5e932ae0-4ac0-4138-920b-a9fb9c989843",
   "metadata": {},
   "source": [
    "We will retrieve results using `json.loads()` function.\n"
   ]
  },
  {
   "cell_type": "code",
   "execution_count": 250,
   "id": "33874a74-4bbc-4c51-85ad-c394c6ff461f",
   "metadata": {},
   "outputs": [],
   "source": [
    "results = json.loads(data.text)"
   ]
  },
  {
   "cell_type": "markdown",
   "id": "3893c3e5-806e-401b-a336-b736c0e7b36c",
   "metadata": {},
   "source": [
    "We will convert our json data into *pandas* data frame. \n"
   ]
  },
  {
   "cell_type": "code",
   "execution_count": 251,
   "id": "7356b91e-bd2b-40ae-85a6-aa75251f49dc",
   "metadata": {},
   "outputs": [
    {
     "data": {
      "text/html": [
       "<div>\n",
       "<style scoped>\n",
       "    .dataframe tbody tr th:only-of-type {\n",
       "        vertical-align: middle;\n",
       "    }\n",
       "\n",
       "    .dataframe tbody tr th {\n",
       "        vertical-align: top;\n",
       "    }\n",
       "\n",
       "    .dataframe thead th {\n",
       "        text-align: right;\n",
       "    }\n",
       "</style>\n",
       "<table border=\"1\" class=\"dataframe\">\n",
       "  <thead>\n",
       "    <tr style=\"text-align: right;\">\n",
       "      <th></th>\n",
       "      <th>name</th>\n",
       "      <th>id</th>\n",
       "      <th>family</th>\n",
       "      <th>order</th>\n",
       "      <th>genus</th>\n",
       "      <th>nutritions</th>\n",
       "    </tr>\n",
       "  </thead>\n",
       "  <tbody>\n",
       "    <tr>\n",
       "      <th>0</th>\n",
       "      <td>Persimmon</td>\n",
       "      <td>52</td>\n",
       "      <td>Ebenaceae</td>\n",
       "      <td>Rosales</td>\n",
       "      <td>Diospyros</td>\n",
       "      <td>{'calories': 81, 'fat': 0.0, 'sugar': 18.0, 'c...</td>\n",
       "    </tr>\n",
       "    <tr>\n",
       "      <th>1</th>\n",
       "      <td>Strawberry</td>\n",
       "      <td>3</td>\n",
       "      <td>Rosaceae</td>\n",
       "      <td>Rosales</td>\n",
       "      <td>Fragaria</td>\n",
       "      <td>{'calories': 29, 'fat': 0.4, 'sugar': 5.4, 'ca...</td>\n",
       "    </tr>\n",
       "    <tr>\n",
       "      <th>2</th>\n",
       "      <td>Banana</td>\n",
       "      <td>1</td>\n",
       "      <td>Musaceae</td>\n",
       "      <td>Zingiberales</td>\n",
       "      <td>Musa</td>\n",
       "      <td>{'calories': 96, 'fat': 0.2, 'sugar': 17.2, 'c...</td>\n",
       "    </tr>\n",
       "    <tr>\n",
       "      <th>3</th>\n",
       "      <td>Tomato</td>\n",
       "      <td>5</td>\n",
       "      <td>Solanaceae</td>\n",
       "      <td>Solanales</td>\n",
       "      <td>Solanum</td>\n",
       "      <td>{'calories': 74, 'fat': 0.2, 'sugar': 2.6, 'ca...</td>\n",
       "    </tr>\n",
       "    <tr>\n",
       "      <th>4</th>\n",
       "      <td>Pear</td>\n",
       "      <td>4</td>\n",
       "      <td>Rosaceae</td>\n",
       "      <td>Rosales</td>\n",
       "      <td>Pyrus</td>\n",
       "      <td>{'calories': 57, 'fat': 0.1, 'sugar': 10.0, 'c...</td>\n",
       "    </tr>\n",
       "  </tbody>\n",
       "</table>\n",
       "</div>"
      ],
      "text/plain": [
       "         name  id      family         order      genus  \\\n",
       "0   Persimmon  52   Ebenaceae       Rosales  Diospyros   \n",
       "1  Strawberry   3    Rosaceae       Rosales   Fragaria   \n",
       "2      Banana   1    Musaceae  Zingiberales       Musa   \n",
       "3      Tomato   5  Solanaceae     Solanales    Solanum   \n",
       "4        Pear   4    Rosaceae       Rosales      Pyrus   \n",
       "\n",
       "                                          nutritions  \n",
       "0  {'calories': 81, 'fat': 0.0, 'sugar': 18.0, 'c...  \n",
       "1  {'calories': 29, 'fat': 0.4, 'sugar': 5.4, 'ca...  \n",
       "2  {'calories': 96, 'fat': 0.2, 'sugar': 17.2, 'c...  \n",
       "3  {'calories': 74, 'fat': 0.2, 'sugar': 2.6, 'ca...  \n",
       "4  {'calories': 57, 'fat': 0.1, 'sugar': 10.0, 'c...  "
      ]
     },
     "execution_count": 251,
     "metadata": {},
     "output_type": "execute_result"
    }
   ],
   "source": [
    "pd.DataFrame(results).head()"
   ]
  },
  {
   "cell_type": "markdown",
   "id": "8bcce06b-493d-47a4-9391-f8eea03937d4",
   "metadata": {},
   "source": [
    "The result is in a nested json format. The 'nutrition' column contains multiple subcolumns, so the data needs to be 'flattened' or normalized.\n"
   ]
  },
  {
   "cell_type": "code",
   "execution_count": 252,
   "id": "83cc1631-9366-4f89-8635-8162997b4641",
   "metadata": {},
   "outputs": [],
   "source": [
    "df2 = pd.json_normalize(results)"
   ]
  },
  {
   "cell_type": "code",
   "execution_count": 253,
   "id": "bb110d1b-4a6a-4323-b4d1-9addb7dc063a",
   "metadata": {},
   "outputs": [
    {
     "data": {
      "text/html": [
       "<div>\n",
       "<style scoped>\n",
       "    .dataframe tbody tr th:only-of-type {\n",
       "        vertical-align: middle;\n",
       "    }\n",
       "\n",
       "    .dataframe tbody tr th {\n",
       "        vertical-align: top;\n",
       "    }\n",
       "\n",
       "    .dataframe thead th {\n",
       "        text-align: right;\n",
       "    }\n",
       "</style>\n",
       "<table border=\"1\" class=\"dataframe\">\n",
       "  <thead>\n",
       "    <tr style=\"text-align: right;\">\n",
       "      <th></th>\n",
       "      <th>name</th>\n",
       "      <th>id</th>\n",
       "      <th>family</th>\n",
       "      <th>order</th>\n",
       "      <th>genus</th>\n",
       "      <th>nutritions.calories</th>\n",
       "      <th>nutritions.fat</th>\n",
       "      <th>nutritions.sugar</th>\n",
       "      <th>nutritions.carbohydrates</th>\n",
       "      <th>nutritions.protein</th>\n",
       "    </tr>\n",
       "  </thead>\n",
       "  <tbody>\n",
       "    <tr>\n",
       "      <th>0</th>\n",
       "      <td>Persimmon</td>\n",
       "      <td>52</td>\n",
       "      <td>Ebenaceae</td>\n",
       "      <td>Rosales</td>\n",
       "      <td>Diospyros</td>\n",
       "      <td>81</td>\n",
       "      <td>0.0</td>\n",
       "      <td>18.0</td>\n",
       "      <td>18.0</td>\n",
       "      <td>0.0</td>\n",
       "    </tr>\n",
       "    <tr>\n",
       "      <th>1</th>\n",
       "      <td>Strawberry</td>\n",
       "      <td>3</td>\n",
       "      <td>Rosaceae</td>\n",
       "      <td>Rosales</td>\n",
       "      <td>Fragaria</td>\n",
       "      <td>29</td>\n",
       "      <td>0.4</td>\n",
       "      <td>5.4</td>\n",
       "      <td>5.5</td>\n",
       "      <td>0.8</td>\n",
       "    </tr>\n",
       "  </tbody>\n",
       "</table>\n",
       "</div>"
      ],
      "text/plain": [
       "         name  id     family    order      genus  nutritions.calories  \\\n",
       "0   Persimmon  52  Ebenaceae  Rosales  Diospyros                   81   \n",
       "1  Strawberry   3   Rosaceae  Rosales   Fragaria                   29   \n",
       "\n",
       "   nutritions.fat  nutritions.sugar  nutritions.carbohydrates  \\\n",
       "0             0.0              18.0                      18.0   \n",
       "1             0.4               5.4                       5.5   \n",
       "\n",
       "   nutritions.protein  \n",
       "0                 0.0  \n",
       "1                 0.8  "
      ]
     },
     "execution_count": 253,
     "metadata": {},
     "output_type": "execute_result"
    }
   ],
   "source": [
    "df2.iloc[0:2,:]"
   ]
  },
  {
   "cell_type": "markdown",
   "id": "a079b756-ad82-4d25-b43e-884e9702e2d3",
   "metadata": {},
   "source": [
    "Let's see if we can extract some information from this dataframe. Perhaps, we need to know the family and genus of a cherry.\n"
   ]
  },
  {
   "cell_type": "code",
   "execution_count": 254,
   "id": "373ae202-36fd-4581-8674-c010b2493ab6",
   "metadata": {},
   "outputs": [
    {
     "data": {
      "text/plain": [
       "('Rosaceae', 'Prunus')"
      ]
     },
     "execution_count": 254,
     "metadata": {},
     "output_type": "execute_result"
    }
   ],
   "source": [
    "cherry = df2.loc[df2[\"name\"] == 'Cherry']\n",
    "#print(cherry)\n",
    "(cherry.iloc[0]['family']) , (cherry.iloc[0]['genus'])"
   ]
  },
  {
   "cell_type": "markdown",
   "id": "057000f4-091e-4b3c-b2ed-9a7c4987875b",
   "metadata": {},
   "source": [
    "Module 5 Summary: APIs and Data Collection\n",
    "\n",
    "* Simple APIs in Python are application programming interfaces that provide straightforward and easy-to-use methods for interacting with services, libraries, or data, often with minimal configuration or complexity.\n",
    "\n",
    "* An API lets two pieces of software talk to each other.\n",
    "\n",
    "* Using an API library in Python entails importing the library, calling its functions or methods to make HTTP requests, and parsing the responses to access data or services provided by the API.\n",
    "\n",
    "* Pandas API processes the data by communicating with the other software components.\n",
    "\n",
    "* An Instance forms when you create a dictionary and then use the DataFrames constructor to create a Pandas object. \n",
    "\n",
    "* Method “head()” will display the mentioned number of rows from the top (default 5) of DataFrames, while method “mean()” will calculate the mean and return the values\n",
    "\n",
    "* Rest APIs allow you to communicate through the internet, taking advantage of resources like storage, access more data, AI algorithms, and so on.\n",
    "\n",
    "* HTTP methods transmit data over the internet.\n",
    "\n",
    "* An HTTP message typically includes a JSON file with instructions for operations.\n",
    "\n",
    "* HTTP messages containing JSON files are returned to the client as a response from web services.\n",
    "\n",
    "* Dealing with time series data involves using the Pandas time series function. \n",
    "\n",
    "* You can get data for daily candlesticks and plot the chart using Plotly with the candlestick plot. \n",
    "\n",
    "* The HTTP (HyperText Transfer Protocol) transfers data, including web pages and resources, between a client (a web browser) and a server on the World Wide Web.\n",
    "\n",
    "* The HTTP protocol is commonly used for implementing various types of REST APIs.\n",
    "\n",
    "* An HTTP response includes information like the type of resource, length of resource, and so on\n",
    "\n",
    "* Uniform resource locator (URL) is the most popular way to find resources on the web.\n",
    "\n",
    "* URL is divided into three parts: scheme, internet address or base URL, and route\n",
    "\n",
    "* The GET method is one of the popular methods of requesting information. Some other methods may also include the body.\n",
    "\n",
    "* Response method contains the version and body of the response.\n",
    "\n",
    "* POST submits data to the server, PUT updates data already on the server, DELETE deletes data from the server\n",
    "\n",
    "    Requests is a Python library that allows you to send HTTP/1.1 requests\n",
    "\n",
    "* You can modify the results of your query with the GET method.\n",
    "\n",
    "* You can obtain multiple requests from a URL like name, ID, and so on with a Query string.\n",
    "\n",
    "* Web scraping in Python involves extracting and parsing data from websites to gather information for various applications, using libraries like Beautiful Soup and requests.\n",
    "\n",
    "* HTML comprises text surrounded by blue text elements enclosed in angular brackets called tags.\n",
    "\n",
    "* You can select an HTML element on a web page to inspect the webpage.\n",
    "\n",
    "* Web pages may also contain CSS and JavaScript along with HTML elements.\n",
    "\n",
    "* Each HTML document is like an HTML Tree, which may contain strings and other tags.\n",
    "\n",
    "* Each HTML table is comprised of table tags and is structured with elements such as rows, headers, body and so on.\n",
    "\n",
    "* Tabular data can also be extracted from web pages using the `read_html` method in Pandas.\n",
    "\n",
    "* Beautiful Soup in Python is a library for parsing and navigating HTML and XML documents, making extracting, and manipulating data from web pages more accessible.\n",
    "\n",
    "* To parse a document, pass it through the Beautiful Soup constructor to get a beautiful soup object representing the document as a nested data structure.\n",
    "\n",
    "* Beautiful soup represents HTML as a set of tree-like objects with methods to parse the HTML.\n",
    "\n",
    "* Navigable string is like a Python string that supports beautiful soup functionality.\n",
    "\n",
    "* find_all is a method used to extract content based on the tag’s name, its attributes, the text of a string, or some combination of these.\n",
    "\n",
    "* The find_all method looks through a tag’s descendants and retrieves all descendants that match your filters.\n",
    "\n",
    "* The result is a Python iterable like a list.\n",
    "\n",
    "* File formats refer to the specific structure and encoding rules used to store and represent data in files, such as .txt for plain text or .csv for comma-separated values.\n",
    "\n",
    "* Python works with different file formats such as CSV, XML, JSON, xlsx, and so on\n",
    "\n",
    "* The extension of a file name will let you know what type of file it is and what it needs to open with.\n",
    "\n",
    "* To access data from CSV files, we can use Python libraries such as Pandas.\n",
    "\n",
    "* Similarly, different methods help parse JSON, XML, and other files."
   ]
  },
  {
   "cell_type": "markdown",
   "id": "f5e1c6b7-dc10-4c23-8c03-fc4135348a81",
   "metadata": {},
   "source": [
    "# Extra entries"
   ]
  },
  {
   "cell_type": "code",
   "execution_count": 255,
   "id": "f9414db9-e72a-4b7c-8571-3b1d27908b7e",
   "metadata": {},
   "outputs": [
    {
     "data": {
      "text/plain": [
       "array([[2, 1],\n",
       "       [1, 2]])"
      ]
     },
     "execution_count": 255,
     "metadata": {},
     "output_type": "execute_result"
    }
   ],
   "source": [
    "X=np.array([[1,0],[0,1]]) \n",
    "\n",
    "Y=np.array([[2,1],[1,2]]) \n",
    "\n",
    "Z=np.dot(X,Y) \n",
    "Z"
   ]
  },
  {
   "cell_type": "markdown",
   "id": "034eab6d-de2e-412d-b3ee-8b53ee8924dc",
   "metadata": {},
   "source": [
    "# Saving"
   ]
  },
  {
   "cell_type": "code",
   "execution_count": 256,
   "id": "1708668d-750a-421e-a2b6-d168ed422733",
   "metadata": {},
   "outputs": [
    {
     "name": "stderr",
     "output_type": "stream",
     "text": [
      "[NbConvertApp] Converting notebook P4DSNotes.ipynb to html\n",
      "[NbConvertApp] Writing 6555076 bytes to P4DSNotes.html\n"
     ]
    }
   ],
   "source": [
    "try:\n",
    "    !jupyter nbconvert P4DSNotes.ipynb --to html --template pj\n",
    "except Exception as e:\n",
    "    print('HTML not stored')"
   ]
  },
  {
   "cell_type": "code",
   "execution_count": 257,
   "id": "d9e2747e-6f0c-4cb9-a3b7-dd592a277c92",
   "metadata": {
    "editable": true,
    "slideshow": {
     "slide_type": ""
    },
    "tags": []
   },
   "outputs": [
    {
     "name": "stdout",
     "output_type": "stream",
     "text": [
      "P4DSNotes.html deleted in C:/Users/Gamaliel/Documents/MEGAsync/BC/Conducta visual/Data_Science_Notes/\n",
      "P4DSNotes.html replaced in C:/Users/Gamaliel/Documents/MEGAsync/BC/Conducta visual/Data_Science_Notes/\n"
     ]
    }
   ],
   "source": [
    "import shutil\n",
    "import os\n",
    "\n",
    "\n",
    "\n",
    "#file2=Tofld+'P4DSNotes.html'\n",
    "# The line above copies files from A -> B\n",
    "#shutil.copy(os.path.join(FromFld,fileh), Tofld)\n",
    "# The line above copies all the content from A -> B\n",
    "#shutil.copytree(FromFld, Tofld)\n",
    "import shutil\n",
    "FromFld='C:/Users/Gamaliel/Documents/G/ADD/IBM_DS/Python4DS/Mine/'\n",
    "Tofld='C:/Users/Gamaliel/Documents/MEGAsync/BC/Conducta visual/Data_Science_Notes/'\n",
    "fileh='P4DSNotes.html'\n",
    "filep='P4DSNotes.pdf'\n",
    "try:\n",
    "    if os.path.isfile(Tofld+'/'+fileh):\n",
    "        os.remove(Tofld+'/'+fileh)\n",
    "        print(fileh, 'deleted in', Tofld)\n",
    "        shutil.move(os.path.join(FromFld,fileh),os.path.join(Tofld,fileh))\n",
    "        print(fileh, 'replaced in', Tofld)\n",
    "    else:\n",
    "        shutil.move(os.path.join(FromFld,fileh),os.path.join(Tofld,fileh))\n",
    "        print(fileh, 'written in', Tofld)\n",
    "except Exception as e:\n",
    "    print('HTML not moved')"
   ]
  },
  {
   "cell_type": "code",
   "execution_count": 258,
   "id": "87e168c3-5c5f-4a77-8691-6e554aba4e35",
   "metadata": {},
   "outputs": [],
   "source": [
    "#FromFld='C:/Users/Gamaliel/Documents/G/ADD/IBM_DS/Python4DS/IBMs-NBs/'\n",
    "#os.chdir(FromFld)\n",
    "#!jupyter execute HTMLs.ipynb --allow-errors"
   ]
  },
  {
   "cell_type": "code",
   "execution_count": null,
   "id": "b44be3b9-454a-4ee7-8919-32c7ca45786d",
   "metadata": {},
   "outputs": [],
   "source": []
  }
 ],
 "metadata": {
  "kernelspec": {
   "display_name": "Python 3 (ipykernel)",
   "language": "python",
   "name": "python3"
  },
  "language_info": {
   "codemirror_mode": {
    "name": "ipython",
    "version": 3
   },
   "file_extension": ".py",
   "mimetype": "text/x-python",
   "name": "python",
   "nbconvert_exporter": "python",
   "pygments_lexer": "ipython3",
   "version": "3.12.7"
  }
 },
 "nbformat": 4,
 "nbformat_minor": 5
}
