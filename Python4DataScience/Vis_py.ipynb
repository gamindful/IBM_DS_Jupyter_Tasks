{
 "cells": [
  {
   "cell_type": "raw",
   "id": "5593fbd6-e193-47dc-8f5b-581a1e32a5c2",
   "metadata": {},
   "source": [
    "title: 'Python-SQL notes'\n",
    "author: 'Gamaliel Mendoza'\n",
    "date: \"{{ datetime.now().strftime('%Y-%m-%d %H:%M:%S') }}\""
   ]
  },
  {
   "cell_type": "code",
   "execution_count": null,
   "id": "99dec76d-32c4-46fe-b50b-4c186b04e905",
   "metadata": {},
   "outputs": [],
   "source": []
  },
  {
   "cell_type": "code",
   "execution_count": 135,
   "id": "8ba2ddce-438e-4626-9e82-165500cb5cc1",
   "metadata": {},
   "outputs": [
    {
     "name": "stderr",
     "output_type": "stream",
     "text": [
      "[NbConvertApp] Converting notebook Data_Analysis_Notes.ipynb to html\n",
      "[NbConvertApp] Writing 6841332 bytes to Data_Analysis_Notes.html\n"
     ]
    }
   ],
   "source": [
    "try:\n",
    "    !jupyter nbconvert Vis_py.ipynb --to html --template pj\n",
    "except Exception as e:\n",
    "    print('HTML not stored')"
   ]
  },
  {
   "cell_type": "code",
   "execution_count": 136,
   "id": "9203d6e6-6175-451c-bc02-f050f9eef550",
   "metadata": {},
   "outputs": [
    {
     "name": "stdout",
     "output_type": "stream",
     "text": [
      "Data_Analysis_Notes.html deleted in C:\\Users\\Gamaliel\\Documents\\G\\ADD\\IBM_DS\\IBM_DS_Jupyter_Tasks\\Python4DataScience\\\n",
      "Data_Analysis_Notes.html replaced in C:\\Users\\Gamaliel\\Documents\\G\\ADD\\IBM_DS\\IBM_DS_Jupyter_Tasks\\Python4DataScience\\\n",
      "Data_Analysis_Notes.ipynb deleted in C:\\Users\\Gamaliel\\Documents\\G\\ADD\\IBM_DS\\IBM_DS_Jupyter_Tasks\\Python4DataScience\\\n",
      "Data_Analysis_Notes.ipynb copied in C:\\Users\\Gamaliel\\Documents\\G\\ADD\\IBM_DS\\IBM_DS_Jupyter_Tasks\\Python4DataScience\\\n"
     ]
    }
   ],
   "source": [
    "import shutil\n",
    "import os\n",
    "import shutil\n",
    "FromFld='C:\\\\Users\\\\Gamaliel\\\\Documents\\\\G\\\\ADD\\\\IBM_DS\\\\Visualization\\\\'\n",
    "Tofld='C:\\\\Users\\\\Gamaliel\\\\Documents\\\\G\\\\ADD\\\\IBM_DS\\\\IBM_DS_Jupyter_Tasks\\\\Python4DataScience\\\\'\n",
    "HTML_Notes='Vis_py.html'\n",
    "Jupyter_Notes='Vis_py.ipynb'\n",
    "try:\n",
    "    if os.path.isfile(Tofld+'/'+HTML_Notes):\n",
    "        os.remove(Tofld+'/'+HTML_Notes)\n",
    "        print(HTML_Notes, 'deleted in', Tofld)\n",
    "        shutil.move(os.path.join(FromFld,HTML_Notes),os.path.join(Tofld,HTML_Notes))\n",
    "        print(HTML_Notes, 'replaced in', Tofld)\n",
    "    else:\n",
    "        shutil.move(os.path.join(FromFld,HTML_Notes),os.path.join(Tofld,HTML_Notes))\n",
    "        print(HTML_Notes, 'written in', Tofld)\n",
    "except Exception as e:\n",
    "    print('HTML not moved')\n",
    "\n",
    "    # NB\n",
    "\n",
    "try:\n",
    "    if os.path.isfile(Tofld+'/'+Jupyter_Notes):\n",
    "        os.remove(Tofld+'/'+Jupyter_Notes)\n",
    "        print(Jupyter_Notes, 'deleted in', Tofld)\n",
    "        shutil.copy(os.path.join(FromFld,Jupyter_Notes),os.path.join(Tofld,Jupyter_Notes))\n",
    "        print(Jupyter_Notes, 'copied in', Tofld)\n",
    "    else:\n",
    "        shutil.copy(os.path.join(FromFld,Jupyter_Notes),os.path.join(Tofld,Jupyter_Notes))\n",
    "        print(Jupyter_Notes, 'copied in', Tofld)\n",
    "except Exception as e:\n",
    "    print('NB not moved')"
   ]
  }
 ],
 "metadata": {
  "kernelspec": {
   "display_name": "Python 3 (ipykernel)",
   "language": "python",
   "name": "python3"
  },
  "language_info": {
   "codemirror_mode": {
    "name": "ipython",
    "version": 3
   },
   "file_extension": ".py",
   "mimetype": "text/x-python",
   "name": "python",
   "nbconvert_exporter": "python",
   "pygments_lexer": "ipython3",
   "version": "3.12.7"
  }
 },
 "nbformat": 4,
 "nbformat_minor": 5
}
