{
 "cells": [
  {
   "cell_type": "markdown",
   "id": "8658f1b9-0e99-46ea-8d00-a222ad9740c0",
   "metadata": {},
   "source": [
    "# Data Science Tools and Ecosystem"
   ]
  },
  {
   "cell_type": "markdown",
   "id": "d7ef382d-fa3d-48d7-b905-3ffa59a7ca2a",
   "metadata": {},
   "source": [
    "# In this notebook, Data Science Tools and Ecosystem are summarized."
   ]
  },
  {
   "cell_type": "markdown",
   "id": "b171f30e-1766-4510-9177-2a1f72f8d8f9",
   "metadata": {},
   "source": [
    "# Some of the popular languages that Data Scientists use are:\n",
    "# 1. Python\n",
    "# 2. R \n",
    "# 3. SQL"
   ]
  },
  {
   "attachments": {},
   "cell_type": "markdown",
   "id": "2a24fb25-83bd-4af3-b191-5388b9919b7a",
   "metadata": {},
   "source": [
    "# Some of the commonly used libraries used by Data Scientists include:\n",
    "# 1. Numpy (Python)\n",
    "# 2. Pandas  (Python)\n",
    "# 3. Scikit-learn (Python)\n",
    "# 4. ggplot2 (R)\n",
    "# 5. caret (R)\n",
    "# 6. RSQLite (R)\n",
    "# 7. My SQL (SQL)\n",
    "# 8. PostgreSQL (SQL)"
   ]
  },
  {
   "cell_type": "markdown",
   "id": "60e8bafe-477b-4137-ae09-e1673f360494",
   "metadata": {},
   "source": [
    "| Data Science Tools |\n",
    "| --- |\n",
    "| Spyder (Anaconda) |\n",
    "| Rstudio|\n",
    "| IBM Watson|"
   ]
  },
  {
   "cell_type": "markdown",
   "id": "7cb966cf-f377-4eef-8f0f-2cc92f8459a5",
   "metadata": {},
   "source": [
    "### Below are a few examples of evaluating arithmetic expressions in Python"
   ]
  },
  {
   "cell_type": "code",
   "execution_count": 70,
   "id": "fc28bda2-28a8-48d5-99bc-92ee5ffda1c3",
   "metadata": {},
   "outputs": [
    {
     "data": {
      "text/plain": [
       "17"
      ]
     },
     "execution_count": 70,
     "metadata": {},
     "output_type": "execute_result"
    }
   ],
   "source": [
    "# This a simple arithmetic expression to mutiply then add integers\n",
    "(3*4)+5"
   ]
  },
  {
   "cell_type": "code",
   "execution_count": 64,
   "id": "8946ea58-75e4-41bd-8126-ba6c2b812b39",
   "metadata": {},
   "outputs": [
    {
     "data": {
      "text/plain": [
       "3.3333333333333335"
      ]
     },
     "execution_count": 64,
     "metadata": {},
     "output_type": "execute_result"
    }
   ],
   "source": [
    "# This will convert 200 minutes to hours by diving by 60\n",
    "200 / 60"
   ]
  },
  {
   "cell_type": "markdown",
   "id": "217637a5-cb15-4cc0-b77a-029812d1a56d",
   "metadata": {},
   "source": [
    "Objectives:\n",
    "* Getting started to jupyter lab\n",
    "* Getting started to RStudio\n",
    "* Getting started to Github "
   ]
  },
  {
   "cell_type": "markdown",
   "id": "e3ca3047-bf47-4994-91c8-1fd7e71a1f07",
   "metadata": {},
   "source": [
    "## Author\n",
    "Gamaliel Mendoza"
   ]
  },
  {
   "cell_type": "code",
   "execution_count": null,
   "id": "5295b89c-ab8f-4145-b58c-4776e87aa5fb",
   "metadata": {},
   "outputs": [],
   "source": []
  }
 ],
 "metadata": {
  "kernelspec": {
   "display_name": "Python 3 (ipykernel)",
   "language": "python",
   "name": "python3"
  },
  "language_info": {
   "codemirror_mode": {
    "name": "ipython",
    "version": 3
   },
   "file_extension": ".py",
   "mimetype": "text/x-python",
   "name": "python",
   "nbconvert_exporter": "python",
   "pygments_lexer": "ipython3",
   "version": "3.12.3"
  }
 },
 "nbformat": 4,
 "nbformat_minor": 5
}
